{
  "cells": [
    {
      "cell_type": "markdown",
      "metadata": {
        "id": "m2s4kN_QPQVe"
      },
      "source": [
        "# Введение в обучение с подкреплением  (Reinforcement Learning)\n",
        "\n",
        "\n",
        "<center>\n",
        "<img src=\"https://raw.githubusercontent.com/jcformanek/jcformanek.github.io/master/docs/assets/images/rl_in_space.png\" width=\"100%\" />\n",
        "</center>\n",
        "\n",
        "\n",
        "\n",
        "**Введение**\n",
        "\n",
        "На этом семинаре мы изучим обучение с подкреплением - тип машинного обучения без учителя, где агент учится выбирать действия, которые приводят к максимальному вознаграждению в долгосрочной перспективе. Обучение с подкреплением используется в широком спектре сложных задач, в том числе - в видеоиграх, например, [Atari](https://www.deepmind.com/blog/agent57-outperforming-the-human-atari-benchmark), [StarCraft II](https://www.deepmind.com/blog/alphastar-mastering-the-real-time-strategy-game-starcraft-ii) и [Dota II](https://openai.com/five/).\n",
        "\n",
        "На семинаре изучим классическую среду - [CartPole](https://www.gymlibrary.ml/environments/classic_control/cart_pole/), где агент должен научиться балансировать шестом на тележке (см лекцию), используя несколько различных подходов RL. По пути вы познакомитесь с некоторыми из самых важных концепций и терминологии в RL.\n",
        "\n",
        "**Темы:**\n",
        "* Reinforcement Learning (RL, Обучение с подкреплением)\n",
        "* Random Policy Search (Случайный поиск политики)\n",
        "* Policy Gradient (Градиент политики)\n",
        "* Q-Learning\n",
        "\n",
        "\n",
        "**Что надо сделать для лучшего понимания:**\n",
        "\n",
        "* почитать про библиотеку [JAX](https://github.com/google/jax).\n",
        "* вспомнить нейроки.\n",
        "\n"
      ]
    },
    {
      "cell_type": "markdown",
      "metadata": {
        "id": "6EqhIg1odqg0"
      },
      "source": [
        "### Настраиваем среду"
      ]
    },
    {
      "cell_type": "code",
      "execution_count": 177,
      "metadata": {
        "id": "4boGA9rYdt9l"
      },
      "outputs": [],
      "source": [
        "# @title Установка необходимых пакетов (надо просто запустить!) { display-mode: \"form\" }\n",
        "# @markdown Может занять несколько минут\n",
        "%%capture\n",
        "!pip install jaxlib\n",
        "!pip install jax\n",
        "!pip install git+https://github.com/deepmind/dm-haiku\n",
        "!pip install gym==0.25\n",
        "!pip install gym[box2d]\n",
        "!pip install optax\n",
        "!pip install matplotlib\n",
        "!pip install chex\n",
        "!pip install gym[classic_control]"
      ]
    },
    {
      "cell_type": "code",
      "execution_count": 178,
      "metadata": {
        "id": "gwbqggmcRjMy"
      },
      "outputs": [],
      "source": [
        "# @title Импорт необходимых пакетов (просто запустите ячейку) { display-mode: \"form\" }\n",
        "%%capture\n",
        "import copy\n",
        "from shutil import rmtree # deleting directories\n",
        "import random\n",
        "import collections # useful data structures\n",
        "import numpy as np\n",
        "import gym # reinforcement learning environments\n",
        "from gym.wrappers import RecordVideo\n",
        "import jax\n",
        "import jax.numpy as jnp # jax numpy\n",
        "import haiku as hk # jax neural network library\n",
        "import optax # jax optimizer library\n",
        "import matplotlib.pyplot as plt # graph plotting library\n",
        "from IPython.display import HTML\n",
        "from base64 import b64encode\n",
        "import chex\n",
        "\n",
        "# Hide warnings\n",
        "import warnings\n",
        "warnings.filterwarnings('ignore')"
      ]
    },
    {
      "cell_type": "markdown",
      "metadata": {
        "id": "-ZUp8i37dFbU"
      },
      "source": [
        "## 1. Ключевые концепции обучения с подкреплением\n",
        "\n",
        "Обучение с подкреплением (RL) является подразделом машинного обучения (ML). В отличие от таких областей, как контролируемое обучение, где мы даем примеры ожидаемого поведения нашим моделям, RL фокусируется на *целеориентированном* обучении из взаимодействий методом проб и ошибок. Алгоритмы RL изучают, что делать (т. е. какие оптимальные действия предпринять) в среде, чтобы максимизировать некий сигнал вознаграждения. В таких условиях, как видеоигра, сигналом вознаграждения может быть счет игры, т. е. алгоритмы RL будут пытаться максимизировать счет в игре, выбирая лучшие действия.\n",
        "\n",
        "<center>\n",
        "<img src=\"https://pettingzoo.farama.org/_images/environments-demo.gif\" width=\"40%\" />\n",
        "</center>\n",
        "\n",
        "[*Image Source*](https://pettingzoo.farama.org/)\n",
        "\n",
        "Другими словами, в RL у нас есть **агент**, который воспринимает **наблюдение** $o_t$ текущего состояния $s_t$ **окружающей среды** и должен выбрать **действие** $a_t$ для выполнения.\n",
        "\n",
        "Затем окружающая среда переходит в новое состояние $s_{t+1}$ в ответ на действие агента, а также дает агенту скалярное вознаграждение $r_t$, чтобы указать, насколько хорошим или плохим было выбранное действие, учитывая состояние окружающей среды.\n",
        "\n",
        "Целью в RL является максимизация агентом суммы вознаграждения, которое он получает от окружающей среды с течением времени. Нижний индекс $t$ используется для указания номера временного шага, т. е. $s_0$ - это состояние окружающей среды на начальном временном шаге, а $a_{99}$ - это действие агента на $99-м$ временном шаге."
      ]
    },
    {
      "cell_type": "markdown",
      "metadata": {
        "id": "Ghgy69hFRjMz"
      },
      "source": [
        "### Среда - OpenAI Gym\n",
        "Как упоминалось выше, среда получает от агента действие $a_t$ и возвращает вознаграждение $r_t$ и наблюдение $o_t$.\n",
        "\n",
        "OpenAI разработал пакет для Python под названием **Gym**, который включает реализации популярных сред и простой интерфейс для взаимодействия агента RL. Чтобы использовать поддерживаемую [среду gym](https://www.gymlibrary.ml/), все, что вам нужно сделать, это передать имя среды в функцию  `gym.make(<environment_name>)`.\n",
        "\n",
        "В этом уроке мы будем использовать простую среду под названием **CartPole**. В CartPole задача агента — научиться балансировать на шесте как можно дольше, перемещая тележку *влево* или *вправо*.\n",
        "\n",
        "<img src=\"https://user-images.githubusercontent.com/10854026/32486103-f15f19de-c3a5-11e7-81de-0605df939497.gif\" width=\"50%\" />"
      ]
    },
    {
      "cell_type": "code",
      "execution_count": 179,
      "metadata": {
        "id": "WfxzajMYRjMz"
      },
      "outputs": [],
      "source": [
        "# Create the environment\n",
        "env_name = \"CartPole-v0\"\n",
        "env = gym.make(env_name)"
      ]
    },
    {
      "cell_type": "markdown",
      "metadata": {
        "id": "y_BbftaJj3zu"
      },
      "source": [
        "### Состояние (States) и Наблюдение (Observations) - $s_t$ and $o_t$\n",
        "\n",
        "В RL агент воспринимает наблюдение за состоянием среды. В некоторых настройках наблюдение может включать всю информацию, лежащую в основе состояния среды. Такая среда называется **полностью наблюдаемой**. В других настройках агент может получать только частичную информацию о состоянии среды в своем наблюдении. Такая среда называется **частично наблюдаемой**.\n",
        "\n",
        "В оставшейся части этого руководства мы будем предполагать, что среда полностью наблюдаема, и поэтому будем использовать состояние $s_t$ и наблюдение $o_t$ взаимозаменяемо. В Gym мы получаем начальное наблюдение из среды, вызывая функцию `env.reset()`."
      ]
    },
    {
      "cell_type": "code",
      "execution_count": 180,
      "metadata": {
        "colab": {
          "base_uri": "https://localhost:8080/"
        },
        "id": "HdS8nqOgRjM0",
        "outputId": "ab13c886-627c-44fc-edd6-4bb427cc239b"
      },
      "outputs": [
        {
          "output_type": "stream",
          "name": "stdout",
          "text": [
            "Initial State:: [ 0.03578054 -0.04170273 -0.01556857  0.02238986]\n",
            "Environment Obs Space Shape: (4,)\n"
          ]
        }
      ],
      "source": [
        "# Reset the environment\n",
        "s_0 = env.reset()\n",
        "print(\"Initial State::\", s_0)\n",
        "\n",
        "# Get environment obs space\n",
        "obs_shape = env.observation_space.shape\n",
        "print(\"Environment Obs Space Shape:\", obs_shape)"
      ]
    },
    {
      "cell_type": "markdown",
      "metadata": {
        "id": "pUNX6mbotABo"
      },
      "source": [
        "В CartPole состояние окружающей среды представлено четырьмя числами: *угловое положение полюса, угловая скорость полюса, положение тележки, скорость тележки*."
      ]
    },
    {
      "cell_type": "markdown",
      "metadata": {
        "id": "hL1Nkgy7nUfn"
      },
      "source": [
        "### Действия (Actions) - $a_t$\n",
        "\n",
        "В RL действия обычно либо **дискретные**, либо **непрерывные**. Непрерывные действия задаются вектором действительных чисел. Дискретные действия задаются целочисленным значением. В средах, где мы можем подсчитать конечный набор действий, мы обычно используем дискретные действия.\n",
        "\n",
        "В CartPole есть только два действия: *влево* и *вправо*. Таким образом, действия могут быть представлены целыми числами $0$ и $1$. В gym мы можем легко получить список возможных действий следующим образом:"
      ]
    },
    {
      "cell_type": "code",
      "execution_count": 181,
      "metadata": {
        "colab": {
          "base_uri": "https://localhost:8080/"
        },
        "id": "uOLZqU_LpIXh",
        "outputId": "b64a4c81-b668-4f61-d98e-1e6b41fa2230"
      },
      "outputs": [
        {
          "output_type": "stream",
          "name": "stdout",
          "text": [
            "Environment action space: Discrete(2)\n",
            "Number of actions: 2\n"
          ]
        }
      ],
      "source": [
        "# Get action space - e.g. discrete or continuous\n",
        "print(f\"Environment action space: {env.action_space}\")\n",
        "\n",
        "# Get num actions\n",
        "num_actions = env.action_space.n\n",
        "print(f\"Number of actions: {num_actions}\")"
      ]
    },
    {
      "cell_type": "markdown",
      "metadata": {
        "id": "tRsflxbDpoPm"
      },
      "source": [
        "### Политика агента (The Agent's Policy) - $\\pi$\n",
        "\n",
        "В RL агент выбирает действия на основе полученных наблюдений. Мы можем представить процесс выбора действия агента как функцию, которая принимает наблюдение в качестве входных данных и возвращает действие в качестве выходных данных. В RL мы обычно называем эту функцию **политикой** агента и обозначаем ее $\\pi(s_t)=a_t$. В RL мы обычно параметризуем нашу политику каким-либо образом, а затем пытаемся узнать оптимальные параметры. Параметризованная политика обычно обозначается $\\pi_\\theta$, где $\\theta$ — это набор параметров.\n",
        "\n",
        "**Упражнение 1:** В качестве упражнения давайте реализуем простую политику, которая принимает набор параметров и наблюдение в качестве входных данных и возвращает действие. Предположим, что наблюдение — это вектор из четырех чисел, как наблюдение CartPole, и что действие должно быть либо $0$, либо $1$. Предположим также, что параметры — это вектор из четырех действительных чисел. Тогда действие должно быть вычислено следующим образом.\n",
        "\n",
        "\n",
        "1. Вычислите [скалярное произведение векторов](https://www.mathsisfun.com/algebra/vectors-dot-product.html) между наблюдением и параметрами.\n",
        "2. Если результат больше нуля, верните действие $1$.\n",
        "3. В противном случае верните действие $0$.\n",
        "\n",
        "В этом упражнении мы постараемся использовать JAX как можно чаще. Поэтому постарайтесь использовать методы JAX для этой задачи. Ниже приведены некоторые полезные методы, которые вы можете использовать. Вам нужно будет завершить код в блоке ниже, заменив `...` правильным кодом.\n",
        "\n",
        "\n",
        "**Полезные методы:**\n",
        "* Вычислите скалярное произведение векторов с помощью `jax.numpy.dot` ([docs](https://jax.readthedocs.io/en/latest/_autosummary/jax.numpy.dot.html)).\n",
        "\n",
        "* Когда вы пытаетесь условно присвоить значение $0$ или $1$ действию на основе результата скалярного произведения, вам следует использовать `jax.lax.select` ([docs](https://jax.readthedocs.io/en/latest/_autosummary/jax.lax.select.html#jax.lax.select)).\n",
        "\n",
        "Метод `jax.lax.select` принимает три аргумента в качестве входных данных. Первый аргумент — это оператор, который будет оцениваться как `True` или `False`.\n",
        "\n",
        "Если оператор равен `True`, то `jax.lax.select` вернет свой второй аргумент.\n",
        "\n",
        "Если оператор имеет значение `False`, `jax.lax.select` вернет свой третий аргумент.\n",
        "\n"
      ]
    },
    {
      "cell_type": "code",
      "execution_count": 214,
      "metadata": {
        "id": "KSGCd7XB1z8k"
      },
      "outputs": [],
      "source": [
        "def linear_policy(params, obs):\n",
        "  \"\"\"A simple linear policy\n",
        "\n",
        "  Args:\n",
        "    params: a vector of four real-numbers that give the parameters of the policy\n",
        "    obs: a vector of four real-numbers that give the agent's observation\n",
        "\n",
        "  Returns:\n",
        "    a discrete action given by a 0 or 1\n",
        "  \"\"\"\n",
        "  # YOUR CODE\n",
        "  dot_product_result = jax.numpy.dot(params, obs)\n",
        "\n",
        "  action = jax.lax.select(\n",
        "      dot_product_result > 0, # boolean statement goes here\n",
        "      1, # result when the statement is True goes here\n",
        "      0, # result when the statement is False goes here\n",
        "  )\n",
        "  # END YOUR CODE\n",
        "  return action"
      ]
    },
    {
      "cell_type": "code",
      "execution_count": 215,
      "metadata": {
        "colab": {
          "base_uri": "https://localhost:8080/"
        },
        "id": "9EnnBvceb1f3",
        "outputId": "caa1bd54-76e1-4a06-8dc4-6d79c518c537"
      },
      "outputs": [
        {
          "output_type": "stream",
          "name": "stdout",
          "text": [
            "Your function is correct!\n"
          ]
        }
      ],
      "source": [
        "# @title Проверка упр 1  { display-mode: \"form\" }\n",
        "\n",
        "def check_linear_policy(linear_policy):\n",
        "  fixed_obs = jnp.array([1,1,2,4])\n",
        "\n",
        "  # check case1 - negative dot product.\n",
        "  # weights\n",
        "  params1 = jnp.array([1,1,1,1])\n",
        "  params2 = jnp.array([-1,-1,-1,-1])\n",
        "\n",
        "  hint1 = f\"Неправильный ответ, ваша линейная политика неверна. Действие при \\\n",
        "obs={fixed_obs} и params={params1} должно быть 1\"\n",
        "\n",
        "  hint2 = f\"Неправильный ответ, ваша линейная политика неверна. Действие при \\\n",
        "obs={fixed_obs} и params={params2} должно быть 0\"\n",
        "\n",
        "  hint = None\n",
        "  if linear_policy(params1, fixed_obs) != 1:\n",
        "    hint = hint1\n",
        "  elif linear_policy(params2, fixed_obs) != 0:\n",
        "    hint = hint2\n",
        "\n",
        "  if hint is not None:\n",
        "    print(hint)\n",
        "  else:\n",
        "    print(\"Your function is correct!\")\n",
        "\n",
        "try:\n",
        "  check_linear_policy(linear_policy)\n",
        "except Exception as e:\n",
        "    print(\"An Error Occured: {}\".format(e))"
      ]
    },
    {
      "cell_type": "markdown",
      "metadata": {
        "id": "PkuvT-jf6Ieh"
      },
      "source": [
        "### Функция перехода среды - $P$\n",
        "\n",
        "Теперь, когда у нас есть политика, мы можем передавать действия от агента среде. Затем среда перейдет в новое состояние в ответ на действие агента.\n",
        "\n",
        "В RL мы моделируем этот процесс с помощью **функции перехода состояния** $P$, которая принимает текущее состояние $s_t$ и действие $a_t$ в качестве входных данных и возвращает следующее состояние $s_{t+1}$ в качестве выходных данных:\n",
        "\n",
        "<center>\n",
        "$s_{t+1}=P(s_t, a_t)$\n",
        "</center>\n",
        "\n",
        "В gym мы можем передавать действия среде, вызывая функцию `env.step(<action>)`. Затем функция вернет четыре значения:\n",
        "- **следующее наблюдение**\n",
        "- **награду** за выполненное действие\n",
        "- логический флаг, указывающий, **завершена** игра\n",
        "- некоторую **дополнительную** информацию."
      ]
    },
    {
      "cell_type": "code",
      "execution_count": 203,
      "metadata": {
        "colab": {
          "base_uri": "https://localhost:8080/"
        },
        "id": "hh0j9-Tk7olb",
        "outputId": "72020579-8c02-49c7-f69d-4dd5ed677243"
      },
      "outputs": [
        {
          "output_type": "stream",
          "name": "stdout",
          "text": [
            "Observation: [ 0.0273956  -0.00611216  0.03585979  0.0197368 ]\n",
            "Action: 0\n",
            "Next observation: [ 0.02727336 -0.20172954  0.03625453  0.32351476]\n",
            "Reward: 1.0\n",
            "Game is done: False\n"
          ]
        }
      ],
      "source": [
        "# Get the initial obs by resetting the env\n",
        "env.action_space.seed(42)\n",
        "initial_obs = env.reset(seed=42)\n",
        "\n",
        "\n",
        "# Randomly sample actions from env\n",
        "action = env.action_space.sample()\n",
        "\n",
        "# Step the environment\n",
        "next_obs, reward, done, info = env.step(action)\n",
        "\n",
        "print(\"Observation:\", initial_obs)\n",
        "print(\"Action:\", action)\n",
        "print(\"Next observation:\", next_obs)\n",
        "print(\"Reward:\", reward)\n",
        "print(\"Game is done:\", done)"
      ]
    },
    {
      "cell_type": "markdown",
      "metadata": {
        "id": "bX9iZtu48UYn"
      },
      "source": [
        "### Возврат эпизода - $R_t$\n",
        "\n",
        "В RL мы обычно разбиваем взаимодействие агента с окружающей средой на **эпизоды**. Сумма всех вознаграждений, собранных во время эпизода, - это то, что мы называем **возвратом** эпизода - $R_t$:\n",
        "\n",
        "<center>\n",
        "$R_t=\\sum_{t=0}^Tr_t$,\n",
        "</center>\n",
        "\n",
        "где $r_t$ - это вознаграждение в момент времени $t$, а $T$ - это последний временной шаг. Цель в RL - выбрать действия, которые максимизируют этот ожидаемый будущий возврат $R_t$."
      ]
    },
    {
      "cell_type": "markdown",
      "metadata": {
        "id": "y6KZA1Nq9p47"
      },
      "source": [
        "### Цикл агент-среда\n",
        "Теперь, когда мы знаем, что такое политика, и знаем, как пошагово проходить среду, давайте закроем цикл агент-среда.\n",
        "\n",
        "**Упражнение 2:** Напишите функцию, которая запускает один эпизод CartPole, последовательно выбирая действия и пошагово проходя среду. Вам следует использовать линейную политику, которую мы определили ранее, для выбора действий. Функция должна отслеживать полученное вознаграждение и выводить возврат в конце эпизода.\n",
        "\n",
        "В CartPole агент получает вознаграждение `1` за каждый временной шаг, когда шест все еще стоит вертикально. Если шест падает, игра заканчивается, и агент больше не получает вознаграждения. Игра также заканчивается после `200` временных шагов, поэтому максимальное вознаграждение, которое может получить агент, составляет `200`."
      ]
    },
    {
      "cell_type": "code",
      "execution_count": 9,
      "metadata": {
        "id": "Buy0X7mi-gHP"
      },
      "outputs": [],
      "source": [
        "def run_episode(env):\n",
        "  episode_return = 0 # counter to keep track of rewards\n",
        "  done = False # initially set to False\n",
        "  params = jnp.array([1,-2,2,-1]) # fixed policy parameters\n",
        "\n",
        "  ## YOUR CODE\n",
        "\n",
        "  obs = env.observation_space # TODO: get the initial obs from the env\n",
        "\n",
        "  while not done: # loop until episode is done\n",
        "\n",
        "    action = env.action_space.sample() # TODO: compute action using linear policy\n",
        "    action = np.array(action) # We need to the convert the action from the policy to a np.array\n",
        "\n",
        "    obs, reward, done, info = env.step(action) # TODO: step the environment\n",
        "\n",
        "    episode_return += reward # TODO: add reward to episode return\n",
        "\n",
        "  return episode_return"
      ]
    },
    {
      "cell_type": "code",
      "execution_count": null,
      "metadata": {
        "colab": {
          "background_save": true,
          "base_uri": "https://localhost:8080/"
        },
        "id": "bA2Orj9PVbKO",
        "outputId": "7a440cd4-0c4c-416d-91c0-13a46d1ad7f4"
      },
      "outputs": [
        {
          "name": "stdout",
          "output_type": "stream",
          "text": [
            "29.0\n",
            "Looks like your implementation might be wrong.\n"
          ]
        }
      ],
      "source": [
        "# @title Проверка упр 2 (run me) { display-mode: \"form\" }\n",
        "\n",
        "try:\n",
        "  env.seed(42)\n",
        "  n = run_episode(env)\n",
        "  print(n)\n",
        "  if n == 30:\n",
        "    print(\"Looks correct!\")\n",
        "  else:\n",
        "    print(\"Looks like your implementation might be wrong.\")\n",
        "except Exception as e:\n",
        "    print(\"An Error Occured: {}\".format(e))"
      ]
    },
    {
      "cell_type": "markdown",
      "metadata": {
        "id": "fUGdzHxJnZGl"
      },
      "source": [
        "В CartPole среда считается решенной, когда агент может надежно достичь возврата эпизода 500. Как вы можете видеть, наша текущая политика далека от оптимальной.\n",
        "\n",
        "Один из способов найти оптимальную политику — это случайным образом пробовать разные политики, пока не найдем оптимальную. Эта стратегия называется случайным поиском политики и может быть на удивление эффективной.\n",
        "\n",
        "Прежде чем мы реализуем случайный поиск политики, давайте быстро рассмотрим общий цикл обучения RL, который мы будем использовать для реализации алгоритмов в оставшейся части этого руководства.\n",
        "\n",
        "### Цикл обучения RL общего назначения\n",
        "Мы реализовали для вас цикл обучения RL общего назначения. Цикл обучения принимает несколько аргументов в качестве входных данных, но три наиболее важных для понимания — это `agent_select_action_func`, `agent_learn_func` и `agent_memory`.\n",
        "\n",
        "* `agent_select_action_func` — это функция, которую мы определяем и можем передать в цикл обучения. Функция принимает наблюдение и набор `agent_params` в качестве входных данных и должна возвращать действие.\n",
        "* `agent_learn_func` — это еще один метод, который мы определяем и передаем в цикл обучения. Он должен принимать параметры агента и некоторые «воспоминания» в качестве входных данных, а затем обновлять и возвращать агентам новые параметры.\n",
        "* `agent_memory` — это модуль общего назначения, который мы определяем, который может хранить некоторую релевантную информацию об опыте агента в среде, которую можно использовать в `agent_learn_func`.\n",
        "\n",
        "Ниже приведена функция цикла обучения, которую мы реализовали для вас. Вы можете просмотреть код и попытаться понять его, но это не обязательно. Таким образом, мы скрыли код по умолчанию, просто убедитесь, что вы запустили ячейку кода, прежде чем двигаться дальше, потому что цикл обучения далее в коде."
      ]
    },
    {
      "cell_type": "code",
      "execution_count": 274,
      "metadata": {
        "id": "ZWBwz3zMRjM0"
      },
      "outputs": [],
      "source": [
        "#@title Training loop (run me) { display-mode: \"form\" }\n",
        "\n",
        "# NamedTuple to store transitions\n",
        "Transition = collections.namedtuple(\"Transition\", [\"obs\", \"action\", \"reward\", \"next_obs\", \"done\"])\n",
        "\n",
        "# Training Loop\n",
        "def run_training_loop(env_name, agent_params, agent_select_action_func,\n",
        "    agent_actor_state=None, agent_learn_func=None, agent_learner_state=None,\n",
        "    agent_memory=None, num_episodes=1000, evaluator_period=100,\n",
        "    evaluation_episodes=8, learn_steps_per_episode=1,\n",
        "    train_every_timestep=False, video_subdir=\"\",):\n",
        "    \"\"\"\n",
        "    This function runs several episodes in an environment and periodically does\n",
        "    some agent learning and evaluation.\n",
        "\n",
        "    Args:\n",
        "        env: a gym environment.\n",
        "        agent_params: an object to store parameters that the agent uses.\n",
        "        agent_select_func: a function that does action selection for the agent.\n",
        "        agent_actor_state (optional): an object that stores the internal state\n",
        "            of the agents action selection function.\n",
        "        agent_learn_func (optional): a function that does some learning for the\n",
        "            agent by updating the agent parameters.\n",
        "        agent_learn_state (optional): an object that stores the internal state\n",
        "            of the agent learn function.\n",
        "        agent_memory (optional): an object for storing an retrieving historical\n",
        "            experience.\n",
        "        num_episodes: how many episodes to run.\n",
        "        evaluator_period: how often to run evaluation.\n",
        "        evaluation_episodes: how many evaluation episodes to run.\n",
        "        train_every_timestep: whether to train every timestep rather than at the end\n",
        "            of the episode.\n",
        "        video_subdir: subdirectory to store epsiode recordings.\n",
        "\n",
        "    Returns:\n",
        "        episode_returns: list of all the episode returns.\n",
        "        evaluator_episode_returns: list of all the evaluator episode returns.\n",
        "    \"\"\"\n",
        "\n",
        "    # Setup Cartpole environment and recorder\n",
        "    env = gym.make(env_name, render_mode=\"rgb_array\") # training environment\n",
        "    eval_env = gym.make(env_name, render_mode=\"rgb_array\") # evaluation environment\n",
        "\n",
        "    # Video dir\n",
        "    video_dir = \"./video\"+\"/\"+video_subdir\n",
        "\n",
        "    # Clear video dir\n",
        "    try:\n",
        "      rmtree(video_dir)\n",
        "    except:\n",
        "      pass\n",
        "\n",
        "    # Wrap in recorder\n",
        "    env = RecordVideo(env, video_dir+\"/train\", episode_trigger=lambda x: (x % evaluator_period) == 0)\n",
        "    eval_env = RecordVideo(eval_env, video_dir+\"/eval\", episode_trigger=lambda x: (x % evaluation_episodes) == 0)\n",
        "\n",
        "    # JAX random number generator\n",
        "    rng = hk.PRNGSequence(jax.random.PRNGKey(0))\n",
        "    env.seed(0) # seed environment for reproducability\n",
        "    random.seed(0)\n",
        "\n",
        "    episode_returns = [] # List to store history of episode returns.\n",
        "    evaluator_episode_returns = [] # List to store history of evaluator returns.\n",
        "    timesteps = 0\n",
        "    for episode in range(num_episodes):\n",
        "\n",
        "        # Reset environment.\n",
        "        obs = env.reset()\n",
        "        episode_return = 0\n",
        "        done = False\n",
        "\n",
        "        while not done:\n",
        "\n",
        "            # Agent select action.\n",
        "            action, agent_actor_state = agent_select_action_func(\n",
        "                                            next(rng),\n",
        "                                            agent_params,\n",
        "                                            agent_actor_state,\n",
        "                                            np.array(obs)\n",
        "                                        )\n",
        "\n",
        "            # Step environment.\n",
        "            next_obs, reward, done, _ = env.step(int(action))\n",
        "\n",
        "            # Pack into transition.\n",
        "            transition = Transition(obs, action, reward, next_obs, done)\n",
        "\n",
        "            # Add transition to memory.\n",
        "            if agent_memory: # check if agent has memory\n",
        "              agent_memory.push(transition)\n",
        "\n",
        "            # Add reward to episode return.\n",
        "            episode_return += reward\n",
        "\n",
        "            # Set obs to next obs before next environment step. CRITICAL!!!\n",
        "            obs = next_obs\n",
        "\n",
        "            # Increment timestep counter\n",
        "            timesteps += 1\n",
        "\n",
        "            # Maybe learn every timestep\n",
        "            if train_every_timestep and (timesteps % 4 == 0) and agent_memory and agent_memory.is_ready(): # Make sure memory is ready\n",
        "                # First sample memory and then pass the result to the learn function\n",
        "                memory = agent_memory.sample()\n",
        "                agent_params, agent_learner_state = agent_learn_func(\n",
        "                                                        next(rng),\n",
        "                                                        agent_params,\n",
        "                                                        agent_learner_state,\n",
        "                                                        memory\n",
        "                                                    )\n",
        "\n",
        "        episode_returns.append(episode_return)\n",
        "\n",
        "        # At the end of every episode we do a learn step.\n",
        "        if agent_memory and agent_memory.is_ready(): # Make sure memory is ready\n",
        "\n",
        "            for _ in range(learn_steps_per_episode):\n",
        "                # First sample memory and then pass the result to the learn function\n",
        "                memory = agent_memory.sample()\n",
        "                agent_params, agent_learner_state = agent_learn_func(\n",
        "                                                        next(rng),\n",
        "                                                        agent_params,\n",
        "                                                        agent_learner_state,\n",
        "                                                        memory\n",
        "                                                    )\n",
        "\n",
        "        if (episode % evaluator_period) == 0: # Do evaluation\n",
        "\n",
        "            evaluator_episode_return = 0\n",
        "            for eval_episode in range(evaluation_episodes):\n",
        "                obs = eval_env.reset()\n",
        "                done = False\n",
        "                while not done:\n",
        "                    action, _ = agent_select_action_func(\n",
        "                                    next(rng),\n",
        "                                    agent_params,\n",
        "                                    agent_actor_state,\n",
        "                                    np.array(obs),\n",
        "                                    evaluation=True\n",
        "                                )\n",
        "\n",
        "                    obs, reward, done, _ = eval_env.step(int(action))\n",
        "\n",
        "                    evaluator_episode_return += reward\n",
        "\n",
        "            evaluator_episode_return /= evaluation_episodes\n",
        "\n",
        "            evaluator_episode_returns.append(evaluator_episode_return)\n",
        "\n",
        "            logs = [\n",
        "                    f\"Episode: {episode}\",\n",
        "                    f\"Episode Return: {episode_return}\",\n",
        "                    f\"Average Episode Return: {np.mean(episode_returns[-20:])}\",\n",
        "                    f\"Evaluator Episode Return: {evaluator_episode_return}\"\n",
        "            ]\n",
        "\n",
        "            print(*logs, sep=\"\\t\") # Print the logs\n",
        "\n",
        "    env.close()\n",
        "    eval_env.close()\n",
        "\n",
        "    return episode_returns, evaluator_episode_returns"
      ]
    },
    {
      "cell_type": "markdown",
      "metadata": {
        "id": "CTPlIq4oDBPY"
      },
      "source": [
        "##2. Случайный поиск политики (RPS)\n",
        "В разделе 1 мы использовали фиксированный набор параметров для нашей политики. То есть мы не изучали параметры $\\pi$ $\\theta$, мы просто сохранили их фиксированными ( `params = [1,-2,2,-1]`).\n",
        "\n",
        "Теперь мы реализуем случайный поиск политики (RPS), который представляет собой алгоритм, который случайным образом пробует различные параметры политики и отслеживает лучшие параметры, найденные на данный момент. Мы скажем, что параметры политики $\\theta_A$ лучше параметров $\\theta_B$, если средний возврат эпизода, достигнутый за последние 20 эпизодов политикой с параметрами $\\theta_A$, больше, чем у политики с параметрами $\\theta_B$.\n",
        "\n",
        "Чтобы отслеживать «текущие» параметры, а также «лучшие» параметры, мы будем использовать [NamedTuple](https://www.geeksforgeeks.org/namedtuple-in-python/)."
      ]
    },
    {
      "cell_type": "code",
      "execution_count": 265,
      "metadata": {
        "colab": {
          "base_uri": "https://localhost:8080/"
        },
        "id": "1DcaC-PQRjM1",
        "outputId": "435d487f-1f24-4082-b357-e8d86b787bd2"
      },
      "outputs": [
        {
          "output_type": "stream",
          "name": "stdout",
          "text": [
            "Best params: [0. 0. 0. 0.]\n",
            "Current params: [-1. -1. -1. -1.]\n"
          ]
        }
      ],
      "source": [
        "# Parameter container for Random Policy Search\n",
        "RandomPolicySearchParams = collections.namedtuple(\"RandomPolicySearchParams\", [\"current\", \"best\"])\n",
        "\n",
        "# TEST: store two different sets of parameters\n",
        "current_params = np.ones(obs_shape) * -1\n",
        "best_params = np.zeros(obs_shape)\n",
        "rps_params = RandomPolicySearchParams(current_params, best_params)\n",
        "\n",
        "# How to access the best or current params.\n",
        "print(f\"Best params: {rps_params.best}\")\n",
        "print(f\"Current params: {rps_params.current}\")"
      ]
    },
    {
      "cell_type": "markdown",
      "metadata": {
        "id": "v91pDDzGex9a"
      },
      "source": [
        "Далее мы реализуем следующее:\n",
        "- **Функция выбора действия RPS** - определяет, как мы выбираем действия с учетом набора параметров.\n",
        "- **Модуль памяти RPS** - определяет, какой опыт хранить из взаимодействий со средой.\n",
        "- **Функция обучения RPS** - определяет, как мы обновляем и улучшаем параметры нашей политики."
      ]
    },
    {
      "cell_type": "markdown",
      "metadata": {
        "id": "0tExceGeGNYH"
      },
      "source": [
        "### Функция выбора действия RPS\n",
        "Давайте реализуем функцию с именем `random_policy_search_choose_action`, которую мы можем передать в цикл обучения. Функция должна принимать несколько аргументов, чтобы она могла хорошо взаимодействовать с нашим обобщенным циклом обучения, но вам нужно будет использовать только три из них - `params`, `obs` и `evaluation`.\n",
        "\n",
        "- `params` - это экземпляр `RandomPolicySearchParams` с \"current\" и \"best\".\n",
        "- `obs` - это последнее наблюдение из среды.\n",
        "- `evaluation` - это логическое значение, которое указывает, следует ли нам использовать параметры \"current\" или \"best\". Когда `evaluation==True`, мы должны использовать параметры \"best\", в противном случае мы должны использовать параметры \"current\".\n",
        "\n",
        "**Упражнение 3:** Реализуйте функцию `random_policy_search_choose_action`, как описано выше. Вам следует использовать метод `linear_policy`, который мы определили ранее. Вам также понадобится `jax.lax.select()` для условного возврата \"лучшего\" действия или \"текущего\" действия."
      ]
    },
    {
      "cell_type": "code",
      "execution_count": 266,
      "metadata": {
        "id": "1kmwT35JRjM1"
      },
      "outputs": [],
      "source": [
        "def random_policy_search_choose_action(\n",
        "    key,\n",
        "    params,\n",
        "    actor_state,\n",
        "    obs,\n",
        "    evaluation=False\n",
        "):\n",
        "  \"\"\"Random policy search select action method.\n",
        "\n",
        "  Args:\n",
        "    key: a random number (seed). Not used in this function.\n",
        "    params: the agent's parameters. In this case an instance of `RandomPolicySearchParams`\n",
        "    actor_state: some extra information about the actor. Not used in this function.\n",
        "    obs: the latest observation.\n",
        "    evaluation: a boolean indicating whether to use the best \"parameters\" or the \"current\" ones.\n",
        "\n",
        "  Returns:\n",
        "    The chosen action and the updated actor_state. In this function the actor_state is not updated.\n",
        "  \"\"\"\n",
        "\n",
        "  # YOUR CODE\n",
        "\n",
        "  best_action = linear_policy(params.best, obs)\n",
        "  current_action = linear_policy(params.current, obs)\n",
        "\n",
        "  action = jax.lax.select(\n",
        "      evaluation,\n",
        "      best_action,\n",
        "      current_action\n",
        "  )\n",
        "\n",
        "  # END YOUR CODE\n",
        "\n",
        "  return action, actor_state"
      ]
    },
    {
      "cell_type": "code",
      "execution_count": 267,
      "metadata": {
        "colab": {
          "base_uri": "https://localhost:8080/"
        },
        "id": "YE4xoAgyI3kG",
        "outputId": "73fddfa2-c096-4a70-ddcb-462f07765b4b"
      },
      "outputs": [
        {
          "output_type": "stream",
          "name": "stdout",
          "text": [
            "Your function looks correct.\n"
          ]
        }
      ],
      "source": [
        "# @title Проверка упр 3 (run me) {display-mode: \"form\"}\n",
        "\n",
        "def check_random_policy_search_choose_action(choose_action):\n",
        "  key = None # not used\n",
        "  actor_state = None # not used\n",
        "\n",
        "  # obs\n",
        "  obs = np.ones(obs_shape)\n",
        "\n",
        "  evaluation=False\n",
        "  current_params = np.ones(obs_shape) * -1\n",
        "  best_params = np.ones(obs_shape)\n",
        "  rps_params = RandomPolicySearchParams(current_params, best_params)\n",
        "  action, actor_state = choose_action(key,rps_params,actor_state,obs,evaluation)\n",
        "  if action != 0:\n",
        "    return False\n",
        "\n",
        "  evaluation=True\n",
        "  current_params = np.ones(obs_shape) * -1\n",
        "  best_params = np.ones(obs_shape)\n",
        "  rps_params = RandomPolicySearchParams(current_params, best_params)\n",
        "  action, actor_state = choose_action(key,rps_params,actor_state,obs,evaluation)\n",
        "  if action != 1:\n",
        "    return False\n",
        "\n",
        "  return True\n",
        "\n",
        "try:\n",
        "  if check_random_policy_search_choose_action(random_policy_search_choose_action):\n",
        "    print(\"Your function looks correct.\")\n",
        "  else:\n",
        "    print(\"Your function looks incorrect.\")\n",
        "except Exception as e:\n",
        "    print(\"An Error Occured: {}\".format(e))"
      ]
    },
    {
      "cell_type": "markdown",
      "metadata": {
        "id": "6zu51ep7Sh0M"
      },
      "source": [
        "### Память агента RPS\n",
        "\n",
        "Для алгоритма поиска случайной политики нам нужно будет отслеживать средний возврат эпизода для последних 50 эпизодов. Помните, что мы сказали, что «текущие» параметры будут считаться «лучшими» параметрами, если средний возврат эпизода при использовании этих параметров больше предыдущего лучшего среднего возврата эпизода.\n",
        "\n",
        "Мы будем использовать интерфейс памяти общего назначения, который довольно прост. Модуль памяти должен иметь три метода. Первый — это функция `memory.push(<transition>)`, которая добавляет некоторую информацию о последнем переходе среды в память. Второй — это функция `memory.is_ready()`, которая проверяет, готова ли память к обучению. Наконец, функция `memory.sample()` должна возвращать последний набор воспоминаний, которые можно передать в `agent_learn_func`.\n",
        "\n",
        "#### Память среднего возврата эпизода\n",
        "Мы создали для вас простой модуль памяти агента. Он хранит `epsisode_returns` последних 20 эпизодов. Прочитайте нашу реализацию ниже и посмотрите, сможете ли вы ее понять. Метод `memory.sample()` возвращает средний возврат эпизода за последние 20 эпизодов."
      ]
    },
    {
      "cell_type": "code",
      "execution_count": 268,
      "metadata": {
        "id": "YVkTBIK5RjM1"
      },
      "outputs": [],
      "source": [
        "class AverageEpisodeReturnBuffer:\n",
        "\n",
        "    def __init__(self, num_episodes_to_store=50):\n",
        "        \"\"\"\n",
        "        This class implements an agent memory that stores the average episode\n",
        "        return over the last 50 episodes.\n",
        "        \"\"\"\n",
        "        self.num_episodes_to_store = num_episodes_to_store\n",
        "        self.episode_return_buffer = []\n",
        "        self.current_episode_return = 0\n",
        "\n",
        "    def push(self, transition):\n",
        "        self.current_episode_return += transition.reward\n",
        "\n",
        "        if transition.done: # If the episode is done\n",
        "            # Add episode return to buffer\n",
        "            self.episode_return_buffer.append(self.current_episode_return)\n",
        "\n",
        "            # Reset episode return\n",
        "            self.current_episode_return = 0\n",
        "\n",
        "\n",
        "    def is_ready(self):\n",
        "        return len(self.episode_return_buffer) == self.num_episodes_to_store\n",
        "\n",
        "    def sample(self):\n",
        "        average_episode_return = np.mean(self.episode_return_buffer)\n",
        "\n",
        "        # Clear episode return buffer\n",
        "        self.episode_return_buffer = []\n",
        "\n",
        "        return average_episode_return"
      ]
    },
    {
      "cell_type": "markdown",
      "metadata": {
        "id": "0oXBsSa2KjWE"
      },
      "source": [
        "### Функция обучения RPS\n",
        "Наконец, нам нужно реализовать функцию `random_policy_search_learn` для нашего алгоритма поиска случайной политики. Функция обучения довольно проста. Все, что нам нужно сделать, это проверить, лучше ли текущие параметры, чем лучшие параметры. Если они лучше, то установите лучшие параметры в качестве текущих параметров и случайным образом сгенерируйте новый набор текущих параметров.\n",
        "\n",
        "**Упражнение 4:** Напишите функцию для случайной генерации новых весов с использованием JAX. Веса должны быть выбраны из интервала `[-2,2]`.\n",
        "\n",
        "**Полезные функции:**\n",
        "*   `jax.random.uniform` ([docs](https://jax.readthedocs.io/en/latest/_autosummary/jax.random.uniform.html#jax.random.uniform))\n",
        "\n"
      ]
    },
    {
      "cell_type": "code",
      "execution_count": 269,
      "metadata": {
        "id": "8V2yFM2XMjGW"
      },
      "outputs": [],
      "source": [
        "def get_new_random_weights(random_key, old_weights, minval=-2.0, maxval=2.0):\n",
        "    new_weights_shape = old_weights.shape # you will need to use these values\n",
        "    new_weights_dtype = old_weights.dtype # you will need to use these values\n",
        "\n",
        "    # YOUR CODE\n",
        "\n",
        "    new_params = jax.random.uniform(random_key,\n",
        "                                    new_weights_shape,\n",
        "                                    new_weights_dtype,\n",
        "                                    minval, maxval)\n",
        "\n",
        "    # END YOUR CODE\n",
        "\n",
        "    return new_params"
      ]
    },
    {
      "cell_type": "code",
      "execution_count": 270,
      "metadata": {
        "colab": {
          "base_uri": "https://localhost:8080/"
        },
        "id": "T8ifHTKGQlAd",
        "outputId": "afba23a8-3d47-4e77-a11b-1463bffab1aa"
      },
      "outputs": [
        {
          "output_type": "stream",
          "name": "stdout",
          "text": [
            "Function is correct!\n"
          ]
        }
      ],
      "source": [
        "# @title Проверка упр 4 (run me) {display-mode: \"form\"}\n",
        "\n",
        "def check_get_new_random_weights(get_new_random_weights):\n",
        "  old_weights = np.ones(obs_shape, \"float32\")\n",
        "  random_key = jax.random.PRNGKey(42)\n",
        "\n",
        "  # Case 1\n",
        "  new_weights = get_new_random_weights(random_key, old_weights, minval=-2.0, maxval=2.0)\n",
        "\n",
        "  if jnp.array_equal(new_weights, jnp.array([ 0.29657745,1.4265499, -1.7621555, -1.7505779 ])):\n",
        "    print(\"Function is correct!\")\n",
        "  else:\n",
        "    print(\"Something is wrong.\")\n",
        "\n",
        "try:\n",
        "  check_get_new_random_weights(get_new_random_weights)\n",
        "except Exception as e:\n",
        "    print(\"An Error Occured: {}\".format(e))"
      ]
    },
    {
      "cell_type": "markdown",
      "metadata": {
        "id": "2Djxc9j-LzkM"
      },
      "source": [
        "Наша функция обучения получает память в форме среднего возврата эпизода из `AverageEpisodeReturnMemory`, которую мы реализовали ранее. Мы можем использовать это для сравнения текущих параметров с лучшими параметрами. Но нам также нужно будет отслеживать лучший средний возврат эпизода для функции обучения. Для этого мы можем использовать аргумент `learn_state`, который передается в `agent_learn_func` в нашем цикле обучения. Как и в случае с `RandomPolicySearchParams`, мы будем использовать NamedTuple для хранения `best_average_episode_return` в `learn_state`."
      ]
    },
    {
      "cell_type": "code",
      "execution_count": 271,
      "metadata": {
        "colab": {
          "base_uri": "https://localhost:8080/"
        },
        "id": "4cSH4uYmRjM2",
        "outputId": "6821d5fc-06af-4d0a-aa77-f59754f2fac8"
      },
      "outputs": [
        {
          "output_type": "stream",
          "name": "stdout",
          "text": [
            "Initial best average episode return: -inf\n"
          ]
        }
      ],
      "source": [
        "# A NamedTuple to store the best average episode return so far\n",
        "RandomPolicyLearnState = collections.namedtuple(\n",
        "  \"RandomPolicyLearnState\",\n",
        "  [\"best_average_episode_return\"]\n",
        ")\n",
        "\n",
        "# Test\n",
        "initial_learn_state = RandomPolicyLearnState(best_average_episode_return=-float(\"inf\"))\n",
        "print(\"Initial best average episode return:\", initial_learn_state.best_average_episode_return)"
      ]
    },
    {
      "cell_type": "markdown",
      "metadata": {
        "id": "PxZXdP8bOu6b"
      },
      "source": [
        "Теперь у нас есть все необходимое для реализации функции `random_policy_search_learn`.\n",
        "\n",
        "**Упражнение 5:** Реализуйте функцию `random_policy_search_learn`. Функция должна проверять, лучше ли «текущие» параметры, чем «лучшие» параметры, сравнивая `current_average_episode_return` с `best_average_episode_return`. Функция также должна обновлять `learn_state`."
      ]
    },
    {
      "cell_type": "code",
      "execution_count": 272,
      "metadata": {
        "id": "Te_Q3qzmZcN_"
      },
      "outputs": [],
      "source": [
        "def random_policy_search_learn(key, params, learn_state, memory):\n",
        "    best_params = params.best\n",
        "    current_params = params.current\n",
        "\n",
        "    current_average_episode_return = memory # the memory contains the average episode return\n",
        "    best_average_episode_return = learn_state.best_average_episode_return\n",
        "\n",
        "\n",
        "    # YOUR CODE\n",
        "\n",
        "    best_params = jax.lax.select(\n",
        "        current_average_episode_return > best_average_episode_return,\n",
        "        current_params,\n",
        "        best_params\n",
        "    )\n",
        "\n",
        "    best_average_episode_return = jax.lax.select(\n",
        "        current_average_episode_return > best_average_episode_return,\n",
        "        current_average_episode_return,\n",
        "        best_average_episode_return\n",
        "    )\n",
        "\n",
        "    # END YOUR CODE\n",
        "\n",
        "    # Generate new random parameters\n",
        "    new_params = get_new_random_weights(key, current_params)\n",
        "\n",
        "    # Bundle weights in RandomPolicySearchParams NamedTuple\n",
        "    params = RandomPolicySearchParams(current=new_params, best=best_params)\n",
        "\n",
        "    return params, RandomPolicyLearnState(best_average_episode_return)"
      ]
    },
    {
      "cell_type": "code",
      "execution_count": 206,
      "metadata": {
        "colab": {
          "base_uri": "https://localhost:8080/"
        },
        "id": "CXHV4k2iBLBF",
        "outputId": "2f86f059-120b-480d-c47c-f5df8a30413f"
      },
      "outputs": [
        {
          "output_type": "stream",
          "name": "stdout",
          "text": [
            "Your function looks correct.\n"
          ]
        }
      ],
      "source": [
        "#@title Проверка упр 5 {display-mode: \"form\"}\n",
        "\n",
        "params = RandomPolicySearchParams(np.ones(obs_shape, \"float32\"), np.ones(obs_shape, \"float32\") * -1)\n",
        "learn_state = RandomPolicyLearnState(10)\n",
        "memory = 11\n",
        "key = jax.random.PRNGKey(42)\n",
        "\n",
        "try:\n",
        "  new_params, new_learn_state = random_policy_search_learn(key, params, learn_state, memory)\n",
        "\n",
        "  if not jnp.array_equal(new_params.current, jnp.array([ 0.29657745,  1.4265499 , -1.7621555 , -1.7505779 ])):\n",
        "    print(\"Your function is incorrect.\")\n",
        "\n",
        "  elif not jnp.array_equal(new_params.best, jnp.array([1., 1., 1., 1.])):\n",
        "    print(\"Your function is incorrect.\")\n",
        "\n",
        "  elif new_learn_state.best_average_episode_return != 11:\n",
        "    print(\"Your function is incorrect.\")\n",
        "\n",
        "  else:\n",
        "    print(\"Your function looks correct.\")\n",
        "except Exception as e:\n",
        "    print(\"An Error Occured: {}\".format(e))"
      ]
    },
    {
      "cell_type": "markdown",
      "metadata": {
        "id": "5Ol_AxnMBdgP"
      },
      "source": [
        "### Цикл обучения RPS\n",
        "Теперь мы можем собрать все вместе, передав модуль `memory`, функцию `learn` и функцию `choose_action` в цикл обучения. Чтобы ускорить наш алгоритм, мы будем использовать `jax.jit` в функции `learn` и функции `choose_action`."
      ]
    },
    {
      "cell_type": "code",
      "execution_count": 216,
      "metadata": {
        "colab": {
          "base_uri": "https://localhost:8080/",
          "height": 680
        },
        "id": "Qx57tf7vRjM3",
        "outputId": "af28b36d-f4ec-4b96-8577-d1fce3830fa5"
      },
      "outputs": [
        {
          "output_type": "stream",
          "name": "stdout",
          "text": [
            "Starting training. This may take up to 5 minutes to complete.\n",
            "Episode: 0\tEpisode Return: 80.0\tAverage Episode Return: 80.0\tEvaluator Episode Return: 138.625\n",
            "Episode: 100\tEpisode Return: 44.0\tAverage Episode Return: 10.7\tEvaluator Episode Return: 115.75\n",
            "Episode: 200\tEpisode Return: 9.0\tAverage Episode Return: 57.45\tEvaluator Episode Return: 128.75\n",
            "Episode: 300\tEpisode Return: 49.0\tAverage Episode Return: 11.15\tEvaluator Episode Return: 132.875\n",
            "Episode: 400\tEpisode Return: 9.0\tAverage Episode Return: 34.6\tEvaluator Episode Return: 109.625\n",
            "Episode: 500\tEpisode Return: 8.0\tAverage Episode Return: 8.95\tEvaluator Episode Return: 131.875\n",
            "Episode: 600\tEpisode Return: 12.0\tAverage Episode Return: 157.25\tEvaluator Episode Return: 169.25\n",
            "Episode: 700\tEpisode Return: 10.0\tAverage Episode Return: 9.7\tEvaluator Episode Return: 173.625\n",
            "Episode: 800\tEpisode Return: 200.0\tAverage Episode Return: 18.65\tEvaluator Episode Return: 161.125\n",
            "Episode: 900\tEpisode Return: 80.0\tAverage Episode Return: 38.0\tEvaluator Episode Return: 200.0\n",
            "Episode: 1000\tEpisode Return: 158.0\tAverage Episode Return: 95.6\tEvaluator Episode Return: 200.0\n"
          ]
        },
        {
          "output_type": "display_data",
          "data": {
            "text/plain": [
              "<Figure size 640x480 with 1 Axes>"
            ],
            "image/png": "[encoded data removed]"
          },
          "metadata": {}
        }
      ],
      "source": [
        "# JIT the learn and choose action functions\n",
        "random_policy_search_learn_jit = jax.jit(random_policy_search_learn)\n",
        "random_policy_search_choose_action_jit = jax.jit(random_policy_search_choose_action)\n",
        "\n",
        "# Initialise the parameters\n",
        "initial_weights = np.ones(obs_shape, \"float32\")\n",
        "initial_params = RandomPolicySearchParams(initial_weights, initial_weights)\n",
        "\n",
        "# Initialise the learn state\n",
        "initial_learn_state = RandomPolicyLearnState(best_average_episode_return=-float(\"inf\"))\n",
        "\n",
        "# Initialise memory\n",
        "memory = AverageEpisodeReturnBuffer(num_episodes_to_store=50)\n",
        "\n",
        "# Run the training loop\n",
        "print(\"Starting training. This may take up to 5 minutes to complete.\")\n",
        "chex.clear_trace_counter()\n",
        "episode_return, evaluator_episode_returns = run_training_loop(\n",
        "                                        env_name,\n",
        "                                        initial_params,\n",
        "                                        random_policy_search_choose_action_jit,\n",
        "                                        None, # no actor state\n",
        "                                        random_policy_search_learn_jit,\n",
        "                                        initial_learn_state,\n",
        "                                        memory,\n",
        "                                        num_episodes=1001,\n",
        "                                        video_subdir=\"rps\"\n",
        "                                    )\n",
        "\n",
        "# Plot graph of evaluator episode returns\n",
        "plt.plot(np.linspace(0, 1000, len(evaluator_episode_returns)), evaluator_episode_returns)\n",
        "plt.title(\"Random Policy Search\")\n",
        "plt.xlabel(\"Episodes\")\n",
        "plt.ylabel(\"Episode Return\")\n",
        "plt.show()"
      ]
    },
    {
      "cell_type": "markdown",
      "metadata": {
        "id": "TG10FG6uS05A"
      },
      "source": [
        "Надеюсь, вы нашли набор оптимальных параметров на CartPole (возврат эпизода достигает `200`). В ячейке ниже вы можете посмотреть несколько видеороликов агента, выполняющего задание."
      ]
    },
    {
      "cell_type": "code",
      "execution_count": null,
      "metadata": {
        "colab": {
          "base_uri": "https://localhost:8080/",
          "height": 288
        },
        "id": "KgayDJ7KWC4C",
        "outputId": "5302d001-826b-49ca-a885-3044299dbaae"
      },
      "outputs": [
        {
          "data": {
            "text/html": [
              "\n",
              "<video width=400 controls>\n",
              "      <source src=\"data:video/mp4;base64,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\" type=\"video/mp4\">\n",
              "</video>\n"
            ],
            "text/plain": [
              "<IPython.core.display.HTML object>"
            ]
          },
          "execution_count": 30,
          "metadata": {},
          "output_type": "execute_result"
        }
      ],
      "source": [
        "#@title Visualise Policy {display-mode: \"form\"}\n",
        "#@markdown Choose an episode number that is a multiple of 100 and less than or equal to 2000, and **run** this cell.\n",
        "episode_number = 1000 #@param {type:\"number\"}\n",
        "\n",
        "assert (episode_number % 100) == 0, \"Episode number must be a multiple of 100 since we only record every 100th episode.\"\n",
        "assert episode_number < 1001, \"Episode number must be less than or equal to 2000\"\n",
        "\n",
        "eval_episode_number = int(episode_number / 100 * 8)\n",
        "video_path = f\"./video/rps/eval/rl-video-episode-{eval_episode_number}.mp4\"\n",
        "\n",
        "mp4 = open(video_path,'rb').read()\n",
        "data_url = \"data:video/mp4;base64,\" + b64encode(mp4).decode()\n",
        "HTML(\"\"\"\n",
        "<video width=400 controls>\n",
        "      <source src=\"%s\" type=\"video/mp4\">\n",
        "</video>\n",
        "\"\"\" % data_url)"
      ]
    },
    {
      "cell_type": "markdown",
      "metadata": {
        "id": "Xwf1IKKbrrVn"
      },
      "source": [
        "Итак, случайный поиск политики справился с этой задачей довольно хорошо. Однако здесь происходит очень мало (если вообще происходит) реального *обучения*. Далее давайте рассмотрим реализацию простого алгоритма RL, который может использовать свой опыт для руководства нашим поиском оптимальной политики, а не просто искать ее случайным образом."
      ]
    },
    {
      "cell_type": "markdown",
      "metadata": {
        "id": "XEnSjZVESrxc"
      },
      "source": [
        "## 3. Градиенты политики  (Policy Gradients, PG)\n",
        "Как обсуждалось, цель RL — найти политику, которая максимизирует ожидаемое совокупное вознаграждение (возврат), которое агент получает от среды. Мы можем записать ожидаемый возврат политики как:\n",
        "\n",
        "$J(\\pi_\\theta)=\\mathrm{E}_{\\tau\\sim\\pi_\\theta}\\ [R(\\tau)]$,\n",
        "\n",
        "где $\\pi_\\theta$ — это политика, параметризованная $\\theta$, $\\mathrm{E}$ означает *ожидание*, $\\tau$ — это сокращение для \"*эпизод*\", $\\tau\\sim\\pi_\\theta$ — это сокращение для \"*эпизоды, выбранные с использованием политики* $\\pi_\\theta$\", а $R(\\tau)$ — это возврат эпизода $\\tau$.\n",
        "\n",
        "Затем, цель в RL — найти параметры $\\theta$, которые максимизируют функцию $J(\\pi_\\theta)$. Один из способов найти эти параметры — выполнить градиентный подъем по $J(\\pi_\\theta)$ относительно параметров $\\theta$:\n",
        "\n",
        "$\\theta_{k+1}=\\theta_k + \\alpha \\nabla J(\\pi_\\theta)|_{\\theta_{k}}$,\n",
        "\n",
        "где $\\nabla J(\\pi_\\theta)|_{\\theta_{k}}$ — градиент ожидаемой доходности относительно параметров политики $\\theta_k$, а $\\alpha$ — размер шага. Эта величина, $\\nabla J(\\pi_\\theta)$, также называется **градиентом политики** и очень важна в RL. Если мы сможем вычислить градиент политики, то у нас будет средство, с помощью которого можно напрямую оптимизировать нашу политику.\n",
        "\n",
        "Как оказалось, у нас есть способ вычислить градиент политики, и математический вывод можно найти [здесь](https://spinningup.openai.com/en/latest/spinningup/rl_intro3.html). Но для этого руководства мы опустим вывод и просто дадим вам результат:\n",
        "\n",
        "$\\nabla_{\\theta} J(\\pi_{\\theta})=\\underset{\\tau \\sim \\pi_{\\theta}}{\\mathrm{E}}[\\sum_{t=0}^{T} \\nabla_{\\theta} \\log \\pi_{\\theta}(a_{t} \\mid s_{t}) R(\\tau)]$\n",
        "\n",
        "Неформально, градиент политики равен градиенту логарифма вероятности выбранного действия, умноженного на возврат эпизода, в котором было предпринято действие.\n"
      ]
    },
    {
      "cell_type": "markdown",
      "metadata": {
        "id": "BTnTzgtSuy-y"
      },
      "source": [
        "### REINFORCE\n",
        "REINFORCE — это простой алгоритм RL, который использует градиент политики для поиска оптимальной политики путем увеличения вероятности выбора действий (усиливающих действий), которые, как правило, приводят к эпизодам с высокой отдачей.\n",
        "\n",
        "**Упражнение 6:** Реализуйте функцию, которая берет вероятность действия и отдачу эпизода, в котором действие было предпринято, и вычисляет логарифм вероятности, умноженный на отдачу. Убедитесь, что вы используете JAX.\n",
        "\n",
        "**Полезные функции:**\n",
        "*   `jax.numpy.log`([docs](https://jax.readthedocs.io/en/latest/_autosummary/jax.numpy.log.html))"
      ]
    },
    {
      "cell_type": "code",
      "execution_count": 52,
      "metadata": {
        "id": "bJObUsoUrOyV"
      },
      "outputs": [],
      "source": [
        "def compute_weighted_log_prob(action_prob, episode_return):\n",
        "\n",
        "    # YOUR CODE\n",
        "\n",
        "    log_porb = jax.numpy.log(action_prob)\n",
        "\n",
        "    weighted_log_prob = log_porb * episode_return\n",
        "\n",
        "    # END YOUR CODE\n",
        "\n",
        "    return weighted_log_prob"
      ]
    },
    {
      "cell_type": "code",
      "execution_count": 23,
      "metadata": {
        "colab": {
          "base_uri": "https://localhost:8080/"
        },
        "id": "eZPoTwa1Gbm1",
        "outputId": "d33e6bc5-d8bc-4be5-b887-12ef1af267ab"
      },
      "outputs": [
        {
          "output_type": "stream",
          "name": "stdout",
          "text": [
            "Looks correct.\n"
          ]
        }
      ],
      "source": [
        "#@title Проверка упр 6 {display-mode: \"form\"}\n",
        "\n",
        "try:\n",
        "  action_prob = 0.8\n",
        "  episode_return = 100\n",
        "  result = compute_weighted_log_prob(action_prob, episode_return)\n",
        "  if result != -22.314354:\n",
        "    print(\"Your implementation looks incorrect.\")\n",
        "  else:\n",
        "    print(\"Looks correct.\")\n",
        "except Exception as e:\n",
        "    print(\"An Error Occured: {}\".format(e))"
      ]
    },
    {
      "cell_type": "markdown",
      "metadata": {
        "id": "NmgW9UJ3tIpl"
      },
      "source": [
        "### Rewards-to-go\n",
        "Выполнение градиентного подъема по градиенту логарифма вероятности действия, взвешенного по возврату эпизода, будет иметь тенденцию повышать вероятность действий, которые были в эпизодах с высоким возвратом, независимо от того, *где* в эпизоде ​​было выполнено действие. Это на самом деле не имеет большого смысла, потому что действие ближе к концу эпизода может быть подкреплено, потому что много вознаграждения было собрано ранее в эпизоде, *до* того, как было выполнено действие. Агенты RL должны на самом деле подкреплять действия только на основе их *последствий*. Вознаграждения, полученные до выполнения действия, не влияют на то, насколько хорошим было это действие: только вознаграждения, которые приходят после. Накопленные вознаграждения, полученные после выполнения действия, называются **вознаграждениями-к-переходу** и могут быть вычислены как:\n",
        "\n",
        "$\\hat{R}_i=\\sum_{t=i}^Tr_t$\n",
        "\n",
        "Сравните это с доходностью эпизода:\n",
        "\n",
        "$R(\\tau)=\\sum_{t=0}^Tr_t$\n",
        "\n",
        "Мы можем повысить надежность градиента политики, заменив доходность эпизода на вознаграждения-к-переходу. Градиент политики с оставшимися наградами задается следующим образом:\n",
        "\n",
        "$\\nabla_{\\theta} J(\\pi_{\\theta})=\\underset{\\tau \\sim \\pi_{\\theta}}{\\mathrm{E}}[\\sum_{t=0}^{T} \\nabla_{\\theta} \\log \\pi_{\\theta}(a_{t} \\mid s_{t}) \\hat{R}_t]$\n",
        "\n",
        "**Упражнение 7:** Реализуйте функцию, которая берет список всех наград, полученных в эпизоде, и вычисляет оставшиеся награды. Не беспокойтесь об использовании JAX в этой функции. Вы можете использовать обычные операции Python, такие как `for-loops`."
      ]
    },
    {
      "cell_type": "code",
      "execution_count": 25,
      "metadata": {
        "id": "nV1Hww8E3dUJ"
      },
      "outputs": [],
      "source": [
        "def compute_rewards_to_go(rewards):\n",
        "    \"\"\"\n",
        "    This function should take a list of rewards as input and\n",
        "    compute the rewards-to-go for each timestep.\n",
        "\n",
        "    EXAMPLE: compute_rewards_to_go([1,2,3,4]) = [10, 9, 7, 4]\n",
        "\n",
        "    Arguments:\n",
        "        rewards[t] is the reward at time step t.\n",
        "\n",
        "    Returns:\n",
        "        rewards_to_go[t] should be the reward-to-go at timestep t.\n",
        "    \"\"\"\n",
        "\n",
        "    rewards_to_go = []\n",
        "\n",
        "    # YOUR CODE\n",
        "    for i in range(len(rewards)):\n",
        "      sum = 0\n",
        "      for j in range(i, len(rewards)):\n",
        "        sum += rewards[j]\n",
        "      rewards_to_go.append(sum)\n",
        "\n",
        "    # END YOUR CODE\n",
        "\n",
        "    return rewards_to_go"
      ]
    },
    {
      "cell_type": "code",
      "execution_count": 26,
      "metadata": {
        "colab": {
          "base_uri": "https://localhost:8080/"
        },
        "id": "hLVaVRp28YGI",
        "outputId": "cb1e7ad7-b43d-4b47-ae3c-e3cdcf49d57d"
      },
      "outputs": [
        {
          "output_type": "stream",
          "name": "stdout",
          "text": [
            "Looks correct.\n"
          ]
        }
      ],
      "source": [
        "#@title Проверка упр 7 {display-mode: \"form\"}\n",
        "\n",
        "try:\n",
        "  result = compute_rewards_to_go([1,2,3,4])\n",
        "\n",
        "  if result != [10, 9, 7, 4]:\n",
        "    print(\"There is a problem with your implementation.\")\n",
        "  else:\n",
        "    print(\"Looks correct.\")\n",
        "except Exception as e:\n",
        "    print(\"An Error Occured: {}\".format(e))\n"
      ]
    },
    {
      "cell_type": "markdown",
      "metadata": {
        "id": "IboxN9MS65i5"
      },
      "source": [
        "### REINFORCE memory\n",
        "Далее нам нужно будет создать новую память агента для хранения вознаграждений $\\hat{R}_t$ вместе с наблюдением $o_t$ и действием $a_t$ на каждом временном шаге. Ниже мы реализовали такой модуль памяти для вас. Функция `memory.sample()` вернет пакет из последних 500 воспоминаний. Вы можете прочитать код, чтобы попытаться понять его, но это не обязательно. Поэтому мы скрываем код по умолчанию."
      ]
    },
    {
      "cell_type": "code",
      "execution_count": 27,
      "metadata": {
        "id": "xhS4V6auRjM3"
      },
      "outputs": [],
      "source": [
        "# @title Реализация памяти (run me) {display-mode: \"form\"}\n",
        "\n",
        "# NamedTuple to store memory\n",
        "EpisodeRewardsToGoMemory = collections.namedtuple(\"EpisodeRewardsToGoMemory\", [\"obs\", \"action\", \"reward_to_go\"])\n",
        "\n",
        "class EpisodeRewardsToGoBuffer:\n",
        "\n",
        "    def __init__(self, num_transitions_to_store=512, batch_size=256):\n",
        "        self.batch_size = batch_size\n",
        "        self.memory_buffer = collections.deque(maxlen=num_transitions_to_store)\n",
        "        self.current_episode_transition_buffer = []\n",
        "\n",
        "    def push(self, transition):\n",
        "        self.current_episode_transition_buffer.append(transition)\n",
        "\n",
        "        if transition.done:\n",
        "\n",
        "            episode_rewards = []\n",
        "            for t in self.current_episode_transition_buffer:\n",
        "                episode_rewards.append(t.reward)\n",
        "\n",
        "            r2g = compute_rewards_to_go(episode_rewards)\n",
        "\n",
        "            for i, t in enumerate(self.current_episode_transition_buffer):\n",
        "                memory = EpisodeRewardsToGoMemory(t.obs, t.action, r2g[i])\n",
        "                self.memory_buffer.append(memory)\n",
        "\n",
        "            # Reset episode buffer\n",
        "            self.current_episode_transition_buffer = []\n",
        "\n",
        "\n",
        "    def is_ready(self):\n",
        "        return len(self.memory_buffer) >= self.batch_size\n",
        "\n",
        "    def sample(self):\n",
        "        random_memory_sample = random.sample(self.memory_buffer, self.batch_size)\n",
        "\n",
        "        obs_batch, action_batch, reward_to_go_batch = zip(*random_memory_sample)\n",
        "\n",
        "        return EpisodeRewardsToGoMemory(\n",
        "            np.stack(obs_batch).astype(\"float32\"),\n",
        "            np.asarray(action_batch).astype(\"int32\"),\n",
        "            np.asarray(reward_to_go_batch).astype(\"int32\")\n",
        "        )\n",
        "\n",
        "\n",
        "# Instantiate Memory\n",
        "REINFORCE_memory = EpisodeRewardsToGoBuffer(num_transitions_to_store=512, batch_size=256)"
      ]
    },
    {
      "cell_type": "markdown",
      "metadata": {
        "id": "Idkav_aSYXvz"
      },
      "source": [
        "### Policy neural network\n",
        "Далее мы будем использовать простую нейронную сеть для аппроксимации политики. Наша нейронная сеть политики будет иметь входной слой, который принимает наблюдение в качестве входных данных и пропускает его через два скрытых слоя, а затем выводит одно скалярное значение для каждого из возможных действий. Таким образом, в CartPole выходной слой будет иметь размер `2`.\n",
        "\n",
        "[Haiku](https://github.com/deepmind/dm-haiku) — это библиотека для реализации нейронных сетей в JAX. Ниже мы реализовали простую функцию для создания сети политики для вас.\n"
      ]
    },
    {
      "cell_type": "code",
      "execution_count": 28,
      "metadata": {
        "id": "j2XO7VkORjM4"
      },
      "outputs": [],
      "source": [
        "def make_policy_network(num_actions: int, layers=[20, 20]) -> hk.Transformed:\n",
        "  \"\"\"Factory for a simple MLP network for the policy.\"\"\"\n",
        "\n",
        "  def policy_network(obs):\n",
        "    network = hk.Sequential(\n",
        "        [\n",
        "            hk.Flatten(),\n",
        "            hk.nets.MLP(layers + [num_actions])\n",
        "        ]\n",
        "    )\n",
        "    return network(obs)\n",
        "\n",
        "  return hk.without_apply_rng(hk.transform(policy_network))"
      ]
    },
    {
      "cell_type": "markdown",
      "metadata": {
        "id": "1GR2y8FjaG-G"
      },
      "source": [
        "У сетей Haiku есть две важные функции, о которых вам нужно знать. Первая — `network.init(<random_key>, <input>)`, которая возвращает набор случайных начальных параметров. Второй метод — `network.apply(<params>, <input>)`, который передает входные данные через сеть, используя предоставленный набор параметров."
      ]
    },
    {
      "cell_type": "code",
      "execution_count": 29,
      "metadata": {
        "colab": {
          "base_uri": "https://localhost:8080/"
        },
        "id": "fJrn9o-Vatkw",
        "outputId": "c5c406dc-7951-4894-c527-a975f6c053e9"
      },
      "outputs": [
        {
          "output_type": "stream",
          "name": "stdout",
          "text": [
            "Initial params: dict_keys(['mlp/~/linear_0', 'mlp/~/linear_1', 'mlp/~/linear_2'])\n",
            "Policy network output: [ 0.91155875 -0.3961737 ]\n"
          ]
        }
      ],
      "source": [
        "# Example\n",
        "POLICY_NETWORK = make_policy_network(num_actions=num_actions, layers=[20,20])\n",
        "random_key = jax.random.PRNGKey(42) # random key\n",
        "dummy_obs = np.ones(obs_shape, \"float32\")\n",
        "\n",
        "# Initialise parameters\n",
        "REINFORCE_params = POLICY_NETWORK.init(random_key, dummy_obs)\n",
        "print(\"Initial params:\", REINFORCE_params.keys())\n",
        "\n",
        "# Pass input through the network\n",
        "output = POLICY_NETWORK.apply(REINFORCE_params, dummy_obs)\n",
        "print(\"Policy network output:\", output)\n"
      ]
    },
    {
      "cell_type": "markdown",
      "metadata": {
        "id": "MlouUBvoeunz"
      },
      "source": [
        "Выходы нашей сети политик — [логиты](https://qr.ae/pv4YTe). Чтобы преобразовать это в распределение вероятностей по действиям, мы передаем логиты в функцию [softmax](https://en.wikipedia.org/wiki/Softmax_function).\n",
        "\n",
        "### УСИЛЕНИЕ выбор функции действия\n",
        "\n",
        "**Упражнение 8:** Завершите функцию ниже, которая берет вектор логитов и случайным образом выбирает действие из категориального распределения, заданного логитами.\n",
        "\n",
        "**Полезные функции:**"
      ]
    },
    {
      "cell_type": "code",
      "execution_count": 283,
      "metadata": {
        "id": "m3Z8DxUmeOGJ"
      },
      "outputs": [],
      "source": [
        "def sample_action(random_key, logits):\n",
        "\n",
        "  # YOUR CODE HERE\n",
        "  action = jax.random.categorical(random_key, logits, shape=())\n",
        "  # END YOUR code\n",
        "\n",
        "  return action"
      ]
    },
    {
      "cell_type": "code",
      "execution_count": 284,
      "metadata": {
        "colab": {
          "base_uri": "https://localhost:8080/"
        },
        "id": "5opHJMO0D_Ub",
        "outputId": "2e3cde43-1adf-442c-95ea-824e78311f77"
      },
      "outputs": [
        {
          "output_type": "stream",
          "name": "stdout",
          "text": [
            "Seems correct.\n"
          ]
        }
      ],
      "source": [
        "#@title Проверка упр 8 {display-mode: \"form\"}\n",
        "\n",
        "try:\n",
        "  random_key = jax.random.PRNGKey(42) # random key\n",
        "  action = sample_action(random_key, np.array([1,2], \"float32\"))\n",
        "  if action != 1:\n",
        "    print(\"Your function is incorrect.\")\n",
        "  else:\n",
        "    print(\"Seems correct.\")\n",
        "except Exception as e:\n",
        "    print(\"An Error Occured: {}\".format(e))"
      ]
    },
    {
      "cell_type": "markdown",
      "metadata": {
        "id": "jP5UH87VRjM4"
      },
      "source": [
        "Теперь мы можем реализовать функцию `REINFORCE_choose_action`. Мы передадим наблюдение через сеть политики для вычисления логитов, а затем передадим логиты в функцию `sample_action` для выбора и действия."
      ]
    },
    {
      "cell_type": "code",
      "execution_count": 285,
      "metadata": {
        "id": "UJTzrDAZ0Ul5"
      },
      "outputs": [],
      "source": [
        "def REINFORCE_choose_action(key, params, actor_state, obs, evaluation=False):\n",
        "  obs = jnp.expand_dims(obs, axis=0) # add dummy batch dim before passing through network\n",
        "\n",
        "  # Pass obs through policy network to compute logits\n",
        "  logits = POLICY_NETWORK.apply(params, obs)\n",
        "  logits = logits[0] # remove batch dim\n",
        "\n",
        "  # Randomly sample action\n",
        "  sampled_action = sample_action(key, logits)\n",
        "\n",
        "  return sampled_action, actor_state"
      ]
    },
    {
      "cell_type": "markdown",
      "metadata": {
        "id": "NI26SLAb7iRo"
      },
      "source": [
        "Теперь, когда мы реализовали функцию `REINFORCE_choose_action`, нам осталось только создать функцию `REINFORCE_learn`. Функция обучения должна использовать функцию `weighted_log_prob`, которую мы создали ранее, чтобы вычислить потери градиента политики и применить обновления градиента к нашей нейронной сети."
      ]
    },
    {
      "cell_type": "markdown",
      "metadata": {
        "id": "36ALCJESQJ8e"
      },
      "source": [
        "### Policy gradient loss\n",
        "\n",
        "\n",
        "**Упражнение 9:** Завершите функцию `policy_gradient_loss` ниже. Функция должна вычислять вероятности действий, пропуская `logits` через функцию softmax. Затем следует извлечь вероятность заданного `action` (используя индексацию массива) и вычислить `weighted_log_prob`, используя функцию, которую мы создали ранее.\n",
        "\n",
        "**Полезные методы:**\n",
        "*   `jax.nn.softmax` ([docs](https://jax.readthedocs.io/en/latest/_autosummary/jax.nn.softmax.html))"
      ]
    },
    {
      "cell_type": "code",
      "execution_count": 286,
      "metadata": {
        "id": "9sUKkqx0RjM4"
      },
      "outputs": [],
      "source": [
        "def policy_gradient_loss(action, logits, reward_to_go):\n",
        "\n",
        "  # YOUR CODE\n",
        "\n",
        "  all_action_probs = jax.nn.softmax(logits) # convert logits into probs\n",
        "\n",
        "  action_prob = all_action_probs[action] # using array indexing to get prob of action\n",
        "\n",
        "  weighted_log_prob = compute_weighted_log_prob(action_prob, reward_to_go)\n",
        "\n",
        "  # END YOUR CODE\n",
        "\n",
        "  loss = -weighted_log_prob # negative because we want gradient `ascent`\n",
        "\n",
        "  return loss"
      ]
    },
    {
      "cell_type": "code",
      "execution_count": 287,
      "metadata": {
        "colab": {
          "base_uri": "https://localhost:8080/"
        },
        "id": "7AMJvau1FsM5",
        "outputId": "b2810f09-3526-4d7a-bb46-579fc9e1e408"
      },
      "outputs": [
        {
          "output_type": "stream",
          "name": "stdout",
          "text": [
            "Looks correct.\n"
          ]
        }
      ],
      "source": [
        "#@title Проверка упр 9 {display-mode: \"form\"}\n",
        "\n",
        "try:\n",
        "  result = policy_gradient_loss(1, np.array([1,2], \"float32\"), 10)\n",
        "  if result != 3.1326165:\n",
        "    print(\"Your implementation looks wrong.\")\n",
        "  else:\n",
        "    print(\"Looks correct.\")\n",
        "except Exception as e:\n",
        "  print(\"An Error Occured: {}\".format(e))\n"
      ]
    },
    {
      "cell_type": "markdown",
      "metadata": {
        "id": "Gzuqx1jJrwVx"
      },
      "source": [
        "Когда мы делаем шаг обновления градиента политики, мы захотим сделать это, используя пакет опыта, а не просто один опыт, как выше. Мы можем использовать функцию JAX [vmap](https://jax.readthedocs.io/en/latest/_autosummary/jax.vmap.html#jax.vmap), чтобы легко заставить нашу функцию `policy_gradient_loss` работать с пакетом опыта."
      ]
    },
    {
      "cell_type": "code",
      "execution_count": 288,
      "metadata": {
        "colab": {
          "base_uri": "https://localhost:8080/"
        },
        "id": "3yq4naLURjM4",
        "outputId": "df7947ee-12e7-4b48-fcaa-5593b282f79c"
      },
      "outputs": [
        {
          "output_type": "stream",
          "name": "stdout",
          "text": [
            "Policy gradient loss on batch: 1.6967314\n"
          ]
        }
      ],
      "source": [
        "def batched_policy_gradient_loss(params, obs_batch, action_batch, reward_to_go_batch):\n",
        "    # Get logits by passing observation through network\n",
        "    logits_batch = POLICY_NETWORK.apply(params, obs_batch)\n",
        "\n",
        "    policy_gradient_loss_batch = jax.vmap(policy_gradient_loss)(\n",
        "        action_batch,\n",
        "        logits_batch,\n",
        "        reward_to_go_batch) # add batch\n",
        "\n",
        "    # Compute mean loss over batch\n",
        "    mean_policy_gradient_loss = jnp.mean(policy_gradient_loss_batch)\n",
        "\n",
        "    return mean_policy_gradient_loss\n",
        "\n",
        "# TEST\n",
        "obs_batch = np.ones((3, *obs_shape), \"float32\")\n",
        "actions_batch = np.array([1,0,0])\n",
        "rew2go_batch = np.array([2.3, 4.3, 2.1])\n",
        "\n",
        "loss = batched_policy_gradient_loss(REINFORCE_params, obs_batch, actions_batch, rew2go_batch)\n",
        "\n",
        "print(\"Policy gradient loss on batch:\", loss)"
      ]
    },
    {
      "cell_type": "markdown",
      "metadata": {
        "id": "VDhTH3culwqo"
      },
      "source": [
        "### Оптимизатор сети\n",
        "\n",
        "Чтобы применить обновления градиента политики к нашей нейронной сети, мы будем использовать библиотеку JAX под названием [Optax](https://github.com/deepmind/optax). Optax имеет реализацию [оптимизатора Adam](https://www.geeksforgeeks.org/intuition-of-adam-optimizer/), которую мы можем использовать."
      ]
    },
    {
      "cell_type": "code",
      "execution_count": 69,
      "metadata": {
        "id": "pxXINlMHP5Ic"
      },
      "outputs": [],
      "source": [
        "REINFORCE_OPTIMIZER = optax.adam(1e-3)\n",
        "\n",
        "# Initialise the optimiser\n",
        "REINFORCE_optim_state = REINFORCE_OPTIMIZER.init(REINFORCE_params)"
      ]
    },
    {
      "cell_type": "markdown",
      "metadata": {
        "id": "ViENrHOALbCw"
      },
      "source": [
        "Теперь у нас есть все необходимое для создания функции `REINFORCE_learn`. Мы сохраним состояние оптимизатора в `learn_state`. Мы вычислим градиент потерь градиента политики с помощью  `jax.grad` ([docs](https://jax.readthedocs.io/en/latest/_autosummary/jax.grad.html))."
      ]
    },
    {
      "cell_type": "code",
      "execution_count": 76,
      "metadata": {
        "id": "CQr2Uz5ORjM5"
      },
      "outputs": [],
      "source": [
        "# A NamedTuple to store the state of the optimiser\n",
        "REINFORCELearnState = collections.namedtuple(\"LearnerState\", [\"optim_state\"])\n",
        "\n",
        "\n",
        "def REINFORCE_learn(key, params, learner_state, memory):\n",
        "\n",
        "  # Get the policy gradient by using `jax.grad()` on `batched_policy_gradient_loss`\n",
        "  grad_loss = jax.grad(batched_policy_gradient_loss)(params, memory.obs, memory.action, memory.reward_to_go)\n",
        "\n",
        "  # Get param updates using gradient and optimizer\n",
        "  updates, new_optim_state = REINFORCE_OPTIMIZER.update(grad_loss, learner_state.optim_state)\n",
        "\n",
        "  # Apply updates to params\n",
        "  params = optax.apply_updates(params, updates)\n",
        "\n",
        "  return params, REINFORCELearnState(new_optim_state) # update learner state"
      ]
    },
    {
      "cell_type": "markdown",
      "metadata": {
        "id": "5an3U2NhRKgG"
      },
      "source": [
        "### Цикл обучения REINFORCE\n",
        "Теперь мы можем обучить нашего агента REINFORCE, собрав все воедино с помощью цикла обучения."
      ]
    },
    {
      "cell_type": "code",
      "execution_count": 289,
      "metadata": {
        "colab": {
          "base_uri": "https://localhost:8080/",
          "height": 680
        },
        "id": "vioIcVGsRjM5",
        "outputId": "fc725e5d-450e-4bf8-860c-089d38e88bc9"
      },
      "outputs": [
        {
          "output_type": "stream",
          "name": "stdout",
          "text": [
            "Starting training. This may take up to 10 minutes to complete.\n",
            "Episode: 0\tEpisode Return: 12.0\tAverage Episode Return: 12.0\tEvaluator Episode Return: 22.5\n",
            "Episode: 100\tEpisode Return: 33.0\tAverage Episode Return: 30.0\tEvaluator Episode Return: 29.0\n",
            "Episode: 200\tEpisode Return: 88.0\tAverage Episode Return: 131.3\tEvaluator Episode Return: 163.375\n",
            "Episode: 300\tEpisode Return: 121.0\tAverage Episode Return: 164.0\tEvaluator Episode Return: 142.25\n",
            "Episode: 400\tEpisode Return: 200.0\tAverage Episode Return: 197.8\tEvaluator Episode Return: 199.375\n",
            "Episode: 500\tEpisode Return: 129.0\tAverage Episode Return: 158.45\tEvaluator Episode Return: 182.625\n",
            "Episode: 600\tEpisode Return: 174.0\tAverage Episode Return: 183.1\tEvaluator Episode Return: 194.0\n",
            "Episode: 700\tEpisode Return: 200.0\tAverage Episode Return: 197.5\tEvaluator Episode Return: 200.0\n",
            "Episode: 800\tEpisode Return: 200.0\tAverage Episode Return: 199.35\tEvaluator Episode Return: 200.0\n",
            "Episode: 900\tEpisode Return: 200.0\tAverage Episode Return: 200.0\tEvaluator Episode Return: 190.0\n",
            "Episode: 1000\tEpisode Return: 200.0\tAverage Episode Return: 200.0\tEvaluator Episode Return: 192.625\n"
          ]
        },
        {
          "output_type": "display_data",
          "data": {
            "text/plain": [
              "<Figure size 640x480 with 1 Axes>"
            ],
            "image/png": "[encoded data removed]"
          },
          "metadata": {}
        }
      ],
      "source": [
        "# JIT the choose_action and learn functions for more speed\n",
        "REINFORCE_learn_jit = jax.jit(REINFORCE_learn)\n",
        "REINFORCE_choose_action_jit = jax.jit(REINFORCE_choose_action)\n",
        "\n",
        "# Initial learn state\n",
        "REINFORCE_learn_state = REINFORCELearnState(REINFORCE_optim_state)\n",
        "\n",
        "# Run training loop\n",
        "print(\"Starting training. This may take up to 10 minutes to complete.\")\n",
        "episode_returns, evaluator_returns = run_training_loop(\n",
        "                                        env_name,\n",
        "                                        REINFORCE_params,\n",
        "                                        REINFORCE_choose_action_jit,\n",
        "                                        None, # action state not used\n",
        "                                        REINFORCE_learn_jit,\n",
        "                                        REINFORCE_learn_state,\n",
        "                                        REINFORCE_memory,\n",
        "                                        num_episodes=1001,\n",
        "                                        learn_steps_per_episode=2,\n",
        "                                        video_subdir=\"reinforce\"\n",
        "                                      )\n",
        "\n",
        "# Plot the episode returns\n",
        "plt.plot(episode_returns)\n",
        "plt.xlabel(\"Episode\")\n",
        "plt.ylabel(\"Episode Return\")\n",
        "plt.title(\"REINFORCE\")\n",
        "plt.show()\n"
      ]
    },
    {
      "cell_type": "code",
      "execution_count": 355,
      "metadata": {
        "colab": {
          "base_uri": "https://localhost:8080/",
          "height": 289
        },
        "id": "caKL3ngNr_Yh",
        "outputId": "3ee7aa94-0109-4f36-d156-54211c106f14"
      },
      "outputs": [
        {
          "output_type": "execute_result",
          "data": {
            "text/plain": [
              "<IPython.core.display.HTML object>"
            ],
            "text/html": [
              "\n",
              "<video width=400 controls>\n",
              "      <source src=\"data:video/mp4;base64,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\" type=\"video/mp4\">\n",
              "</video>\n"
            ]
          },
          "metadata": {},
          "execution_count": 355
        }
      ],
      "source": [
        "#@title Визуализация {display-mode: \"form\"}\n",
        "#@markdown Выберите номер эпизода, менее или равного 1000, и **run this cell**.\n",
        "\n",
        "episode_number = 900 #@param {type:\"number\"}\n",
        "\n",
        "assert (episode_number % 100) == 0, \"Episode number must be a multiple of 100 since we only record every 100th episode.\"\n",
        "assert episode_number < 1001, \"Episode number must be less than or equal to 1000\"\n",
        "\n",
        "eval_episode_number = int(episode_number / 100 * 8)\n",
        "video_path = f\"./video/reinforce/eval/rl-video-episode-{eval_episode_number}.mp4\"\n",
        "\n",
        "mp4 = open(video_path,'rb').read()\n",
        "data_url = \"data:video/mp4;base64,\" + b64encode(mp4).decode()\n",
        "HTML(\"\"\"\n",
        "<video width=400 controls>\n",
        "      <source src=\"%s\" type=\"video/mp4\">\n",
        "</video>\n",
        "\"\"\" % data_url)"
      ]
    },
    {
      "cell_type": "markdown",
      "metadata": {
        "id": "D_HHzFTOc-Qr"
      },
      "source": [
        "## 4. Q-Learning\n",
        "Другим распространенным подходом к поиску оптимальной политики в среде с использованием RL является Q-обучение."
      ]
    },
    {
      "cell_type": "markdown",
      "metadata": {
        "id": "lF1nOZrUSzhE"
      },
      "source": [
        "### Функция значения состояния-действия\n",
        "В Q-обучении агент изучает функцию, которая аппроксимирует **значение** пар состояние-действие. Под *значением* мы подразумеваем отдачу, которую вы ожидаете получить, если начнете в определенном состоянии $s_t$, выполните определенное действие $a_t$, а затем будете действовать в соответствии с определенной политикой $\\pi$ навсегда. Функция значения состояния-действия политики $\\pi$ задается как\n",
        "\n",
        "$Q_\\pi(s,a)=\\mathrm{E}_{\\tau\\sim\\pi}\\left[R(\\tau) \\mid s_0=s,\\ a_t=a\\right]$.\n",
        "\n",
        "Мы говорим, что функция значения $Q_\\pi(s,a)$ является **оптимальной** функцией значения, если политика $\\pi$ является оптимальной политикой. Обозначим функцию оптимального значения следующим образом:\n",
        "\n",
        "$Q_\\ast(s,a)=\\max \\limits_\\pi \\ \\mathrm{E}_{\\tau\\sim\\pi}\\left[R(\\tau) \\mid s_0=s,\\ a_0=a\\right]$\n",
        "\n",
        "Существует важная связь между оптимальным действием $a_\\ast$ в состоянии $s$ и оптимальной функцией значения состояния-действия $Q_\\ast$. А именно, оптимальное действие $a_\\ast$ в состоянии $s$ равно действию, которое максимизирует оптимальную функцию значения состояния-действия. Эта связь естественным образом индуцирует оптимальную политику:\n",
        "\n",
        "$\\pi_\\ast(s)=\\arg \\max \\limits_a\\ Q_\\ast(s, a)$"
      ]
    },
    {
      "cell_type": "markdown",
      "metadata": {
        "id": "H2x2tqvZSihz"
      },
      "source": [
        "### Greedy action selection (Жадный выбор действия)\n",
        "\n",
        "**Упражнение 10:** Давайте реализуем функцию, которая, учитывая вектор Q-значений, возвращает действие с наибольшим Q-значением (т. е. жадное действие).\n",
        "\n",
        "**Useful methods:**\n",
        "*   `jax.numpy.argmax` ([docs](https://jax.readthedocs.io/en/latest/_autosummary/jax.numpy.argmax.html))"
      ]
    },
    {
      "cell_type": "code",
      "execution_count": 78,
      "metadata": {
        "id": "Nn9P1YdzTIDU"
      },
      "outputs": [],
      "source": [
        "# Implement a function takes q-values as input and returns the greedy_action\n",
        "def select_greedy_action(q_values):\n",
        "\n",
        "  # YOUR CODE\n",
        "  action = jax.numpy.argmax(q_values)\n",
        "  # END YOUR CODE\n",
        "\n",
        "  return action"
      ]
    },
    {
      "cell_type": "code",
      "execution_count": 79,
      "metadata": {
        "colab": {
          "base_uri": "https://localhost:8080/"
        },
        "id": "ZBzLr_G7QKXR",
        "outputId": "be8381bc-1da9-4f60-84bf-47780c169568"
      },
      "outputs": [
        {
          "output_type": "stream",
          "name": "stdout",
          "text": [
            "Looks good.\n"
          ]
        }
      ],
      "source": [
        "# @title Проверка упр 10 (run me) {display-mode: \"form\"}\n",
        "\n",
        "try:\n",
        "  q_values = jnp.array([1,1,3,4])\n",
        "  action = select_greedy_action(q_values)\n",
        "\n",
        "  if action != 3:\n",
        "    print(\"Incorrect answer, your greedy action selector looks wrong\")\n",
        "  else:\n",
        "    print(\"Looks good.\")\n",
        "except Exception as e:\n",
        "  print(\"An Error Occured: {}\".format(e))\n"
      ]
    },
    {
      "cell_type": "markdown",
      "metadata": {
        "id": "PFQUlqZ4ZyLp"
      },
      "source": [
        "### Q-Network\n",
        "В отличие от подхода с градиентом политики из предыдущего раздела, в Q-обучении и других методах RL на основе значений нам не нужна параметризация для политики, вместо этого мы параметризуем Q-функцию с помощью нейронной сети $Q_\\theta$. Мы получаем политику из Q-сети, всегда выбирая действие с *наибольшим* значением:\n",
        "\n",
        "$\\hat{\\pi}_\\theta(s)=\\arg \\max \\limits_a\\ Q_{\\theta}(s, a)$\n",
        "\n",
        "Как и ранее, мы будем использовать хайку для создания нейронной сети для аппроксимации этой Q-функции. Сеть будет принимать наблюдение в качестве входных данных, а затем выводить Q-значение для каждого из доступных действий. Таким образом, в случае CartPole выход сети будет иметь размер $2$."
      ]
    },
    {
      "cell_type": "code",
      "execution_count": 80,
      "metadata": {
        "id": "9wU1soJYZyLp"
      },
      "outputs": [],
      "source": [
        "def build_network(num_actions: int, layers=[20, 20]) -> hk.Transformed:\n",
        "  \"\"\"Factory for a simple MLP network for approximating Q-values.\"\"\"\n",
        "\n",
        "  def q_network(obs):\n",
        "    network = hk.Sequential(\n",
        "        [hk.Flatten(),\n",
        "         hk.nets.MLP(layers + [num_actions])])\n",
        "    return network(obs)\n",
        "\n",
        "  return hk.without_apply_rng(hk.transform(q_network))"
      ]
    },
    {
      "cell_type": "markdown",
      "metadata": {
        "id": "sUwG-4qTS1zx"
      },
      "source": [
        "Давайте инициализируем нашу Q-сеть и получим начальные параметры."
      ]
    },
    {
      "cell_type": "code",
      "execution_count": 81,
      "metadata": {
        "colab": {
          "base_uri": "https://localhost:8080/"
        },
        "id": "1uvq5n2cS9lu",
        "outputId": "e49e07c0-04fb-4fdb-857a-3974bdbd3c6c"
      },
      "outputs": [
        {
          "output_type": "stream",
          "name": "stdout",
          "text": [
            "Q-Learning params: dict_keys(['mlp/~/linear_0', 'mlp/~/linear_1', 'mlp/~/linear_2'])\n"
          ]
        }
      ],
      "source": [
        "# Initialise Q-network\n",
        "Q_NETWORK = build_network(num_actions=num_actions, layers=[20, 20]) # two actions\n",
        "\n",
        "dummy_obs = jnp.zeros((1,*obs_shape), jnp.float32) # a dummy observation like the one in CartPole\n",
        "\n",
        "random_key = jax.random.PRNGKey(42) # random key\n",
        "Q_NETWORK_PARAMS = Q_NETWORK.init(random_key, dummy_obs) # Get initial params\n",
        "\n",
        "print(\"Q-Learning params:\", Q_NETWORK_PARAMS.keys())"
      ]
    },
    {
      "cell_type": "markdown",
      "metadata": {
        "id": "iqCUeZfhEfyP"
      },
      "source": [
        "Прежде чем мы реализуем функцию потерь, необходимую для обучения нашей Q-сети, давайте сначала обсудим интуицию, стоящую за ней."
      ]
    },
    {
      "cell_type": "markdown",
      "metadata": {
        "id": "vbLig3uSZyLp"
      },
      "source": [
        "### The Bellman Equations (Уравнения Беллмана)\n",
        "Функция значения может быть записана рекурсивно как:\n",
        "\n",
        "$Q_{\\pi}(s, a) =\\underset{s^{\\prime} \\sim P}{\\mathrm{E}}\\left[r(s, a)+ \\underset{a^{\\prime} \\sim \\pi}{\\mathrm{E}}\\left[Q_{\\pi}\\left(s^{\\prime}, a^{\\prime}\\right)\\right]\\right]$,\n",
        "\n",
        "где $s' \\sim P$ — это сокращение для обозначения того, что следующее состояние $s'$ выбирается из функции перехода среды $P(s'\\mid s,a)$. Интуитивно это уравнение говорит, что ценность действия $a$, которое вы предприняли в состоянии $s$, равна вознаграждению $r$, которое вы ожидаете получить, плюс ценность, которую вы ожидаете получить в следующем состоянии $s`$, в котором вы окажетесь, при условии, что вы выберете свое следующее действие $a`$ с политикой $\\pi$. Уравнение Беллмана для оптимальной функции ценности выглядит так:\n",
        "\n",
        "$Q_{*}(s, a) =\\underset{s^{\\prime} \\sim P}{\\mathrm{E}}\\left[r(s, a)+\\ \\underset{a^{\\prime}}{\\max}\\ Q_{*}(s^{\\prime}, a^{\\prime})\\right]$\n",
        "\n",
        "Обратите внимание, что вместо выбора вашего следующего действия $a`$ с политикой $\\pi$ мы выбираем действие с наибольшим значением Q.\n",
        "\n",
        "Более подробное обсуждение уравнений Беллмана можно найти на сайте [OpenAI Spinning Up](https://spinningup.openai.com/en/latest/spinningup/rl_intro.html)."
      ]
    },
    {
      "cell_type": "markdown",
      "metadata": {
        "id": "DsOJi5G8ZyLp"
      },
      "source": [
        "### The Bellman Backup (Резервное копирование Беллмана)\n",
        "\n",
        "Чтобы научиться аппроксимировать оптимальную функцию Q-значения, мы можем использовать правую часть уравнения Беллмана в качестве правила обновления. Другими словами, предположим, что у нас есть Q-сеть $Q_\\theta$, аппроксимированная с использованием параметров $\\theta$, тогда мы можем итеративно обновлять параметры таким образом, что\n",
        "\n",
        "$Q_\\theta(s,a)\\leftarrow r(s, a) + \\underset{a'}{\\max}\\ Q_\\theta(s', a')$.\n",
        "\n",
        "Интуитивно это означает, что аппроксимация Q-значения действия $a$ в состоянии $s$ должна быть обновлена ​​таким образом, чтобы она была ближе к равной вознаграждению, полученному от среды $r(s, a)$, плюс значение наилучшего возможного действия в следующем состоянии $s'$. Мы можем выполнить эту оптимизацию, минимизируя разницу между левой и правой частью относительно параметров $\\theta$, используя градиентный спуск. Мы можем измерить разницу между двумя значениями, используя [квадратичную ошибку](https://en.wikipedia.org/wiki/Mean_squared_error#Loss_function).\n",
        "\n",
        "**Упражнение 11:** Реализуйте функцию квадратичной ошибки.\n",
        "\n",
        "**Полезные функции**\n",
        "* `jax.numpy.square` ([docs](https://jax.readthedocs.io/en/latest/_autosummary/jax.numpy.square.html))"
      ]
    },
    {
      "cell_type": "code",
      "execution_count": 88,
      "metadata": {
        "id": "PTto__ohZyLp"
      },
      "outputs": [],
      "source": [
        "def compute_squared_error(pred, target):\n",
        "  # YOUR CODE\n",
        "  squared_error = jax.numpy.square(pred-target)\n",
        "  # END YOUR CODE\n",
        "\n",
        "  return squared_error"
      ]
    },
    {
      "cell_type": "code",
      "execution_count": 83,
      "metadata": {
        "colab": {
          "base_uri": "https://localhost:8080/"
        },
        "id": "wGhX8XTFVPVU",
        "outputId": "638376c0-f97d-46bf-8ce3-ca912861e781"
      },
      "outputs": [
        {
          "output_type": "stream",
          "name": "stdout",
          "text": [
            "Looks good.\n"
          ]
        }
      ],
      "source": [
        "#@title Проверка упр 11 {display-mode: \"form\"}\n",
        "\n",
        "try:\n",
        "  result = compute_squared_error(1, 4)\n",
        "\n",
        "  if result != 9:\n",
        "    print(\"Your implementation looks wrong.\")\n",
        "  else:\n",
        "    print(\"Looks good.\")\n",
        "except Exception as e:\n",
        "  print(\"An Error Occured: {}\".format(e))"
      ]
    },
    {
      "cell_type": "markdown",
      "metadata": {
        "id": "ycpZVkgdZyLp"
      },
      "source": [
        "**Упражнение 12:** Реализуйте функцию, которая вычисляет **цель Беллмана** (правая часть уравнения Беллмана). Если эпизод находится на последнем временном шаге (т. е. done==1.0), то цель Беллмана должна быть равна награде, без дополнительного значения в конце.\n",
        "\n",
        "**Полезные функции**\n",
        "* `jax.numpy.max` ([docs](https://jax.readthedocs.io/en/latest/_autosummary/jax.numpy.max.html))"
      ]
    },
    {
      "cell_type": "code",
      "execution_count": 260,
      "metadata": {
        "id": "961_OllWZyLp"
      },
      "outputs": [],
      "source": [
        "# Bellman target\n",
        "def compute_bellman_target(reward, done, next_q_values):\n",
        "  \"\"\"A function to compute the bellman target.\n",
        "\n",
        "  Args:\n",
        "      reward: a scalar reward.\n",
        "      done: a scalar of value either 1.0 or 0.0, indicating if the transition is a terminal one.\n",
        "      next_q_values: a vector of q_values for the next state. One for each action.\n",
        "  Returns:\n",
        "      A scalar equal to the bellman target.\n",
        "\n",
        "  \"\"\"\n",
        "  # YOUR CODE\n",
        "  bellman_target = reward + jax.lax.select(done != 1.0, jax.numpy.max(next_q_values), 0.0)\n",
        "  # END YOUR CODE\n",
        "\n",
        "  return bellman_target"
      ]
    },
    {
      "cell_type": "code",
      "execution_count": 261,
      "metadata": {
        "colab": {
          "base_uri": "https://localhost:8080/"
        },
        "id": "E5RAhegOWAkC",
        "outputId": "56aff806-0755-459d-e1d1-941420e5e5f8"
      },
      "outputs": [
        {
          "output_type": "stream",
          "name": "stdout",
          "text": [
            "Looks good.\n"
          ]
        }
      ],
      "source": [
        "#@title Проверка упр 12 {display-mode: \"form\"}\n",
        "\n",
        "try:\n",
        "  # not done\n",
        "  result1 = compute_bellman_target(1, 0.0, np.array([3,2], \"float32\"))\n",
        "\n",
        "  # done\n",
        "  result2 = compute_bellman_target(1, 1.0, np.array([3,2], \"float32\"))\n",
        "\n",
        "  if result1 != 4 or result2 != 1:\n",
        "    print(\"Your implementation looks wrong.\")\n",
        "  else:\n",
        "    print(\"Looks good.\")\n",
        "except Exception as e:\n",
        "  print(\"An Error Occured: {}\".format(e))"
      ]
    },
    {
      "cell_type": "markdown",
      "metadata": {
        "id": "8sIjrHSJZyLq"
      },
      "source": [
        "Теперь мы можем объединить эти две функции, чтобы вычислить потерю для Q-обучения. Потери Q-обучения равны квадрату разницы между прогнозируемым значением Q действия и его соответствующей целью Беллмана.\n",
        "\n",
        "**Упражнение 13:** Реализуйте функцию потери Q-обучения."
      ]
    },
    {
      "cell_type": "code",
      "execution_count": 241,
      "metadata": {
        "id": "LJY_kpFcZyLq"
      },
      "outputs": [],
      "source": [
        "def q_learning_loss(q_values, action, reward, done, next_q_values):\n",
        "    \"\"\"Implementation of the Q-learning loss.T\n",
        "\n",
        "    Args:\n",
        "        q_values: a vector of Q-values, one for each action.\n",
        "        action: an integer, giving the action that was chosen. q_values[action] is the value of the chose action.\n",
        "        done: is a scalar that indicates if this is a terminal transition.\n",
        "        next_q_values: a vector of Q-values in the next state.\n",
        "    Returns:\n",
        "        The squared difference between the q_value of the chosen action and the bellman target.\n",
        "    \"\"\"\n",
        "    # YOUR CODE\n",
        "    chosen_action_q_value = q_values[action] # q_value of action, use array indexing\n",
        "    bellman_target = compute_bellman_target(reward, done, next_q_values)\n",
        "    squared_error = compute_squared_error(chosen_action_q_value, bellman_target)\n",
        "    # END YOUR CODE\n",
        "\n",
        "    return squared_error"
      ]
    },
    {
      "cell_type": "code",
      "execution_count": 242,
      "metadata": {
        "colab": {
          "base_uri": "https://localhost:8080/"
        },
        "id": "1aZRn1qaWx2M",
        "outputId": "073f967d-ade3-4842-dfba-3737756c9953"
      },
      "outputs": [
        {
          "output_type": "stream",
          "name": "stdout",
          "text": [
            "Looks good.\n"
          ]
        }
      ],
      "source": [
        "#@title Проверка упр 13 {display-mode: \"form\"}\n",
        "\n",
        "try:\n",
        "  result = q_learning_loss(np.array([3,2], \"float32\"), 1, 2, 0.0, np.array([3,2], \"float32\"))\n",
        "\n",
        "  if result != 9.0:\n",
        "    print(\"Your implementation looks wrong.\")\n",
        "  else:\n",
        "    print(\"Looks good.\")\n",
        "except Exception as e:\n",
        "  print(\"An Error Occured: {}\".format(e))"
      ]
    },
    {
      "cell_type": "markdown",
      "metadata": {
        "id": "b4YnSUfJZyLq"
      },
      "source": [
        "### Target Q-network (Целевая Q-сеть)\n",
        "Обратите внимание: когда мы вычисляем цель Беллмана, мы используем нашу Q-сеть $Q_\\theta$ для вычисления значения для следующего состояния $s_t$. По сути, мы используем наше последнее приближение Q-функции для вычисления цели нашего следующего приближения. Использование приближения для вычисления цели для вашего следующего приближения называется самозагрузкой. К сожалению, если мы наивно делаем такую ​​самозагрузку, это может сделать обучение нейронной сети очень нестабильным. Чтобы смягчить это, мы можем вместо этого использовать другой набор параметров $\\hat{\\theta}$ для вычисления значений в состоянии $s_{t+1}$. Мы будем сохранять параметры $\\hat{\\theta}$ фиксированными и только периодически обновлять их, чтобы они были равны последним онлайн-параметрам $\\theta$ каждые пару шагов обучения *(скажем, 100)*. Это позволяет сохранять фиксированные цели Беллмана для пары шагов обучения, чтобы помочь снизить нестабильность из-за самозагрузки.\n",
        "\n",
        "Нам нужно будет отслеживать последние (онлайн) параметры, а также параметры целевых сетей. Давайте создадим `NamedTuple` для хранения этих двух значений. Нам также нужно будет отслеживать количество шагов обучения, которые мы сделали, чтобы знать, когда обновлять целевую сеть. Давайте сохраним `count` шагов обучения в `learn_state`."
      ]
    },
    {
      "cell_type": "code",
      "execution_count": 243,
      "metadata": {
        "id": "DvZqUKmq6L7k"
      },
      "outputs": [],
      "source": [
        "# Store online and target parameters\n",
        "QLearnParams = collections.namedtuple(\"Params\", [\"online\", \"target\"])\n",
        "\n",
        "# Q-learn-state\n",
        "QLearnState = collections.namedtuple(\"LearnerState\", [\"count\", \"optim_state\"])"
      ]
    },
    {
      "cell_type": "markdown",
      "metadata": {
        "id": "CJWH2_kNZsau"
      },
      "source": [
        "Мы снова будем использовать Optax для оптимизации нашей нейронной сети в JAX. Мы сохраняем состояние оптимизатора в `learn_state` выше. Давайте теперь создадим экземпляр оптимизатора и добавим начальные параметры Q-сети в объект `QLearnParams`."
      ]
    },
    {
      "cell_type": "code",
      "execution_count": 244,
      "metadata": {
        "id": "HwqKTN6BaAXE"
      },
      "outputs": [],
      "source": [
        "# Initialise Q-network optimizer\n",
        "Q_LEARN_OPTIMIZER = optax.adam(3e-4) # learning rate\n",
        "\n",
        "Q_LEARN_OPTIM_STATE = Q_LEARN_OPTIMIZER.init(Q_NETWORK_PARAMS) # initial optim state\n",
        "\n",
        "# Create Learn State\n",
        "Q_LEARNING_LEARN_STATE = QLearnState(0, Q_LEARN_OPTIM_STATE) # count set to zero initially\n",
        "\n",
        "# Add initial Q-network weights to QLearnParams object\n",
        "Q_LEARNING_PARAMS = QLearnParams(online=Q_NETWORK_PARAMS, target=Q_NETWORK_PARAMS) # target equal to online"
      ]
    },
    {
      "cell_type": "markdown",
      "metadata": {
        "id": "xj89M8LgZlFe"
      },
      "source": [
        "Теперь мы можем реализовать простую функцию, которая обновляет параметры целевых сетей, чтобы они соответствовали последним онлайн-параметрам каждые 100 шагов обучения."
      ]
    },
    {
      "cell_type": "code",
      "execution_count": 245,
      "metadata": {
        "id": "SKrg_3rO6cCL"
      },
      "outputs": [],
      "source": [
        "def update_target_params(learn_state, online_weights, target_weights):\n",
        "  \"\"\"A function to update target params every 100 training steps\"\"\"\n",
        "\n",
        "  target = jax.lax.cond(\n",
        "      jax.numpy.mod(learn_state.count, 100) == 0,\n",
        "      lambda x, y: x,\n",
        "      lambda x, y: y,\n",
        "      online_weights,\n",
        "      target_weights\n",
        "  )\n",
        "\n",
        "  params = QLearnParams(online_weights, target)\n",
        "\n",
        "  return params"
      ]
    },
    {
      "cell_type": "markdown",
      "metadata": {
        "id": "KoiaYSo9ZyLq"
      },
      "source": [
        "### Q-learning loss (Функция потери Q-обучения)\n",
        "Теперь у нас есть все необходимое для реализации функции `q_learn`, которая принимает некоторую партию переходов и выполняет шаг Q-обучения для обновления параметров сети. Но сначала мы используем `jax.vmap` для изменения функции `q_learning_loss` так, чтобы она принимала партии переходов. Кроме того, мы вычислим Q-значения, передавая наблюдения через `Q_NETWORK`, и целевые Q-значения, используя целевые параметры `Q_NETWORK`."
      ]
    },
    {
      "cell_type": "code",
      "execution_count": 246,
      "metadata": {
        "id": "hnrsGppWZyLq"
      },
      "outputs": [],
      "source": [
        "def batched_q_learning_loss(online_params, target_params, obs, actions, rewards, next_obs, dones):\n",
        "    q_values = Q_NETWORK.apply(online_params, obs) # use the online parameters\n",
        "    next_q_values = Q_NETWORK.apply(target_params, next_obs) # use the target parameters\n",
        "    squared_error = jax.vmap(q_learning_loss)(q_values, actions, rewards, dones, next_q_values) # vmap q_learning_loss\n",
        "    mean_squared_error = jnp.mean(squared_error) # mean squared error over batch\n",
        "    return mean_squared_error"
      ]
    },
    {
      "cell_type": "markdown",
      "metadata": {
        "id": "CU8vo9ZebnEa"
      },
      "source": [
        "Теперь мы можем создать функцию `q_learn`, которая вычисляет градиент `batched_q_learning_loss`, а затем использует оптимизатор Optax для обновления весов сети, а затем, наконец (возможно), обновляет целевые параметры."
      ]
    },
    {
      "cell_type": "code",
      "execution_count": 247,
      "metadata": {
        "id": "6BYoX2W_ZyLr"
      },
      "outputs": [],
      "source": [
        "def q_learn(rng, params, learner_state, memory):\n",
        "  # Compute gradients\n",
        "  grad_loss = jax.grad(batched_q_learning_loss)(params.online, params.target, memory.obs,\n",
        "                                          memory.action, memory.reward,\n",
        "                                          memory.next_obs, memory.done,\n",
        "                                          ) # jax.grad\n",
        "\n",
        "  # Get updates\n",
        "  updates, opt_state = Q_LEARN_OPTIMIZER.update(grad_loss, learner_state.optim_state)\n",
        "\n",
        "  # Apply them\n",
        "  new_weights = optax.apply_updates(params.online, updates)\n",
        "\n",
        "  # Maybe update target network\n",
        "  params = update_target_params(learner_state, new_weights, params.target)\n",
        "\n",
        "  # Increment learner step counter\n",
        "  learner_state = QLearnState(learner_state.count + 1, opt_state)\n",
        "\n",
        "  return params, learner_state"
      ]
    },
    {
      "cell_type": "markdown",
      "metadata": {
        "id": "VpZsKHssZyLq"
      },
      "source": [
        "### Replay Buffer (Буфер воспроизведения)\n",
        "Для Q-обучения нам понадобится память агента, которая хранит целые переходы: `obs`, `action`, `reward`, `next_obs`, `done`. Когда мы извлекаем переходы из памяти, они должны выбираться случайным образом из всех переходов, собранных до сих пор. В RL мы часто называем такой модуль **буфером воспроизведения**.\n",
        "\n",
        "Одним из преимуществ использования такого буфера воспроизведения является то, что опыт можно повторно использовать несколько раз для обучения, в отличие от алгоритма градиента политики REINFORCE, где мы отбрасывали воспоминания после их использования для обучения."
      ]
    },
    {
      "cell_type": "code",
      "execution_count": 248,
      "metadata": {
        "id": "8tv5dUH6ZyLr"
      },
      "outputs": [],
      "source": [
        "class TransitionMemory(object):\n",
        "  \"\"\"A simple Python replay buffer.\"\"\"\n",
        "\n",
        "  def __init__(self, max_size=10_000, batch_size=256):\n",
        "    self.batch_size = batch_size\n",
        "    self.buffer = collections.deque(maxlen=max_size)\n",
        "\n",
        "  def push(self, transition):\n",
        "\n",
        "    # add transition to the replay buffer\n",
        "    self.buffer.append(\n",
        "        (transition.obs, transition.action, transition.reward,\n",
        "          transition.next_obs, transition.done)\n",
        "    )\n",
        "\n",
        "\n",
        "  def is_ready(self):\n",
        "    return self.batch_size <= len(self.buffer)\n",
        "\n",
        "  def sample(self):\n",
        "    # Randomly sample a batch of transitions from the buffer\n",
        "    random_replay_sample = random.sample(self.buffer, self.batch_size)\n",
        "\n",
        "    # Batch the transitions together\n",
        "    obs_batch, action_batch, reward_batch, next_obs_batch, done_batch = zip(*random_replay_sample)\n",
        "\n",
        "    return Transition(\n",
        "        np.stack(obs_batch).astype(\"float32\"),\n",
        "        np.asarray(action_batch).astype(\"int32\"),\n",
        "        np.asarray(reward_batch).astype(\"float32\"),\n",
        "        np.stack(next_obs_batch).astype(\"float32\"),\n",
        "        np.asarray(done_batch).astype(\"float32\")\n",
        "    )\n",
        "\n",
        "# Instantiate the memory\n",
        "Q_LEARNING_MEMORY = TransitionMemory(max_size=50_000, batch_size=256)"
      ]
    },
    {
      "cell_type": "markdown",
      "metadata": {
        "id": "XbHk03VVUHAV"
      },
      "source": [
        "### Случайное исследование\n",
        "У нас почти есть все, что нужно для функционирующего агента Q-обучения. Но одна проблема заключается в том, что если мы всегда выбираем действие с наивысшим значением Q, то политика агента будет полностью [детерминированной](https://www.quora.com/What-is-the-intuitive-difference-between-a-stochastic-model-and-a-deterministic-model). Это означает, что агент всегда будет выбирать одну и ту же стратегию. Это может представлять проблему, поскольку в начале обучения Q-сеть будет очень неточной (т. е. плохой аппроксимацией истинной Q-функции). Таким образом, агент будет последовательно выбирать неоптимальные действия. Более того, агент никогда не отклонится от своей неоптимальной стратегии и никогда не обнаружит новые, потенциально более полезные действия. В результате Q-сеть остается неточной. В идеале агент должен опробовать много разных стратегий, чтобы он мог наблюдать результаты (вознаграждения) своих действий в разных состояниях и таким образом улучшить приближение Q-функции.\n",
        "\n",
        "Один простой способ гарантировать, что агент опробует много разных действий, — позволить ему периодически выбирать некоторые случайные действия вместо жадного (лучшего) действия все время.\n",
        "\n",
        "**Упражнение 14:** Реализуйте функцию, которая, учитывая количество возможных (дискретных) действий, возвращает случайное действие.\n",
        "\n",
        "**Полезные методы:**\n",
        "\n",
        "*  `jax.random.randint` ([docs](https://jax.readthedocs.io/en/latest/_autosummary/jax.random.randint.html))"
      ]
    },
    {
      "cell_type": "code",
      "execution_count": 381,
      "metadata": {
        "id": "uUKkpMLXUtko"
      },
      "outputs": [],
      "source": [
        "def select_random_action(key, num_actions):\n",
        "\n",
        "    # YOUR CODE\n",
        "    action = jax.random.randint(key=key, shape=(), minval=0, maxval=num_actions)\n",
        "\n",
        "    return action"
      ]
    },
    {
      "cell_type": "code",
      "execution_count": 382,
      "metadata": {
        "colab": {
          "base_uri": "https://localhost:8080/"
        },
        "id": "NO6va6S2Y40E",
        "outputId": "567feb80-f571-4561-f865-f4d392d48a00"
      },
      "outputs": [
        {
          "output_type": "stream",
          "name": "stdout",
          "text": [
            "Looks good.\n"
          ]
        }
      ],
      "source": [
        "#@title Проверка упр 14 {display-mode: \"form\"}\n",
        "\n",
        "try:\n",
        "  random_key1 = random_key = jax.random.PRNGKey(6) # random key\n",
        "  random_key2 = random_key = jax.random.PRNGKey(1000) # random key\n",
        "  result1 = select_random_action(random_key1, 2)\n",
        "  result2 = select_random_action(random_key2, 2)\n",
        "\n",
        "  if result1 != 1 or result2 != 0:\n",
        "    print(\"Your implementation looks wrong.\")\n",
        "  else:\n",
        "    print(\"Looks good.\")\n",
        "except:\n",
        "  print(\"Your implementation looks wrong.\")"
      ]
    },
    {
      "cell_type": "markdown",
      "metadata": {
        "id": "8-kKDFT6XU6y"
      },
      "source": [
        "### $\\varepsilon$-greedy action selection (эпсилон жадный выбор действия)\n",
        "В начале обучения, когда точность Q-сети низкая, агенту стоит в основном совершать случайные действия, чтобы он мог узнать, насколько хороши/плохи действия. Однако по мере повышения точности Q-сети агент должен начать совершать меньше случайных действий и вместо этого начать выбирать жадные действия относительно Q-значений. Выбор лучших действий с учетом текущей Q-сети называется **эксплуатацией**. В RL мы часто называем отношение случайных и жадных действий **эпсилоном** $\\varepsilon$. Эпсилон обычно представляет собой десятичное значение в интервале $[0,1]$, где, например, $\\varepsilon=0.4$ означает, что агент выбирает случайное действие в 40% случаев, а жадное действие — в 60% случаев. В RL принято линейно уменьшать значение эпсилон с течением времени, так что агент становится все более жадным по мере повышения точности его Q-сети в процессе обучения.\n",
        "\n",
        "**Упражнение 15:** Реализуйте функцию, которая принимает количество временных шагов в качестве входных данных и возвращает текущее значение эпсилон."
      ]
    },
    {
      "cell_type": "code",
      "execution_count": 251,
      "metadata": {
        "id": "_qejnbCocurG"
      },
      "outputs": [],
      "source": [
        "EPSILON_DECAY_TIMESTEPS = 3000 # decay epsilon over 3000 timesteps\n",
        "EPSILON_MIN = 0.1 # 10% exploration"
      ]
    },
    {
      "cell_type": "code",
      "execution_count": 252,
      "metadata": {
        "id": "5ujSbssCZyLs"
      },
      "outputs": [],
      "source": [
        "def get_epsilon(num_timesteps):\n",
        "  # YOUR CODE\n",
        "  epsilon = 1.0 - num_timesteps / EPSILON_DECAY_TIMESTEPS # decay epsilon\n",
        "\n",
        "  epsilon = jax.lax.select(\n",
        "      epsilon < EPSILON_MIN,\n",
        "      EPSILON_MIN, # if less than min then set to min\n",
        "      epsilon # else don't change epsilon\n",
        "  )\n",
        "  # END YOUR CODE\n",
        "\n",
        "  return epsilon"
      ]
    },
    {
      "cell_type": "code",
      "execution_count": 298,
      "metadata": {
        "colab": {
          "base_uri": "https://localhost:8080/"
        },
        "id": "hvu4zA64aUou",
        "outputId": "3120d434-38f7-4d5c-c9d0-3e2c476738b9"
      },
      "outputs": [
        {
          "output_type": "stream",
          "name": "stdout",
          "text": [
            "Your function looks correct.\n"
          ]
        }
      ],
      "source": [
        "#@title Проверка упр 15 {display-mode: \"form\"}\n",
        "def check_get_epsilon(get_epsilon):\n",
        "  try:\n",
        "    result1 = get_epsilon(10)\n",
        "    result2 = get_epsilon(5_010)\n",
        "\n",
        "    if result1 != 0.99666667 or result2 != 0.1:\n",
        "      print(\"Your function looks wrong.\")\n",
        "    else:\n",
        "      print(\"Your function looks correct.\")\n",
        "  except:\n",
        "    print(\"Your function looks wrong.\")\n",
        "\n",
        "check_get_epsilon(get_epsilon)\n"
      ]
    },
    {
      "cell_type": "markdown",
      "metadata": {
        "id": "t56oo58TVQ_s"
      },
      "source": [
        "**Упражнение 16:** Теперь давайте объединим эти функции для выполнения эпсилон-жадного выбора действия."
      ]
    },
    {
      "cell_type": "code",
      "execution_count": 389,
      "metadata": {
        "id": "NlQx8K4vKUXj"
      },
      "outputs": [],
      "source": [
        "def select_epsilon_greedy_action(key, q_values, num_timesteps):\n",
        "    num_actions = len(q_values) # number of available actions\n",
        "\n",
        "    # YOUR CODE HERE\n",
        "    epsilon = get_epsilon(num_timesteps) # get epsilon value\n",
        "\n",
        "    should_explore = jax.random.uniform(key) < epsilon # hint: a boolean expression to check if some random number is less than epsilon\n",
        "\n",
        "    action = jax.lax.select(\n",
        "        should_explore,\n",
        "        select_random_action(key, num_actions), # if should explore\n",
        "        jnp.argmax(q_values).astype(int) # if should be greedy\n",
        "    )\n",
        "    # END YOUR CODE\n",
        "\n",
        "    return action"
      ]
    },
    {
      "cell_type": "code",
      "execution_count": 390,
      "metadata": {
        "colab": {
          "base_uri": "https://localhost:8080/"
        },
        "id": "mkVU2a5e7P6b",
        "outputId": "3500b6cb-5f46-4e0c-fa93-9d0fabd02fce"
      },
      "outputs": [
        {
          "output_type": "stream",
          "name": "stdout",
          "text": [
            "Looks correct!\n"
          ]
        }
      ],
      "source": [
        "#@title Проверка упражнения 16 {display-mode: \"form\"}\n",
        "\n",
        "try:\n",
        "  rng = hk.PRNGSequence(jax.random.PRNGKey(42))\n",
        "  dummy_q_values = jnp.array([0,1], jnp.float32)\n",
        "  num_timesteps = 5010 # very greedy\n",
        "  actions1 = []\n",
        "  for i in range(10):\n",
        "      actions1.append(int(select_epsilon_greedy_action(next(rng), dummy_q_values, num_timesteps)))\n",
        "\n",
        "  num_timesteps = 0 # completly random\n",
        "  actions2 = []\n",
        "  for i in range(10):\n",
        "      actions2.append(int(select_epsilon_greedy_action(next(rng), dummy_q_values, num_timesteps)))\n",
        "\n",
        "  if actions1 != [1, 1, 0, 1, 1, 0, 1, 1, 1, 1] or actions2 != [0, 0, 0, 1, 1, 1, 1, 0, 0, 0]:\n",
        "    print(\"Looks like something might be incorrect!\")\n",
        "  else:\n",
        "    print(\"Looks correct!\")\n",
        "except:\n",
        "  print(\"Looks like something might be incorrect!\")"
      ]
    },
    {
      "cell_type": "markdown",
      "metadata": {
        "id": "y5W23MnobN9x"
      },
      "source": [
        "### Действие выбора Q-learning\n",
        "\n",
        "Теперь у нас есть все необходимое для создания функции `q_learning_select_action`. Мы будем использовать `actor_state` для хранения счетчика, который отслеживает текущее количество временных шагов. Мы можем использовать счетчик для уменьшения нашего значения `epsilon`."
      ]
    },
    {
      "cell_type": "code",
      "execution_count": 377,
      "metadata": {
        "id": "81TysLc0RjM6"
      },
      "outputs": [],
      "source": [
        "# Actor state stores the current number of timesteps\n",
        "QActorState = collections.namedtuple(\"ActorState\", [\"count\"])\n",
        "\n",
        "def q_learning_select_action(key, params, actor_state, obs, evaluation=False):\n",
        "    obs = jnp.expand_dims(obs, axis=0) # add dummy batch dim\n",
        "    q_values = Q_NETWORK.apply(params.online, obs)[0] # remove batch dim\n",
        "\n",
        "    action = select_epsilon_greedy_action(key, q_values, actor_state.count)\n",
        "    greedy_action = select_greedy_action(q_values)\n",
        "\n",
        "    action = jax.lax.select(\n",
        "        evaluation,\n",
        "        greedy_action,\n",
        "        action\n",
        "    )\n",
        "\n",
        "    next_actor_state = QActorState(actor_state.count + 1) # increment timestep counter\n",
        "\n",
        "    return action, next_actor_state\n",
        "\n",
        "Q_LEARNING_ACTOR_STATE = QActorState(0) # counter set to zero"
      ]
    },
    {
      "cell_type": "markdown",
      "metadata": {
        "id": "z884-1oNRGEr"
      },
      "source": [
        "### Обучение\n",
        "Теперь мы можем собрать все вместе, используя цикл агент-среда. Но сначала давайте объединим функцию выбора действия и функцию обучения для дополнительной скорости."
      ]
    },
    {
      "cell_type": "code",
      "execution_count": 380,
      "metadata": {
        "colab": {
          "base_uri": "https://localhost:8080/",
          "height": 680
        },
        "id": "xbdHDbd1RjM8",
        "outputId": "05dd2c6e-9c45-481f-b112-df69b3a4566e"
      },
      "outputs": [
        {
          "output_type": "stream",
          "name": "stdout",
          "text": [
            "Starting training. This may take up to 8 minutes to complete.\n",
            "Episode: 0\tEpisode Return: 19.0\tAverage Episode Return: 19.0\tEvaluator Episode Return: 9.625\n",
            "Episode: 100\tEpisode Return: 12.0\tAverage Episode Return: 13.1\tEvaluator Episode Return: 9.875\n",
            "Episode: 200\tEpisode Return: 10.0\tAverage Episode Return: 9.75\tEvaluator Episode Return: 9.0\n",
            "Episode: 300\tEpisode Return: 9.0\tAverage Episode Return: 10.05\tEvaluator Episode Return: 9.25\n",
            "Episode: 400\tEpisode Return: 10.0\tAverage Episode Return: 9.6\tEvaluator Episode Return: 10.125\n",
            "Episode: 500\tEpisode Return: 18.0\tAverage Episode Return: 20.2\tEvaluator Episode Return: 23.25\n",
            "Episode: 600\tEpisode Return: 76.0\tAverage Episode Return: 55.05\tEvaluator Episode Return: 122.0\n",
            "Episode: 700\tEpisode Return: 200.0\tAverage Episode Return: 168.25\tEvaluator Episode Return: 193.125\n",
            "Episode: 800\tEpisode Return: 200.0\tAverage Episode Return: 194.85\tEvaluator Episode Return: 195.625\n",
            "Episode: 900\tEpisode Return: 200.0\tAverage Episode Return: 200.0\tEvaluator Episode Return: 200.0\n",
            "Episode: 1000\tEpisode Return: 200.0\tAverage Episode Return: 198.9\tEvaluator Episode Return: 200.0\n"
          ]
        },
        {
          "output_type": "display_data",
          "data": {
            "text/plain": [
              "<Figure size 640x480 with 1 Axes>"
            ],
            "image/png": "[encoded data removed]"
          },
          "metadata": {}
        }
      ],
      "source": [
        "# Jit functions\n",
        "q_learning_select_action_jit = jax.jit(q_learning_select_action)\n",
        "q_learn_jit = jax.jit(q_learn)\n",
        "\n",
        "# Run environment loop\n",
        "print(\"Starting training. This may take up to 8 minutes to complete.\")\n",
        "episode_returns, evaluator_returns = run_training_loop(\n",
        "                                        env_name,\n",
        "                                        Q_LEARNING_PARAMS,\n",
        "                                        q_learning_select_action_jit,\n",
        "                                        Q_LEARNING_ACTOR_STATE,\n",
        "                                        q_learn_jit,\n",
        "                                        Q_LEARNING_LEARN_STATE,\n",
        "                                        Q_LEARNING_MEMORY,\n",
        "                                        num_episodes=1001,\n",
        "                                        train_every_timestep=True, # do learning after every timestep\n",
        "                                        video_subdir=\"q_learning\"\n",
        "                                    )\n",
        "\n",
        "plt.plot(episode_returns)\n",
        "plt.xlabel(\"Episodes\")\n",
        "plt.ylabel(\"Episode Return\")\n",
        "plt.title(\"Deep Q-Learning\")\n",
        "plt.show()"
      ]
    },
    {
      "cell_type": "markdown",
      "metadata": {
        "id": "2k0-41wbpFDE"
      },
      "source": [
        "На этом этапе, как мы надеемся, приближенная Q-функция сошлась к приемлемой политике балансировки шеста в задаче CartPole."
      ]
    },
    {
      "cell_type": "code",
      "execution_count": 385,
      "metadata": {
        "colab": {
          "base_uri": "https://localhost:8080/",
          "height": 289
        },
        "id": "t4v0ZbB4FQUs",
        "outputId": "74f6d09f-44a1-4044-ce8b-a0131a6f7cb1"
      },
      "outputs": [
        {
          "output_type": "execute_result",
          "data": {
            "text/plain": [
              "<IPython.core.display.HTML object>"
            ],
            "text/html": [
              "\n",
              "<video width=400 controls>\n",
              "      <source src=\"data:video/mp4;base64,AAAAIGZ0eXBpc29tAAACAGlzb21pc28yYXZjMW1wNDEAAAAIZnJlZQAALedtZGF0AAACrgYF//+q3EXpvebZSLeWLNgg2SPu73gyNjQgLSBjb3JlIDE2MyByMzA2MCA1ZGI2YWE2IC0gSC4yNjQvTVBFRy00IEFWQyBjb2RlYyAtIENvcHlsZWZ0IDIwMDMtMjAyMSAtIGh0dHA6Ly93d3cudmlkZW9sYW4ub3JnL3gyNjQuaHRtbCAtIG9wdGlvbnM6IGNhYmFjPTEgcmVmPTMgZGVibG9jaz0xOjA6MCBhbmFseXNlPTB4MzoweDExMyBtZT1oZXggc3VibWU9NyBwc3k9MSBwc3lfcmQ9MS4wMDowLjAwIG1peGVkX3JlZj0xIG1lX3JhbmdlPTE2IGNocm9tYV9tZT0xIHRyZWxsaXM9MSA4eDhkY3Q9MSBjcW09MCBkZWFkem9uZT0yMSwxMSBmYXN0X3Bza2lwPTEgY2hyb21hX3FwX29mZnNldD0tMiB0aHJlYWRzPTMgbG9va2FoZWFkX3RocmVhZHM9MSBzbGljZWRfdGhyZWFkcz0wIG5yPTAgZGVjaW1hdGU9MSBpbnRlcmxhY2VkPTAgYmx1cmF5X2NvbXBhdD0wIGNvbnN0cmFpbmVkX2ludHJhPTAgYmZyYW1lcz0zIGJfcHlyYW1pZD0yIGJfYWRhcHQ9MSBiX2JpYXM9MCBkaXJlY3Q9MSB3ZWlnaHRiPTEgb3Blbl9nb3A9MCB3ZWlnaHRwPTIga2V5aW50PTI1MCBrZXlpbnRfbWluPTI1IHNjZW5lY3V0PTQwIGludHJhX3JlZnJlc2g9MCByY19sb29rYWhlYWQ9NDAgcmM9Y3JmIG1idHJlZT0xIGNyZj0yMy4wIHFjb21wPTAuNjAgcXBtaW49MCBxcG1heD02OSBxcHN0ZXA9NCBpcF9yYXRpbz0xLjQwIGFxPTE6MS4wMACAAAACE2WIhAAz//727L4FNf2f0JcRLMXaSnA+KqSAgHc0wAAAAwAAAwAAFgn0I7DkqgN3QAAAHGAFBCwCPCVC2EhH2Rpv+DIDrYANE/9jSwTLn9c7ssRCE+VfVwhBpho8pMBHNfue29fJyG9GjRlW2Nfk/8WOMbRWqD3loqdDaHm4g+lg+LBUMgidJnuix1jjI7J32dXp9QBSp320B2HWsSK+ul9csjkc7PVzlVUQh/3hX7elXedKh2b5kIBPg8vmQcJvMYbBOcQ7JLh90yfJiwJYsXupJkOxqtMaFI/mom7FtjodDX4GmNDscFPgSC4BbXsfvzGbt5GK1jAdHZFSxkArA6cLQ3cu/o/TXW8PZjAImKAC2YE7hY1/wRZC9FPVz8tXoqGGWyAbo7yr0/QigK0WGq2/ZIkM9sqfvpIBWQRt+y/NGorHk2D0jYCNbBgfRWcEGe2/svnyh7H6bybi3cY5CmOwMRaoAAADAKGW5NLr1XBUiVTULn4mjc4b1GDepywBccO3+7Wh2/2P0qFmnPecbl+op0sOBmWNfBMmjTUcB4Cv8Yr2tTRSY4dLY5m41XCuPs44tOza2ea+jw82vQwEu1UpB1LoJQt72N8Cvwn4rHCU4+0A7r6XEtool0rBkoAAAGMemI/q70ajXS0QRBq0KgNAwfxdbb87WwEN6lkzOZcYtoCFWuOggGMXwAAAAwAAAwCUgQAAATpBmiRsQz/+nhAAAF/9RW0V78sfJIgBfdp3yYNitVXrrCn+diniEzf7JNu1P1tRQrfT4YrzGTZYIfy6pLn11o6IxWLUiUzPJ15ACQe1OBdWxdLWTqDYHMyNjLDVJOYO8ajUuxIWwyAfYyCtIshbW5YZYhvQkDWAAmdIx51/+CzAZ2WGEkdbE1ZmqI/SWZ9bE3CZ4CJwgE4r5PKVC/l33A5A/cikNCXMTYe97Ccc05WtidpOGjwJY7RATyI08N9wlHdW20wWCQR80FQMFu8HjsHNstJZgSUW5iMw+d7+QDPa2D6wj140vWEZWOvPYzScriyLYsqK+iof/tTgOmdBQLvREBTkKPI8pUxRx7sj3z/cuSoUAARqZqpwCHCC6Y33v0X9+GAVon7oZ8T/a3NBjWIAdm7oKSJsvWBAwAAAAFhBnkJ4hH8AAB5gOIx02a2jtdYAP3l+pkzKJH/CbS/1oOZ44kKUNj+WQMKrhIrbWA/W36piKGcgucy/4+gRiF0yDrL6rnWRmk2X8PgTaUjjEtwC2KkGgAGDAAAAKQGeYXRH/wAAMPhzL+REeFggAYB4ySr/WR9MMARHmwMXDNG+l50hVItoAAAAHwGeY2pH/wAADYSfmSS7nAWIKHA24JoAtNXHlpVAE3EAAABUQZpoSahBaJlMCGf//p4QAABFRQ01gA5+865Qr4J8Yu08931CD82GSH2K3ApYXDv+3JbIlNVi67I+1YFfev96e6p51XdStrbdB51Sy8dEwTevOzTBAAAAK0GehkURLCP/AAAWs0iSjEHEkwvmd1vbpqCNKn5OvCIJdtrbYQ30aYH1j0kAAAAfAZ6ldEf/AAANfhXCdAxyoiysUDZ/WZWREpR83mgyoQAAABoBnqdqR/8AACOyKwYgnzPqjigEy5MLTNRMGAAAAE5BmqxJqEFsmUwIX//+jLAAABtPW7+lN81Ug1PqwYd2XTAXZOEOig3jDTcL3LnN/NHqdFAXsc/5vqdkGnNH9RF/8vjRkrrtOgLRczcr5MAAAAAfQZ7KRRUsI/8AAAMDOFMJvRMm+1SYFQEc2f0u8rnAgQAAAC0Bnul0R/8AAAMB4GgiXGnr2ycKt8SUxCr5zG3wAM8ef6kPOhBrCWntBiuNCYAAAAAOAZ7rakf/AAADAAADAakAAABHQZrwSahBbJlMCF///oywAABGAtPeARVlvZ2cuDxiysymlJMQKjgh+yGxXm2C6vvfBVgOH81oloiE24EEZnKXzRBeuZaeN4EAAAAmQZ8ORRUsI/8AABa1WFU0QpRijV8kzSrYXqh8fXGY4X8CrcXUy2cAAAAYAZ8tdEf/AAAjrDkFiEfl58m2B8YsNACBAAAAIAGfL2pH/wAABQ4Rx+YlnK8ij9ucbarBsFmU03sDuRwIAAAAQUGbMkmoQWyZTBRMM//+nhAAAEVUqU6Av+vjt35m7abWwIN55AADpNYHwgPsEX4nH39t8/TFbnKRDk4+T3lK9n/gAAAAGgGfUWpH/wAAI78aza5H13UARTcv+2E5noe9AAAAW0GbVknhClJlMCGf/p4QAABHRQUU4M4A/CfHzBhr5og+1aFucFY7R5FbyR/GOCOybDF5tgOPDbawvmuF+EMssEy88/5ZoTiXsJ6aAoQYsGwY15fNhjp+QDbdHM4AAAAqQZ90RTRMI/8AABdMQ823FcnZDUH4bYCYzMMJxADYdSVzndI9iBYXd8teAAAAGgGfk3RH/wAABRxbeZLHx//XBOs0b3c8aHuBAAAAGQGflWpH/wAAJL8EJxLJaZq4VlUWzrkah4AAAAA9QZuaSahBaJlMCGf//p4QAAAJ/7P4+p+UWhDd4AFgT37WiX2ggIzii4ap5cQL6SlC0QULG9H9Mpl+dcNN5wAAACRBn7hFESwj/wAAAwM4UlGE4/qe1b6Ys2UAJLp80LFhj4a16kEAAAAfAZ/XdEf/AAADAeayJh/ZqgBQAkuvh5FOAAFJrPjpwQAAABABn9lqR/8AAAMB5n/igGfBAAAATEGb3kmoQWyZTAhn//6eEAAAR0UINAK4U1/C/FPppJGubC8JSRUOT3GoDUKRUW+A5VX7I98Yonbvnr9QVIsuETW9S7DlIT7OuzcJs9EAAAAsQZ/8RRUsI/8AABdFKzdrWkKsKFMAs/zejaPxZ6HM+AAW0IyvZt/gBGTTa8EAAAAXAZ4bdEf/AAAkq/hbeBKbOsx70BbxggcAAAAaAZ4dakf/AAAFHT5ht2RnbRcJyb7+27VqRYAAAAA+QZoCSahBbJlMCGf//p4QAABHRQUfGk8xDLrF5PWE0pz7cQRxp7cYO+/jzEmyj7nc/li4/zW9G9xL2r3yfp4AAAAmQZ4gRRUsI/8AABdFKzdrWyCRFPdQkWGjGgYbm5zdSqH4KwmSwi0AAAAXAZ5fdEf/AAAkwxdoqaVT1PvCdscQ1IAAAAAaAZ5Bakf/AAAFHT5ht2RnbRcJyb7+27VqRYEAAAAuQZpGSahBbJlMCGf//p4QAABHVKk+4/yBb6Z3lkTZLEldHAfjvcdJG9AEVsgJuAAAADRBnmRFFSwj/wAAF0xDzbcWhf/FvD38wAtmsaMcOYJVIAb9Lows80TxluBJCdcZkreldp3vAAAAHAGeg3RH/wAAAwC+9viaxfZLh7290p7Fejn82vEAAAAeAZ6Fakf/AAAkscwJb6S1zVlVwPbdeUG0fgETMj3BAAAANEGaikmoQWyZTAhn//6eEAAAR0UFFN6MLWy+hJdTTrepkaOeWyq2DDYIRGgh2Hhc3vbZjN0AAAAjQZ6oRRUsI/8AABdFKzdrWl64udGWIISG7Ow+1KMCCk1o4IAAAAAmAZ7HdEf/AAAkwxdoqaT0Ihr+7W4oMeSncu/8MbWIZ1wphb9k2pAAAAAcAZ7Jakf/AAAFDhHH5jNa2+Sc5BVBnvJb6trIsQAAAChBms5JqEFsmUwIZ//+nhAAAEdUqT7j/IFvpnbnLe+sqMSa58w5aiLgAAAALkGe7EUVLCP/AAAXTEPNtxXmikOCA5tmB232OA2gSOSLhWgRjI4DkHsxIhfW1IAAAAAbAZ8LdEf/AAAFQ8cP39dhCB7ZN9VBbBlE4j3BAAAAHQGfDWpH/wAAJLHMCW+pb7IVkPmab8paZq/gTWpBAAAAQUGbEkmoQWyZTAhn//6eEAAAR0UFFN6MNVoAKZBp9RrUVL6uoEcrnDjOBdOkaUON4rH9tHJEfhoOIK/BNr6EtotBAAAAI0GfMEUVLCP/AAAXRSs3a1peuLnRliCEhuzsPtSjAgpNaOCAAAAAJgGfT3RH/wAAJMMXaKmk9CIa/u1uKDHkp3Lv/DG1iGdcKYW/ZNqQAAAAKgGfUWpH/wAAAwC/SVLPcSWm35TXRU+QqmAB6yH76fjiOWgn78Vujo97gQAAAE5Bm1ZJqEFsmUwIX//+jLAAAEgUW0Uja2ssIVD0b9J7ZrBPEswWINYjhmLLAcbgFr3XCxVn6OyVR3R4bMy4Pi7Hhl420gn/+1rB8Xr61KsAAAAqQZ90RRUsI/8AABdFKzdrWrL3FevT8AAnZzd6UVmxYJVtyMcmfRJomU2AAAAAGAGfk3RH/wAAJMMXaKmlzaeBgw9a72LBJwAAABoBn5VqR/8AAAUdPmG3ZGdtFwnJvv7btWpFgAAAAD9Bm5pJqEFsmUwIX//+jLAAAEgCz5u9vsgOL+GnfkF8ABVjtHD5GvHO3+6j/fjEfQTlc+WfS0VyRt7K9v8RMvEAAAAeQZ+4RRUsI/8AABdFKzfSUAJLarZoSC1JNjJC6pExAAAAFwGf13RH/wAAJMMXaKmlU9T7wnbAc+esAAAAEAGf2WpH/wAAAwAaaTwod0EAAABJQZvcSahBbJlMFEwz//6eEAAAR1SpPuP8gW+md5RlHWYuqKNQUAJMwXB5ZAhSdX1Z4aZ292FS1qHpBEjRWgH1pg2VkptXFw4EfgAAACcBn/tqR/8AACS/BCcSyWgk3yj7ueLQZIq+UEhGDNLlSDp4PY+MhwUAAABQQZvgSeEKUmUwIZ/+nhAAAEdRCXfiCdHYIoAMfnefVryNCalSbKgB12Rc6SEyDWKZra/laep8IkoidKie99us/VZgaFA/dc/3THk6olaHOIkAAAAqQZ4eRTRMI/8AABdMQ823FcnZDUH4bZA/QBEZp2eI6BMlPQYO2McV3R7gAAAAGwGePXRH/wAABRxbeevo2FovJXBOb/tX9XdOCAAAABcBnj9qR/8AACS/BCcSyWmauFZVFuaCTwAAAFdBmiRJqEFomUwIZ//+nhAAAEdRCXpmuGDrq96lAt3otyUnvZ3mUed1p3pJwd16nJ2EwBc86tC92suUmAN3GIlP4hH39Oz4+DBBB9nCUMUIo5zBqyQVqV4AAAAkQZ5CRREsI/8AABdMTmthA+wmFxY2kx0l24o3uFcRoGtPirLxAAAAGwGeYXRH/wAADX4S8yXN88FBG/MMVh7aw6CyLAAAABQBnmNqR/8AACSyKwcTOOGoI8B+QQAAAENBmmhJqEFsmUwIZ//+nhAAAEdRCXpC3BSLLjWmrqQIcaGXfzC+Es0O0aF3QNzBMFRfPsFBYdRyHf/DKX4hfoZInRaRAAAAOkGehkUVLCP/AAAXRVb9dG1TCACdT8tPVLplGz1v1Ay9zgTDuLubIO9FCYaOHQTFvI1822BAwblKRYEAAAAaAZ6ldEf/AAAkwz4OeNhPQqxbJGGdlKTGI1MAAAAUAZ6nakf/AAAFQT5g4mccNQR4cEAAAABBQZqsSahBbJlMCGf//p4QAABHVKlOnefuVrEY8x2tTeEIjllIAaHEpAFK0yo+ISZgKpaqkx4bDVWFpWhLCQuw9iAAAAAoQZ7KRRUsI/8AABdFWGfAAG6jS3BnQvCztF8DEKKHP0TUvc6oR6jsCQAAACIBnul0R/8AACTDPgwbZ42kARTcv+2Nra4gwrfMztuO17jYAAAAGwGe62pH/wAAAwHxf9Vsayz0mChQsuQS06ZS7gAAAEJBmvBJqEFsmUwIZ//+nhAAAEdEWnPv/A0AHzyBmfhI1DZ95HBkz3jsX2Y9KA1z9uY6wDl8e9IJaZ7ZzXP2yrQQKJEAAAAnQZ8ORRUsI/8AABdDSIvfKvCMulhQADdO8Bz0ZuPaZNETiKIbK+pBAAAAFgGfLXRH/wAAJKw5Ba5PHz8VjWcBSTkAAAAfAZ8vakf/AAAkvxrOkez4983PHyBGnwaUh3E+QigEXAAAAE1BmzRJqEFsmUwIZ//+nhAAAElFBPcucAc9ODRzirOqvwHFSUgp1mHJgt2nudiIwyAwGk8OmIGT7rS5UBNgKtffqOmeipXd8DQ5SXJcOgAAACJBn1JFFSwj/wAAF+mDzbcVzhmCRSPdpEgRD661+IjSqk6dAAAAKAGfcXRH/wAABUPQwc8bCfi+FsrCZ2brsAADPJ3CoRcbvhKjNWWi3IMAAAAZAZ9zakf/AAAlvwQnEslpmrhWVRbOuRqDgAAAADZBm3hJqEFsmUwIZ//+nhAAAElRCU8FNkXNjNMYDA38gACtaU1ngpFU4xr35HGh1PU2fNJlsYEAAAApQZ+WRRUsI/8AABfiazdrWv9XQABO6i+pFnOc3/0hphrjWAaxJ20js+AAAAAgAZ+1dEf/AAAlwxdoqaXNp9EFcj6QVKsXwAJuPOZzZ8EAAAAaAZ+3akf/AAAFQT5ht2RnbRcJyb7+27VqQYEAAABIQZu8SahBbJlMCGf//p4QAABJRFn2JuzOYl06oM4W80gBCrMkygOz3O2Igb46eS3ejHPIaREFIGGbl3yZTMJfeuj4cAZQJHTvAAAAJUGf2kUVLCP/AAAX4Ie3DblBaAD+1bjvaI6iXX4Xyh4c63jZ3WEAAAAXAZ/5dEf/AAAlwxdoqaVT1PvCdsBz54QAAAAhAZ/7akf/AAAlvwQnEsloBKS5IUjVjNhTOGCuL/vdcSDBAAAAMEGb4EmoQWyZTAhn//6eEAAASUUFTLpwf7L5sEt6h3uwHt57Ee2qDjnw/rNYI/Jo2wAAACNBnh5FFSwj/wAAF+mDzbcVzhmCRSQkhNY1YPRXpFhQ7Vu6wAAAABsBnj10R/8AAAVAW3nr6NhaLyVwTm/Vr5wiz4AAAAAWAZ4/akf/AAAlscwJb6lvshVShawR8QAAADJBmiRJqEFsmUwIZ//+nhAAAElRCU8FNkXNoEtGtERq6fjX/1ngABMrkaEKCs8NEc9OYAAAACRBnkJFFSwj/wAAF+JrN2ta/0MBrzHPh0/+iJri1RHoAmFWbcEAAAAgAZ5hdEf/AAAlwxdoqaXNp4GDlSmHRLb0AoknjWrN3WAAAAAaAZ5jakf/AAAFQT5ht2RnbRcJyb7+27VqQYEAAABGQZpoSahBbJlMCGf//p4QAABJRFoiXTg/2Cp52ctkhFwetQACFO8cPxplQfWHyCp/kK4ov9I3WFrU8kgq3KARl4Fu0pZDFQAAAChBnoZFFSwj/wAAF+CHtw25HDDlAA1YmtgAuBcsK3+ZtM0KIzCWL+fBAAAAFwGepXRH/wAAJav4W3gSnWgjiCXIlh1RAAAAIAGep2pH/wAAJb8EJxLJcT3S3FFYVOpul2ZsLpt1bLTgAAAAU0GarEmoQWyZTAhn//6eEAAASURaIl04Nf1uAr8GADLVhMNI0oVOOJccMPLKqW4NCQzRfVBkVxErybb++IV3iBNidxqdxOfs1p0LmKoQukQze42gAAAAKUGeykUVLCP/AAAX4Ie3DbckTihnhS3sVqRADYX8K8m7raVGUn0xEFJhAAAAKgGe6XRH/wAAJcMXaKmk9CIa/u1uNSY6/oAAXOguVAsYCJELHK2Dpyq6wAAAABgBnutqR/8AACW/BCcSyWmauFZTHynXj0gAAABHQZrwSahBbJlMCGf//p4QAABJZUFOqf+noKE41MYYA5O+QSn2/smqBTsmWWd6TGZhNdha02IPr2xOLzm4004gVQfb+ES2dWEAAAAjQZ8ORRUsI/8AABfpg8223HiJiR2r9UWIQsdoWsiA94B1Z8EAAAAbAZ8tdEf/AAAFQFzhOgJGJKFCGYFgZuYOQsgxAAAAGwGfL2pH/wAAJbHMCW+pb7IVSPv8BijIPnebcAAAAHZBmzRJqEFsmUwIZ//+nhAAAElEWnN1oZZ0VP919eADirDkiHtfPp4E3CNJ1cHnskm1KdXJY053a58G0It9HN3/VRtkpGLF/IyxG8qpzrAbL33AstxYg4RPjbQct1u3SjY+2QVxG6JaSLFC0rmxwBIlrFjQoi1eAAAAMUGfUkUVLCP/AAAX4IiRMqMFLJDM15AJ2QklXO1e36ogBvDMyha3CLUe9U/2i8qjsGEAAAAYAZ9xdEf/AAAlrDj+9JE5he+GYAf/eAGhAAAALAGfc2pH/wAAJb8bPkj6JRtquERRZW07adwyJg3cymxY8ijYG5e+YPsgONSDAAAAakGbeEmoQWyZTAhn//6eEAAASURac6eeoQAjIYdRGtcSxNJ5O9gb9RtiQllEvE2rln6BTHunejIe5K/AhCxwblm0hYtmKcN6ChqP6TNhOMFnCo2/dkYH1mzUaOKeyvc3NdqOT+RL7RnKskEAAAAoQZ+WRRUsI/8AABfgiIvfNQSLiCsE8fU57oABx2xdygB0RMUGe5ozbgAAACUBn7V0R/8AACXDPgwbZ42k9f7+TIgBK/TFSb5+2Gifg39/Oh2hAAAAGgGft2pH/wAAJb8aznveCZHpDNtYfeb+2BjhAAAAVkGbvEmoQWyZTAhn//6eEAAAS0RZ9ibszr79n7LAzP8+6qXJatABd3Gj/pjgVvO2jhL/s1UqotbxlfQO9fUwHB3l0cTLVypwmq6eWo9ecffwLT8MzZsmAAAALEGf2kUVLCP/AAAYiXYVu69WFIgBsQGSfQIkJNvyGbrV4Lkf56XH5oB5Tn59AAAALAGf+XRH/wAAJcM+BULPG/lJMt3FppVyVFIguAbk4iQngcXSBRg8aRGxRTPgAAAAMAGf+2pH/wAAJr8EJxLJaZq24iOiptDI8PU56fa9nV9lQAP+OeYsGLD9Qlp4acUb6wAAAEhBm+BJqEFsmUwIZ//+nhAAAEtEWfYm7M5gIXPt932IuGJJgDbnRiyOSdL3Josxz4nexhJBaylkEEypxAEu0o4VDzL/9wlzXCkAAABRQZ4eRRUsI/8AABiAh7cNxQcAVvWNcM/QGCrJanuWmNVsG26tYivkyV/esj//B4vazx1sYHN7vhaud/AU/KrVfxeFGsFpc3zB3BQODdceGgpwAAAAGAGePXRH/wAAJqv4W3gSnWi22L+UcycKSAAAACwBnj9qR/8AACaxzA9uqiqZwMlPT8k+KhJD6VMI7tzlrteHJWrNtlvYInQFsQAAAF1BmiRJqEFsmUwIZ//+nhAAAEtDkAEAOenJze1TiOJ+5Z99BidoD3zmIAHe3+zTsPwvIOJaRXdWE74ngBVTddBR/aAYFrvPGQL8GCBjIakv1J1dZ5uJslJbH9mmtVkAAABIQZ5CRRUsI/8AABiAh7cN3m444ZMAabWbJAdFlAruwZeStiFqXvhq07LmNyy0NqMlj+tSZgeYQBHMtYbveNUDIRMt4ZLXLOfBAAAAKQGeYXRH/wAAJsCZ3einlhMhCmYkTNLkScRZParm/6iIY0qZDuucMnHKAAAAJgGeY2pH/wAAJr8EJZGoydroJpmFguMi16F7ib6MvrEhIZZhU7hBAAAAQkGaaEmoQWyZTAhn//6eEAAAS2jGh+pgsG/5nBr28ESzoedZTAIs/vl5gA0IWJlU19auAG5RO82yMhxsdd6GbeU73wAAACFBnoZFFSwj/wAAGICHtw25HC/l0Nexku5Sd0kVSIBTj3EAAAAoAZ6ldEf/AAAmwxdis8AIDplQgiuv3btDHcvI0bQgBCaTltis2bLPgQAAAB0BnqdqR/8AACa/BCcSyWmauFZTHyo7fi+tjQSPcAAAAGJBmqxJqEFsmUwIZ//+nhAAAEtEWfYm7M5vNFPVkLErZW5usoAiLlPttXzxkCZwyu3TCcD/QQE9ToavPe9zRx//I1CCBiNe/UtjhF73u9J5I6S5y6u/NTym3QfvEwPYgVTW9AAAADlBnspFFSwj/wAAGICHtw25HQmGGGZxEdVNzq92N70rerbS1BwsgwA37d04jZSQVodNv/TQoSjG7oEAAAAoAZ7pdEf/AAAmq/hbeBPIKqJjfzSq2T+Omw6vQtGqBdiBXD3Ry+jsqAAAACQBnutqR/8AACaxzAlv5w0keFiP6XIdMttFBkIsbosniVBFsqAAAABZQZrwSahBbJlMCGf//p4QAABLQ49sJt5M7QWNABYE6cofg83SDUPmwZpl7FPNntanxHi/PATNs9EHz4lrnKgJutrq0QdaZ+IplKCXAH9YJM6DWRUCfleurOEAAAA6QZ8ORRUsI/8AABiAh86vw6cVwNezAARD6pYWA1swg0CqA63mByYyGvwUNYhBXK6OtRl0Sr+7APR7gQAAACMBny10R/8AACbAmTJ8svYH5Y9nUUo51ppH6HPZG99j3ppp3QAAACkBny9qR/8AACayKG0EFIparnKcJuV9eXgq8a6tHt3qOzlVYnJZGQARrwAAAFdBmzRJqEFsmUwIZ//+nhAAAEtUnP19zffOD1ekCAFmG1kMEm3o1YI+6B8RJVwleJOBftzTqO6TX2moypMQlSH1hFtFzuwb211MTqZAYHnHvSQQgt9v/4gAAAAoQZ9SRRUsI/8AABiAiIvfO05nSo6RbhFYOfUqkZFgHiXxQF4eGlDwsQAAACABn3F0R/8AACbAmpW85qiXwLUczsEAdvV0xifMqWMpZQAAACcBn3NqR/8AACa/Gs5YxcoqS5ncaGFyWuKMUjUHjU+6GYwkAK+Um4AAAAA+QZt4SahBbJlMCGf//p4QAABNQ48wYrMy4Ma1bhTgbi6NLnEHGs9QIXbKbdH/fUq7t93c33udTh4qJEodTMEAAAAuQZ+WRRUsI/8AABkgh7cNwTQA0diSTSL5n5ZT8BvBvAIjjhW3Lj9ezlLz31TdMAAAACQBn7V0R/8AACfbVyYoUYNwCT3XvmTLodXbVBuAIR+curmHtlEAAAAdAZ+3akf/AAAn2YSz3ElpmrhWUx8qO34vrY0EjrEAAAA5QZu8SahBbJlMCGf//p4QAABNVJz7jH+QR6ipsKL7myYlO6Xsa7UnEdfu6hU0nujDnjS8l+yKtUxAAAAAKEGf2kUVLCP/AAAZIIe3Dbn7KXOd2gFB/k4WOAAJIs2iGLegT8ojXcEAAAAmAZ/5dEf/AAAn21cmKFbJq7JPsVYCk9ACRSnaKKrsncaRF+KrHWAAAAAdAZ/7akf/AAAn2YSz3ElpmrhWUx8qO34vrY0EjrEAAABMQZvgSahBbJlMCGf//p4QAABNQ49HLpwf7L5d7SABb1f1LsnUQPhGfQg19dhOZldf3l8YSUbLEf33C9TjlMts72x+v7pWm6/72yifTQAAADFBnh5FFSwj/wAAGRAxuBJnCmgBLTXKZNN9yRAUsF6TSdMaKs5TSnPHuqfL9efVrouAAAAAHwGePXRH/wAAJ9tXJihWyauyT7OgZi3PnynXmVlnxpwAAABAAZ4/akf/AAAnyYBxEuUKoACvuRetSSqfcuVudsvAckYu+IqvGNlLNYMwULSlXKOSomE4eDX07bNUkzO1VqhOXQAAAEtBmiRJqEFsmUwIZ//+nhAAAE1Dzawm3lE9PFACtJ05Q7zHWw5EfmlSrXR+hF14ShBj2p542y7703RgibpOuOJB3Q/EwbkqlpZ7BlkAAAAzQZ5CRRUsI/8AABkf7C9Tpo1+0AUp21oMSUpsnA4hMHvuF7hIl4W+s0j7he6G6ad1ULXdAAAAHwGeYXRH/wAAJ9tXJihRg2XU/6eeS/x0bg458zbcANoAAAApAZ5jakf/AAAnxVXs9AyCkFK+VjvN5J/dYlO4cYgVgN2cqrE5MhwsA08AAABNQZpoSahBbJlMCGf//p4QAABNUOYrLr7b3AAFta7Byi50/uqyzRaqRk1Ba7Zh3Z75E1H+/zrn45s950lttDB71iL5hU0I6XBWZZ4DIoEAAAAnQZ6GRRUsI/8AABkf7I21JmlzP8WXdJ4NB2oFb1QQUP/4VZT1hD0hAAAANAGepXRH/wAAJ8LbzDDQVQAW3V1z7SiKsgtvjzkIUegDn+rPLoMs/vYzGpEWr2SA1+ce6ykAAAAhAZ6nakf/AAAnxVXh86eE4gx9jAPLW/ZTQHq2AXRVZrKAAAAAdEGarEmoQWyZTAhn//6eEAAAT2tXXVHgG/3NxADdb8q5FY75SC2l37V02/6+D/QqmFFR9uFWmW67SJu5/MxmgVmkvU/lZByT+eBXUpkmepXNg/em9dx9dz2fYTleZUyjv22XduMncDVnQ1qMX45oKBlOeO4UAAAALUGeykUVLCP/AAAZv+weoxtHC/l0JcrEIWDDZs8qB9xbLBtkEUoCgHDB7KMDgQAAACYBnul0R/8AACj7VyYoVspUSl0OFrbId1wAAWiwIBZNAjv5JygILwAAACIBnutqR/8AACjlU9M8eoZUhOuX0m6Lf6SjO8RSzpk8OpnwAAAAO0Ga8EmoQWyZTAhn//6eEAAAT2sKeqbfd6GOJqAFEEq6Qb3qkmGO7V4fIGkUDp1tF4rYgf09NXZr8dGBAAAAIUGfDkUVLCP/AAAZwIe3DbkcL+XQ17GS7lJ3SRVIgFOOEQAAAEYBny10R/8AACj7VyYoVRktbogAJajcbV67hsm/H3AZgvM23ustLBGKFodFHmJgSHxNPkSKp2EXYdMGLjxrNJimRfVD9eyxAAAALQGfL2pH/wAAKOmAcPsnyuwDhxaQC5eXUVWzz3Otu8ifngstaiR1U0jv45mwIAAAAKFBmzRJqEFsmUwIZ//+nhAAAE9rWJ1ADeVWTJFtagrWqr71+UNJ8vk9De4KbuqT1Yf30b/zgCU+nA0aY1fNZfgR4FanwFmqO+tfmrGZSdpye/m17bECAGfmUmNe1c04Yy1ZOPmJhqbpWYVdTuw42wPVJF5TpBhnGN2+v8/w2PTbtq34pEq6qp5q6A54FOnVwA3hPyucOqYf4jdFxJkjeH1sgAAAACtBn1JFFSwj/wAAGb/r6LQ809Kqfxc9QeVEtAALUlfm4HIjitbtdIkCKNgRAAAAIgGfcXRH/wAAKMg7rKMReKoj0Pqlyfb+BuJobW28k9CEcIAAAAAkAZ9zakf/AAAo5VPTPHqGVITmQLRAALn2GJ0f3dyXHH3/wWBAAAAAiUGbeEmoQWyZTAhf//6MsAAAUvmXHmvrEySDDwi6txdM/asUJe4FpFZ9CvzzhAA4j66EebUVZHvPnys7hqbkkyZr1SOXGFRtYnSACFcUUHASFrYYcCqx6W3BsY+FSbbMIJGbsp6B7zmT5SPGiw71DWjmJuQ9dVRSoqe/RjZ/NEH36OFocy+/z+zDAAAALEGflkUVLCP/AAAZyJtmBl+hSC1Q5xT6IcCAPLto4buJ7JRX5tXqsnI9E7WWAAAAIwGftXRH/wAAKPtWUIIVsibJok+etFppV6wQOs5IG1P0/jTBAAAAJAGft2pH/wAAKOVV4fOng/rBpOU5yljdDwI9Uc7B8BBk3e2amwAAAEpBm7xJqEFsmUwIX//+jLAAAFJp8OHq6fdqz3JAET50/VvC3y6T7NHFe2+E7o4U+QdY2v/JIKPV/zcgX3yZQtgensvtW+JQBKiWgAAAACxBn9pFFSwj/wAAGl/sHqMbRwvzK55+y7mtR9VgGi0Vu4apYgnaPp5ArWjEeQAAAC0Bn/l0R/8AACobVyYoVsn4/QQysryS273oVAkBQd5G6rUZB+X6ufdb3Akye4AAAAAmAZ/7akf/AAAqBVPTPHqGVITmnMNTECqep+Rosw6zcP8eNh2cjAkAAACKQZv/SahBbJlMCF///oywAABSaZESanp5bcJjABneA1QrX0ezjF4Kvmdmy+NbkoOUgXsXPNY6l8A2+9bVyjeob37I+nWo1j+ydOwqrhc/Iqsn9MxOJGZ7/zjbFung4Mq2mczftMzz9e15OFN/KA7p9N/hD1oojQsGfdvz7E5pB046kIZRMQv4PeHrAAAALEGeHUUVLCP/AAAaX+xFyTSvoRQjvTSQjFQUCbl/VghAOxgsFLA5d+ZkXyl3AAAAJAGePmpH/wAAKgVT0zx6hlSE5kCaUUHsSbUhJkZoSqub7hZ+XAAAAGRBmiNJqEFsmUwIX//+jLAAAFJp8VuC8RzPkhAJ6M0IQ4Kkh/vZT3tAylhWUdKywnQlyqoSQPs8ldJ/dVBxg4cABbmmwX2YW41CaHk3WtBD2nAQd8WYcTODuPuWEVAHNATz48LZAAAAKEGeQUUVLCP/AAAaX+votDzTwYvmwqelynNRa/7I7jFbVTDMF/z0GzAAAAAlAZ5gdEf/AAAp6DusokcE6bwm1ob+1kZYK6XbtW+52TELiYmZcQAAACMBnmJqR/8AACoFU9M8eoZUhOZAZScguoVDa+P1km5tFAXt0AAAAEdBmmdJqEFsmUwIT//98QAAAwMOTvOj/WocG46AFjI3yxdrF9KLGBMV+pIx2JSoM18Mmk62K5ymlYYxXOzbvic8DOscP61PEwAAAEFBnoVFFSwj/wAAGmibZgZfoUgz5h1kWdaDueFm/ImATwmgZkrqA++6jiYAAmrwmGnTyaRYA5ZpVy05Ccq9IXQLJQAAACoBnqR0R/8AACobVlCCFbGnGuUw7T7WxqvM780RrOuAJEwl3SgVh+WlqYEAAAAlAZ6makf/AAAqBVXsgNpCaywgrlQYt/Ag8uiWbloPxdSeJ1xZIQAAADpBmqlJqEFsmUwUTH/8hAAAE0ummywZgupGHxAlBIoEwO5KWjJIIZhvUC4cka3GV8Fzzs+l8SBHtZHgAAAAKgGeyGpH/wAAKyVT0zx6iD9EG0gtVa8B2vTiHTlc6S+N9HMMYR6ze+WF3AAADJttb292AAAAbG12aGQAAAAAAAAAAAAAAAAAAAPoAAAPyAABAAABAAAAAAAAAAAAAAAAAQAAAAAAAAAAAAAAAAAAAAEAAAAAAAAAAAAAAAAAAEAAAAAAAAAAAAAAAAAAAAAAAAAAAAAAAAAAAAAAAAACAAALxXRyYWsAAABcdGtoZAAAAAMAAAAAAAAAAAAAAAEAAAAAAAAPyAAAAAAAAAAAAAAAAAAAAAAAAQAAAAAAAAAAAAAAAAAAAAEAAAAAAAAAAAAAAAAAAEAAAAACWAAAAZAAAAAAACRlZHRzAAAAHGVsc3QAAAAAAAAAAQAAD8gAAAIAAAEAAAAACz1tZGlhAAAAIG1kaGQAAAAAAAAAAAAAAAAAADIAAADKAFXEAAAAAAAtaGRscgAAAAAAAAAAdmlkZQAAAAAAAAAAAAAAAFZpZGVvSGFuZGxlcgAAAArobWluZgAAABR2bWhkAAAAAQAAAAAAAAAAAAAAJGRpbmYAAAAcZHJlZgAAAAAAAAABAAAADHVybCAAAAABAAAKqHN0YmwAAACwc3RzZAAAAAAAAAABAAAAoGF2YzEAAAAAAAAAAQAAAAAAAAAAAAAAAAAAAAACWAGQAEgAAABIAAAAAAAAAAEAAAAAAAAAAAAAAAAAAAAAAAAAAAAAAAAAAAAAAAAAAAAY//8AAAA2YXZjQwFkAB//4QAZZ2QAH6zZQJgz5eEAAAMAAQAAAwBkDxgxlgEABmjr48siwP34+AAAAAAUYnRydAAAAAAAAFrVAABa1QAAABhzdHRzAAAAAAAAAAEAAADKAAABAAAAABRzdHNzAAAAAAAAAAEAAAABAAAGWGN0dHMAAAAAAAAAyQAAAAEAAAIAAAAAAQAABQAAAAABAAACAAAAAAEAAAAAAAAAAQAAAQAAAAABAAAFAAAAAAEAAAIAAAAAAQAAAAAAAAABAAABAAAAAAEAAAUAAAAAAQAAAgAAAAABAAAAAAAAAAEAAAEAAAAAAQAABQAAAAABAAACAAAAAAEAAAAAAAAAAQAAAQAAAAABAAADAAAAAAEAAAEAAAAAAQAABQAAAAABAAACAAAAAAEAAAAAAAAAAQAAAQAAAAABAAAFAAAAAAEAAAIAAAAAAQAAAAAAAAABAAABAAAAAAEAAAUAAAAAAQAAAgAAAAABAAAAAAAAAAEAAAEAAAAAAQAABQAAAAABAAACAAAAAAEAAAAAAAAAAQAAAQAAAAABAAAFAAAAAAEAAAIAAAAAAQAAAAAAAAABAAABAAAAAAEAAAUAAAAAAQAAAgAAAAABAAAAAAAAAAEAAAEAAAAAAQAABQAAAAABAAACAAAAAAEAAAAAAAAAAQAAAQAAAAABAAAFAAAAAAEAAAIAAAAAAQAAAAAAAAABAAABAAAAAAEAAAUAAAAAAQAAAgAAAAABAAAAAAAAAAEAAAEAAAAAAQAABQAAAAABAAACAAAAAAEAAAAAAAAAAQAAAQAAAAABAAADAAAAAAEAAAEAAAAAAQAABQAAAAABAAACAAAAAAEAAAAAAAAAAQAAAQAAAAABAAAFAAAAAAEAAAIAAAAAAQAAAAAAAAABAAABAAAAAAEAAAUAAAAAAQAAAgAAAAABAAAAAAAAAAEAAAEAAAAAAQAABQAAAAABAAACAAAAAAEAAAAAAAAAAQAAAQAAAAABAAAFAAAAAAEAAAIAAAAAAQAAAAAAAAABAAABAAAAAAEAAAUAAAAAAQAAAgAAAAABAAAAAAAAAAEAAAEAAAAAAQAABQAAAAABAAACAAAAAAEAAAAAAAAAAQAAAQAAAAABAAAFAAAAAAEAAAIAAAAAAQAAAAAAAAABAAABAAAAAAEAAAUAAAAAAQAAAgAAAAABAAAAAAAAAAEAAAEAAAAAAQAABQAAAAABAAACAAAAAAEAAAAAAAAAAQAAAQAAAAABAAAFAAAAAAEAAAIAAAAAAQAAAAAAAAABAAABAAAAAAEAAAUAAAAAAQAAAgAAAAABAAAAAAAAAAEAAAEAAAAAAQAABQAAAAABAAACAAAAAAEAAAAAAAAAAQAAAQAAAAABAAAFAAAAAAEAAAIAAAAAAQAAAAAAAAABAAABAAAAAAEAAAUAAAAAAQAAAgAAAAABAAAAAAAAAAEAAAEAAAAAAQAABQAAAAABAAACAAAAAAEAAAAAAAAAAQAAAQAAAAABAAAFAAAAAAEAAAIAAAAAAQAAAAAAAAABAAABAAAAAAEAAAUAAAAAAQAAAgAAAAABAAAAAAAAAAEAAAEAAAAAAQAABQAAAAABAAACAAAAAAEAAAAAAAAAAQAAAQAAAAABAAAFAAAAAAEAAAIAAAAAAQAAAAAAAAABAAABAAAAAAEAAAUAAAAAAQAAAgAAAAABAAAAAAAAAAEAAAEAAAAAAQAABQAAAAABAAACAAAAAAEAAAAAAAAAAQAAAQAAAAABAAAFAAAAAAEAAAIAAAAAAQAAAAAAAAABAAABAAAAAAEAAAUAAAAAAQAAAgAAAAABAAAAAAAAAAEAAAEAAAAAAQAABQAAAAABAAACAAAAAAEAAAAAAAAAAQAAAQAAAAABAAAFAAAAAAEAAAIAAAAAAQAAAAAAAAABAAABAAAAAAEAAAUAAAAAAQAAAgAAAAABAAAAAAAAAAEAAAEAAAAAAQAABQAAAAABAAACAAAAAAEAAAAAAAAAAQAAAQAAAAABAAAFAAAAAAEAAAIAAAAAAQAAAAAAAAABAAABAAAAAAEAAAUAAAAAAQAAAgAAAAABAAAAAAAAAAEAAAEAAAAAAQAABQAAAAABAAACAAAAAAEAAAAAAAAAAQAAAQAAAAABAAAFAAAAAAEAAAIAAAAAAQAAAAAAAAABAAABAAAAAAEAAAQAAAAAAgAAAQAAAAABAAAFAAAAAAEAAAIAAAAAAQAAAAAAAAABAAABAAAAAAEAAAUAAAAAAQAAAgAAAAABAAAAAAAAAAEAAAEAAAAAAQAAAwAAAAABAAABAAAAABxzdHNjAAAAAAAAAAEAAAABAAAAygAAAAEAAAM8c3RzegAAAAAAAAAAAAAAygAABMkAAAE+AAAAXAAAAC0AAAAjAAAAWAAAAC8AAAAjAAAAHgAAAFIAAAAjAAAAMQAAABIAAABLAAAAKgAAABwAAAAkAAAARQAAAB4AAABfAAAALgAAAB4AAAAdAAAAQQAAACgAAAAjAAAAFAAAAFAAAAAwAAAAGwAAAB4AAABCAAAAKgAAABsAAAAeAAAAMgAAADgAAAAgAAAAIgAAADgAAAAnAAAAKgAAACAAAAAsAAAAMgAAAB8AAAAhAAAARQAAACcAAAAqAAAALgAAAFIAAAAuAAAAHAAAAB4AAABDAAAAIgAAABsAAAAUAAAATQAAACsAAABUAAAALgAAAB8AAAAbAAAAWwAAACgAAAAfAAAAGAAAAEcAAAA+AAAAHgAAABgAAABFAAAALAAAACYAAAAfAAAARgAAACsAAAAaAAAAIwAAAFEAAAAmAAAALAAAAB0AAAA6AAAALQAAACQAAAAeAAAATAAAACkAAAAbAAAAJQAAADQAAAAnAAAAHwAAABoAAAA2AAAAKAAAACQAAAAeAAAASgAAACwAAAAbAAAAJAAAAFcAAAAtAAAALgAAABwAAABLAAAAJwAAAB8AAAAfAAAAegAAADUAAAAcAAAAMAAAAG4AAAAsAAAAKQAAAB4AAABaAAAAMAAAADAAAAA0AAAATAAAAFUAAAAcAAAAMAAAAGEAAABMAAAALQAAACoAAABGAAAAJQAAACwAAAAhAAAAZgAAAD0AAAAsAAAAKAAAAF0AAAA+AAAAJwAAAC0AAABbAAAALAAAACQAAAArAAAAQgAAADIAAAAoAAAAIQAAAD0AAAAsAAAAKgAAACEAAABQAAAANQAAACMAAABEAAAATwAAADcAAAAjAAAALQAAAFEAAAArAAAAOAAAACUAAAB4AAAAMQAAACoAAAAmAAAAPwAAACUAAABKAAAAMQAAAKUAAAAvAAAAJgAAACgAAACNAAAAMAAAACcAAAAoAAAATgAAADAAAAAxAAAAKgAAAI4AAAAwAAAAKAAAAGgAAAAsAAAAKQAAACcAAABLAAAARQAAAC4AAAApAAAAPgAAAC4AAAAUc3RjbwAAAAAAAAABAAAAMAAAAGJ1ZHRhAAAAWm1ldGEAAAAAAAAAIWhkbHIAAAAAAAAAAG1kaXJhcHBsAAAAAAAAAAAAAAAALWlsc3QAAAAlqXRvbwAAAB1kYXRhAAAAAQAAAABMYXZmNTguNzYuMTAw\" type=\"video/mp4\">\n",
              "</video>\n"
            ]
          },
          "metadata": {},
          "execution_count": 385
        }
      ],
      "source": [
        "#@title Визуализация политики\n",
        "#@markdown Выберите номер эпизода, кратный 100 и меньший или равный 1000, и **запустите эту ячейку**.\n",
        "episode_number = 900 #@param {type:\"number\"}\n",
        "\n",
        "assert (episode_number % 100) == 0, \"Episode number must be a multiple of 100 since we only record every 100th episode.\"\n",
        "assert episode_number < 1001, \"Episode number must be less than or equal to 1000\"\n",
        "\n",
        "\n",
        "eval_episode_number = int(episode_number / 100 * 8)\n",
        "video_path = f\"./video/q_learning/eval/rl-video-episode-{eval_episode_number}.mp4\"\n",
        "\n",
        "mp4 = open(video_path,'rb').read()\n",
        "data_url = \"data:video/mp4;base64,\" + b64encode(mp4).decode()\n",
        "HTML(\"\"\"\n",
        "<video width=400 controls>\n",
        "      <source src=\"%s\" type=\"video/mp4\">\n",
        "</video>\n",
        "\"\"\" % data_url)"
      ]
    },
    {
      "cell_type": "markdown",
      "metadata": {
        "id": "fV3YG7QOZD-B"
      },
      "source": [
        "Кроме того, существует множество алгоритмов RL, которые вносят существенные улучшения в REINFORCE и Deep Q-Learning. См. эти ресурсы:\n",
        "* [REINFORCE с базовым уровнем](https://spinningup.openai.com/en/latest/spinningup/rl_intro3.html#baselines-in-policy-gradients)\n",
        "* [Double Deep Q-Network](https://arxiv.org/pdf/1509.06461.pdf)\n",
        "* [Proximal Policy Optimisation (PPO)](https://arxiv.org/pdf/1707.06347.pdf)\n",
        "\n",
        "Если вы ищете более углубленный онлайн-курс по RL, вы можете ознакомиться с этими курсами:\n",
        "* [Reinforcement Learning Foundations on LinkedIn Learning](https://www.linkedin.com/learning/reinforcement-learning-foundations) (создано одним из наших собственных преподавателей, Хаулатом Абдулхакимом)\n",
        "* [Введение в Reinforcement Learning on FreeCodeCamp](https://www.freecodecamp.org/news/an-introduction-to-reinforcement-learning-4339519de419/)\n",
        "* [Специализация обучения с подкреплением на Coursera](https://www.coursera.org/specializations/reinforcement-learning)\n",
        "\n",
        "Наконец, самый влиятельный учебник по обучению с подкреплением доступен бесплатно онлайн:\n",
        "* [Обучение с подкреплением: введение](http://incompleteideas.net/book/the-book-2nd.html) Ричарда С. Саттона и Эндрю Г. Барто\n",
        "\n",
        "\n",
        "**Ссылки:**\n",
        "\n",
        "* [OpenAI Spinning Up](https://spinningup.openai.com/en/latest/)\n",
        "* [Deep Q-Network]()"
      ]
    },
    {
      "cell_type": "code",
      "execution_count": null,
      "metadata": {
        "id": "6V47Vd_i3qk7"
      },
      "outputs": [],
      "source": []
    }
  ],
  "metadata": {
    "colab": {
      "gpuType": "T4",
      "provenance": []
    },
    "kernelspec": {
      "display_name": "Python 3",
      "name": "python3"
    },
    "language_info": {
      "codemirror_mode": {
        "name": "ipython",
        "version": 3
      },
      "file_extension": ".py",
      "mimetype": "text/x-python",
      "name": "python",
      "nbconvert_exporter": "python",
      "pygments_lexer": "ipython3",
      "version": "3.8.13"
    },
    "vscode": {
      "interpreter": {
        "hash": "0f35138c66f99be0fd7a1210bb4aa94a6fbaa5f29d51ad43aec0e0ea0ff050f0"
      }
    }
  },
  "nbformat": 4,
  "nbformat_minor": 0
}