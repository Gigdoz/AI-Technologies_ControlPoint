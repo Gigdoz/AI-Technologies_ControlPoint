{
  "nbformat": 4,
  "nbformat_minor": 0,
  "metadata": {
    "colab": {
      "provenance": [],
      "toc_visible": true,
      "authorship_tag": "ABX9TyNQE4EN+2vJPapkU8A2SuWD"
    },
    "kernelspec": {
      "name": "python3",
      "display_name": "Python 3"
    },
    "language_info": {
      "name": "python"
    }
  },
  "cells": [
    {
      "cell_type": "code",
      "execution_count": 1,
      "metadata": {
        "id": "i705spmGcNiJ"
      },
      "outputs": [],
      "source": [
        "from statsmodels.stats.outliers_influence import variance_inflation_factor\n",
        "from sklearn.model_selection import cross_val_score, train_test_split\n",
        "\n",
        "from sklearn import metrics, preprocessing\n",
        "\n",
        "import numpy as np\n",
        "import pandas as pd\n",
        "import seaborn as sns\n",
        "import matplotlib.pyplot as plt\n",
        "import warnings\n",
        "warnings.filterwarnings('ignore')"
      ]
    },
    {
      "cell_type": "code",
      "source": [
        "# сразу напишем код функции, которая будет вычислять все нужные метрики\n",
        "\n",
        "def Reg_Models_Evaluation_Metrics (model,X_train,y_train,X_test,y_test,y_pred):\n",
        "    cv_score = cross_val_score(estimator = model, X = X_train, y = y_train, cv = 10)\n",
        "\n",
        "    # Calculating Adjusted R-squared\n",
        "    r2 = model.score(X_test, y_test)\n",
        "    # Number of observations is the shape along axis 0\n",
        "    n = X_test.shape[0]\n",
        "    # Number of features (predictors, p) is the shape along axis 1\n",
        "    p = X_test.shape[1]\n",
        "    # Adjusted R-squared formula\n",
        "    adjusted_r2 = 1-(1-r2)*(n-1)/(n-p-1)\n",
        "    RMSE = np.sqrt(metrics.mean_squared_error(y_test, y_pred))\n",
        "    R2 = model.score(X_test, y_test)\n",
        "    CV_R2 = cv_score.mean()\n",
        "\n",
        "    print(f'RMSE:  {round(RMSE,4)}\\n  R2: {round(R2,4)}\\n Adjusted R2: {round(adjusted_r2, 4)}\\n Cross Validated R2: {round(cv_score.mean(),4)}')\n",
        "    return R2, adjusted_r2, CV_R2, RMSE"
      ],
      "metadata": {
        "id": "Rzv5bWnzsG_r"
      },
      "execution_count": 2,
      "outputs": []
    },
    {
      "cell_type": "markdown",
      "source": [
        "# Регрессия"
      ],
      "metadata": {
        "id": "otVd0qvdRD7z"
      }
    },
    {
      "cell_type": "code",
      "source": [
        "from google.colab import drive\n",
        "\n",
        "drive.mount('/content/drive/')\n",
        "\n",
        "df = pd.read_csv(\"/content/drive/My Drive/Colab Notebooks/CarPrice_Assignment.csv\")"
      ],
      "metadata": {
        "id": "G6jaJxoYz6pC",
        "colab": {
          "base_uri": "https://localhost:8080/"
        },
        "outputId": "9a7b683b-6ba9-4316-c6aa-5b9f5bc1dc6c"
      },
      "execution_count": 3,
      "outputs": [
        {
          "output_type": "stream",
          "name": "stdout",
          "text": [
            "Mounted at /content/drive/\n"
          ]
        }
      ]
    },
    {
      "cell_type": "markdown",
      "source": [
        "## Разведочный анализ и предобработка данных"
      ],
      "metadata": {
        "id": "Y7mat2ZwRIfU"
      }
    },
    {
      "cell_type": "code",
      "source": [
        "df.info()"
      ],
      "metadata": {
        "colab": {
          "base_uri": "https://localhost:8080/"
        },
        "id": "3kNsjnkT8KV_",
        "outputId": "bd34dfdb-c740-42aa-fbc0-bdfe982bdaff"
      },
      "execution_count": 4,
      "outputs": [
        {
          "output_type": "stream",
          "name": "stdout",
          "text": [
            "<class 'pandas.core.frame.DataFrame'>\n",
            "RangeIndex: 205 entries, 0 to 204\n",
            "Data columns (total 26 columns):\n",
            " #   Column            Non-Null Count  Dtype  \n",
            "---  ------            --------------  -----  \n",
            " 0   car_ID            205 non-null    int64  \n",
            " 1   symboling         205 non-null    int64  \n",
            " 2   CarName           205 non-null    object \n",
            " 3   fueltype          205 non-null    object \n",
            " 4   aspiration        205 non-null    object \n",
            " 5   doornumber        205 non-null    object \n",
            " 6   carbody           205 non-null    object \n",
            " 7   drivewheel        205 non-null    object \n",
            " 8   enginelocation    205 non-null    object \n",
            " 9   wheelbase         205 non-null    float64\n",
            " 10  carlength         205 non-null    float64\n",
            " 11  carwidth          205 non-null    float64\n",
            " 12  carheight         205 non-null    float64\n",
            " 13  curbweight        205 non-null    int64  \n",
            " 14  enginetype        205 non-null    object \n",
            " 15  cylindernumber    205 non-null    object \n",
            " 16  enginesize        205 non-null    int64  \n",
            " 17  fuelsystem        205 non-null    object \n",
            " 18  boreratio         205 non-null    float64\n",
            " 19  stroke            205 non-null    float64\n",
            " 20  compressionratio  205 non-null    float64\n",
            " 21  horsepower        205 non-null    int64  \n",
            " 22  peakrpm           205 non-null    int64  \n",
            " 23  citympg           205 non-null    int64  \n",
            " 24  highwaympg        205 non-null    int64  \n",
            " 25  price             205 non-null    float64\n",
            "dtypes: float64(8), int64(8), object(10)\n",
            "memory usage: 41.8+ KB\n"
          ]
        }
      ]
    },
    {
      "cell_type": "code",
      "source": [
        "def obj_in_int(df):\n",
        "  for column in df:\n",
        "    if df[column].dtype == 'O':\n",
        "      df[column] = df[column].replace(list(df[column].unique()), list(range(len(list(df[column].unique())))))"
      ],
      "metadata": {
        "id": "WSJeYMPN28sK"
      },
      "execution_count": 5,
      "outputs": []
    },
    {
      "cell_type": "code",
      "source": [
        "obj_in_int(df)\n",
        "df.info()"
      ],
      "metadata": {
        "id": "FSZnnWlL3MDj",
        "colab": {
          "base_uri": "https://localhost:8080/"
        },
        "outputId": "b362b31b-24d2-41ab-f229-078b6f745c4d"
      },
      "execution_count": 6,
      "outputs": [
        {
          "output_type": "stream",
          "name": "stdout",
          "text": [
            "<class 'pandas.core.frame.DataFrame'>\n",
            "RangeIndex: 205 entries, 0 to 204\n",
            "Data columns (total 26 columns):\n",
            " #   Column            Non-Null Count  Dtype  \n",
            "---  ------            --------------  -----  \n",
            " 0   car_ID            205 non-null    int64  \n",
            " 1   symboling         205 non-null    int64  \n",
            " 2   CarName           205 non-null    int64  \n",
            " 3   fueltype          205 non-null    int64  \n",
            " 4   aspiration        205 non-null    int64  \n",
            " 5   doornumber        205 non-null    int64  \n",
            " 6   carbody           205 non-null    int64  \n",
            " 7   drivewheel        205 non-null    int64  \n",
            " 8   enginelocation    205 non-null    int64  \n",
            " 9   wheelbase         205 non-null    float64\n",
            " 10  carlength         205 non-null    float64\n",
            " 11  carwidth          205 non-null    float64\n",
            " 12  carheight         205 non-null    float64\n",
            " 13  curbweight        205 non-null    int64  \n",
            " 14  enginetype        205 non-null    int64  \n",
            " 15  cylindernumber    205 non-null    int64  \n",
            " 16  enginesize        205 non-null    int64  \n",
            " 17  fuelsystem        205 non-null    int64  \n",
            " 18  boreratio         205 non-null    float64\n",
            " 19  stroke            205 non-null    float64\n",
            " 20  compressionratio  205 non-null    float64\n",
            " 21  horsepower        205 non-null    int64  \n",
            " 22  peakrpm           205 non-null    int64  \n",
            " 23  citympg           205 non-null    int64  \n",
            " 24  highwaympg        205 non-null    int64  \n",
            " 25  price             205 non-null    float64\n",
            "dtypes: float64(8), int64(18)\n",
            "memory usage: 41.8 KB\n"
          ]
        }
      ]
    },
    {
      "cell_type": "code",
      "source": [
        "df.symboling = df.symboling + 2\n",
        "df.describe()"
      ],
      "metadata": {
        "colab": {
          "base_uri": "https://localhost:8080/",
          "height": 349
        },
        "id": "oxmWMsKyIXM0",
        "outputId": "e6a83074-2ae3-4588-aef4-3ffd5f911032"
      },
      "execution_count": 7,
      "outputs": [
        {
          "output_type": "execute_result",
          "data": {
            "text/plain": [
              "           car_ID   symboling     CarName    fueltype  aspiration  doornumber  \\\n",
              "count  205.000000  205.000000  205.000000  205.000000  205.000000  205.000000   \n",
              "mean   103.000000    2.834146   76.448780    0.097561    0.180488    0.560976   \n",
              "std     59.322565    1.245307   41.346261    0.297446    0.385535    0.497483   \n",
              "min      1.000000    0.000000    0.000000    0.000000    0.000000    0.000000   \n",
              "25%     52.000000    2.000000   43.000000    0.000000    0.000000    0.000000   \n",
              "50%    103.000000    3.000000   79.000000    0.000000    0.000000    1.000000   \n",
              "75%    154.000000    4.000000  113.000000    0.000000    0.000000    1.000000   \n",
              "max    205.000000    5.000000  146.000000    1.000000    1.000000    1.000000   \n",
              "\n",
              "         carbody  drivewheel  enginelocation   wheelbase  ...  enginesize  \\\n",
              "count  205.00000  205.000000      205.000000  205.000000  ...  205.000000   \n",
              "mean     1.80000    0.673171        0.014634   98.756585  ...  126.907317   \n",
              "std      0.83666    0.556171        0.120377    6.021776  ...   41.642693   \n",
              "min      0.00000    0.000000        0.000000   86.600000  ...   61.000000   \n",
              "25%      1.00000    0.000000        0.000000   94.500000  ...   97.000000   \n",
              "50%      2.00000    1.000000        0.000000   97.000000  ...  120.000000   \n",
              "75%      2.00000    1.000000        0.000000  102.400000  ...  141.000000   \n",
              "max      4.00000    2.000000        1.000000  120.900000  ...  326.000000   \n",
              "\n",
              "       fuelsystem   boreratio      stroke  compressionratio  horsepower  \\\n",
              "count  205.000000  205.000000  205.000000        205.000000  205.000000   \n",
              "mean     1.478049    3.329756    3.255415         10.142537  104.117073   \n",
              "std      2.184113    0.270844    0.313597          3.972040   39.544167   \n",
              "min      0.000000    2.540000    2.070000          7.000000   48.000000   \n",
              "25%      0.000000    3.150000    3.110000          8.600000   70.000000   \n",
              "50%      1.000000    3.310000    3.290000          9.000000   95.000000   \n",
              "75%      1.000000    3.580000    3.410000          9.400000  116.000000   \n",
              "max      7.000000    3.940000    4.170000         23.000000  288.000000   \n",
              "\n",
              "           peakrpm     citympg  highwaympg         price  \n",
              "count   205.000000  205.000000  205.000000    205.000000  \n",
              "mean   5125.121951   25.219512   30.751220  13276.710571  \n",
              "std     476.985643    6.542142    6.886443   7988.852332  \n",
              "min    4150.000000   13.000000   16.000000   5118.000000  \n",
              "25%    4800.000000   19.000000   25.000000   7788.000000  \n",
              "50%    5200.000000   24.000000   30.000000  10295.000000  \n",
              "75%    5500.000000   30.000000   34.000000  16503.000000  \n",
              "max    6600.000000   49.000000   54.000000  45400.000000  \n",
              "\n",
              "[8 rows x 26 columns]"
            ],
            "text/html": [
              "\n",
              "  <div id=\"df-51676c4e-0c0e-45f1-b3d4-48a4fec52733\" class=\"colab-df-container\">\n",
              "    <div>\n",
              "<style scoped>\n",
              "    .dataframe tbody tr th:only-of-type {\n",
              "        vertical-align: middle;\n",
              "    }\n",
              "\n",
              "    .dataframe tbody tr th {\n",
              "        vertical-align: top;\n",
              "    }\n",
              "\n",
              "    .dataframe thead th {\n",
              "        text-align: right;\n",
              "    }\n",
              "</style>\n",
              "<table border=\"1\" class=\"dataframe\">\n",
              "  <thead>\n",
              "    <tr style=\"text-align: right;\">\n",
              "      <th></th>\n",
              "      <th>car_ID</th>\n",
              "      <th>symboling</th>\n",
              "      <th>CarName</th>\n",
              "      <th>fueltype</th>\n",
              "      <th>aspiration</th>\n",
              "      <th>doornumber</th>\n",
              "      <th>carbody</th>\n",
              "      <th>drivewheel</th>\n",
              "      <th>enginelocation</th>\n",
              "      <th>wheelbase</th>\n",
              "      <th>...</th>\n",
              "      <th>enginesize</th>\n",
              "      <th>fuelsystem</th>\n",
              "      <th>boreratio</th>\n",
              "      <th>stroke</th>\n",
              "      <th>compressionratio</th>\n",
              "      <th>horsepower</th>\n",
              "      <th>peakrpm</th>\n",
              "      <th>citympg</th>\n",
              "      <th>highwaympg</th>\n",
              "      <th>price</th>\n",
              "    </tr>\n",
              "  </thead>\n",
              "  <tbody>\n",
              "    <tr>\n",
              "      <th>count</th>\n",
              "      <td>205.000000</td>\n",
              "      <td>205.000000</td>\n",
              "      <td>205.000000</td>\n",
              "      <td>205.000000</td>\n",
              "      <td>205.000000</td>\n",
              "      <td>205.000000</td>\n",
              "      <td>205.00000</td>\n",
              "      <td>205.000000</td>\n",
              "      <td>205.000000</td>\n",
              "      <td>205.000000</td>\n",
              "      <td>...</td>\n",
              "      <td>205.000000</td>\n",
              "      <td>205.000000</td>\n",
              "      <td>205.000000</td>\n",
              "      <td>205.000000</td>\n",
              "      <td>205.000000</td>\n",
              "      <td>205.000000</td>\n",
              "      <td>205.000000</td>\n",
              "      <td>205.000000</td>\n",
              "      <td>205.000000</td>\n",
              "      <td>205.000000</td>\n",
              "    </tr>\n",
              "    <tr>\n",
              "      <th>mean</th>\n",
              "      <td>103.000000</td>\n",
              "      <td>2.834146</td>\n",
              "      <td>76.448780</td>\n",
              "      <td>0.097561</td>\n",
              "      <td>0.180488</td>\n",
              "      <td>0.560976</td>\n",
              "      <td>1.80000</td>\n",
              "      <td>0.673171</td>\n",
              "      <td>0.014634</td>\n",
              "      <td>98.756585</td>\n",
              "      <td>...</td>\n",
              "      <td>126.907317</td>\n",
              "      <td>1.478049</td>\n",
              "      <td>3.329756</td>\n",
              "      <td>3.255415</td>\n",
              "      <td>10.142537</td>\n",
              "      <td>104.117073</td>\n",
              "      <td>5125.121951</td>\n",
              "      <td>25.219512</td>\n",
              "      <td>30.751220</td>\n",
              "      <td>13276.710571</td>\n",
              "    </tr>\n",
              "    <tr>\n",
              "      <th>std</th>\n",
              "      <td>59.322565</td>\n",
              "      <td>1.245307</td>\n",
              "      <td>41.346261</td>\n",
              "      <td>0.297446</td>\n",
              "      <td>0.385535</td>\n",
              "      <td>0.497483</td>\n",
              "      <td>0.83666</td>\n",
              "      <td>0.556171</td>\n",
              "      <td>0.120377</td>\n",
              "      <td>6.021776</td>\n",
              "      <td>...</td>\n",
              "      <td>41.642693</td>\n",
              "      <td>2.184113</td>\n",
              "      <td>0.270844</td>\n",
              "      <td>0.313597</td>\n",
              "      <td>3.972040</td>\n",
              "      <td>39.544167</td>\n",
              "      <td>476.985643</td>\n",
              "      <td>6.542142</td>\n",
              "      <td>6.886443</td>\n",
              "      <td>7988.852332</td>\n",
              "    </tr>\n",
              "    <tr>\n",
              "      <th>min</th>\n",
              "      <td>1.000000</td>\n",
              "      <td>0.000000</td>\n",
              "      <td>0.000000</td>\n",
              "      <td>0.000000</td>\n",
              "      <td>0.000000</td>\n",
              "      <td>0.000000</td>\n",
              "      <td>0.00000</td>\n",
              "      <td>0.000000</td>\n",
              "      <td>0.000000</td>\n",
              "      <td>86.600000</td>\n",
              "      <td>...</td>\n",
              "      <td>61.000000</td>\n",
              "      <td>0.000000</td>\n",
              "      <td>2.540000</td>\n",
              "      <td>2.070000</td>\n",
              "      <td>7.000000</td>\n",
              "      <td>48.000000</td>\n",
              "      <td>4150.000000</td>\n",
              "      <td>13.000000</td>\n",
              "      <td>16.000000</td>\n",
              "      <td>5118.000000</td>\n",
              "    </tr>\n",
              "    <tr>\n",
              "      <th>25%</th>\n",
              "      <td>52.000000</td>\n",
              "      <td>2.000000</td>\n",
              "      <td>43.000000</td>\n",
              "      <td>0.000000</td>\n",
              "      <td>0.000000</td>\n",
              "      <td>0.000000</td>\n",
              "      <td>1.00000</td>\n",
              "      <td>0.000000</td>\n",
              "      <td>0.000000</td>\n",
              "      <td>94.500000</td>\n",
              "      <td>...</td>\n",
              "      <td>97.000000</td>\n",
              "      <td>0.000000</td>\n",
              "      <td>3.150000</td>\n",
              "      <td>3.110000</td>\n",
              "      <td>8.600000</td>\n",
              "      <td>70.000000</td>\n",
              "      <td>4800.000000</td>\n",
              "      <td>19.000000</td>\n",
              "      <td>25.000000</td>\n",
              "      <td>7788.000000</td>\n",
              "    </tr>\n",
              "    <tr>\n",
              "      <th>50%</th>\n",
              "      <td>103.000000</td>\n",
              "      <td>3.000000</td>\n",
              "      <td>79.000000</td>\n",
              "      <td>0.000000</td>\n",
              "      <td>0.000000</td>\n",
              "      <td>1.000000</td>\n",
              "      <td>2.00000</td>\n",
              "      <td>1.000000</td>\n",
              "      <td>0.000000</td>\n",
              "      <td>97.000000</td>\n",
              "      <td>...</td>\n",
              "      <td>120.000000</td>\n",
              "      <td>1.000000</td>\n",
              "      <td>3.310000</td>\n",
              "      <td>3.290000</td>\n",
              "      <td>9.000000</td>\n",
              "      <td>95.000000</td>\n",
              "      <td>5200.000000</td>\n",
              "      <td>24.000000</td>\n",
              "      <td>30.000000</td>\n",
              "      <td>10295.000000</td>\n",
              "    </tr>\n",
              "    <tr>\n",
              "      <th>75%</th>\n",
              "      <td>154.000000</td>\n",
              "      <td>4.000000</td>\n",
              "      <td>113.000000</td>\n",
              "      <td>0.000000</td>\n",
              "      <td>0.000000</td>\n",
              "      <td>1.000000</td>\n",
              "      <td>2.00000</td>\n",
              "      <td>1.000000</td>\n",
              "      <td>0.000000</td>\n",
              "      <td>102.400000</td>\n",
              "      <td>...</td>\n",
              "      <td>141.000000</td>\n",
              "      <td>1.000000</td>\n",
              "      <td>3.580000</td>\n",
              "      <td>3.410000</td>\n",
              "      <td>9.400000</td>\n",
              "      <td>116.000000</td>\n",
              "      <td>5500.000000</td>\n",
              "      <td>30.000000</td>\n",
              "      <td>34.000000</td>\n",
              "      <td>16503.000000</td>\n",
              "    </tr>\n",
              "    <tr>\n",
              "      <th>max</th>\n",
              "      <td>205.000000</td>\n",
              "      <td>5.000000</td>\n",
              "      <td>146.000000</td>\n",
              "      <td>1.000000</td>\n",
              "      <td>1.000000</td>\n",
              "      <td>1.000000</td>\n",
              "      <td>4.00000</td>\n",
              "      <td>2.000000</td>\n",
              "      <td>1.000000</td>\n",
              "      <td>120.900000</td>\n",
              "      <td>...</td>\n",
              "      <td>326.000000</td>\n",
              "      <td>7.000000</td>\n",
              "      <td>3.940000</td>\n",
              "      <td>4.170000</td>\n",
              "      <td>23.000000</td>\n",
              "      <td>288.000000</td>\n",
              "      <td>6600.000000</td>\n",
              "      <td>49.000000</td>\n",
              "      <td>54.000000</td>\n",
              "      <td>45400.000000</td>\n",
              "    </tr>\n",
              "  </tbody>\n",
              "</table>\n",
              "<p>8 rows × 26 columns</p>\n",
              "</div>\n",
              "    <div class=\"colab-df-buttons\">\n",
              "\n",
              "  <div class=\"colab-df-container\">\n",
              "    <button class=\"colab-df-convert\" onclick=\"convertToInteractive('df-51676c4e-0c0e-45f1-b3d4-48a4fec52733')\"\n",
              "            title=\"Convert this dataframe to an interactive table.\"\n",
              "            style=\"display:none;\">\n",
              "\n",
              "  <svg xmlns=\"http://www.w3.org/2000/svg\" height=\"24px\" viewBox=\"0 -960 960 960\">\n",
              "    <path d=\"M120-120v-720h720v720H120Zm60-500h600v-160H180v160Zm220 220h160v-160H400v160Zm0 220h160v-160H400v160ZM180-400h160v-160H180v160Zm440 0h160v-160H620v160ZM180-180h160v-160H180v160Zm440 0h160v-160H620v160Z\"/>\n",
              "  </svg>\n",
              "    </button>\n",
              "\n",
              "  <style>\n",
              "    .colab-df-container {\n",
              "      display:flex;\n",
              "      gap: 12px;\n",
              "    }\n",
              "\n",
              "    .colab-df-convert {\n",
              "      background-color: #E8F0FE;\n",
              "      border: none;\n",
              "      border-radius: 50%;\n",
              "      cursor: pointer;\n",
              "      display: none;\n",
              "      fill: #1967D2;\n",
              "      height: 32px;\n",
              "      padding: 0 0 0 0;\n",
              "      width: 32px;\n",
              "    }\n",
              "\n",
              "    .colab-df-convert:hover {\n",
              "      background-color: #E2EBFA;\n",
              "      box-shadow: 0px 1px 2px rgba(60, 64, 67, 0.3), 0px 1px 3px 1px rgba(60, 64, 67, 0.15);\n",
              "      fill: #174EA6;\n",
              "    }\n",
              "\n",
              "    .colab-df-buttons div {\n",
              "      margin-bottom: 4px;\n",
              "    }\n",
              "\n",
              "    [theme=dark] .colab-df-convert {\n",
              "      background-color: #3B4455;\n",
              "      fill: #D2E3FC;\n",
              "    }\n",
              "\n",
              "    [theme=dark] .colab-df-convert:hover {\n",
              "      background-color: #434B5C;\n",
              "      box-shadow: 0px 1px 3px 1px rgba(0, 0, 0, 0.15);\n",
              "      filter: drop-shadow(0px 1px 2px rgba(0, 0, 0, 0.3));\n",
              "      fill: #FFFFFF;\n",
              "    }\n",
              "  </style>\n",
              "\n",
              "    <script>\n",
              "      const buttonEl =\n",
              "        document.querySelector('#df-51676c4e-0c0e-45f1-b3d4-48a4fec52733 button.colab-df-convert');\n",
              "      buttonEl.style.display =\n",
              "        google.colab.kernel.accessAllowed ? 'block' : 'none';\n",
              "\n",
              "      async function convertToInteractive(key) {\n",
              "        const element = document.querySelector('#df-51676c4e-0c0e-45f1-b3d4-48a4fec52733');\n",
              "        const dataTable =\n",
              "          await google.colab.kernel.invokeFunction('convertToInteractive',\n",
              "                                                    [key], {});\n",
              "        if (!dataTable) return;\n",
              "\n",
              "        const docLinkHtml = 'Like what you see? Visit the ' +\n",
              "          '<a target=\"_blank\" href=https://colab.research.google.com/notebooks/data_table.ipynb>data table notebook</a>'\n",
              "          + ' to learn more about interactive tables.';\n",
              "        element.innerHTML = '';\n",
              "        dataTable['output_type'] = 'display_data';\n",
              "        await google.colab.output.renderOutput(dataTable, element);\n",
              "        const docLink = document.createElement('div');\n",
              "        docLink.innerHTML = docLinkHtml;\n",
              "        element.appendChild(docLink);\n",
              "      }\n",
              "    </script>\n",
              "  </div>\n",
              "\n",
              "\n",
              "<div id=\"df-659ec739-10a9-4e3d-9e30-f376270bf278\">\n",
              "  <button class=\"colab-df-quickchart\" onclick=\"quickchart('df-659ec739-10a9-4e3d-9e30-f376270bf278')\"\n",
              "            title=\"Suggest charts\"\n",
              "            style=\"display:none;\">\n",
              "\n",
              "<svg xmlns=\"http://www.w3.org/2000/svg\" height=\"24px\"viewBox=\"0 0 24 24\"\n",
              "     width=\"24px\">\n",
              "    <g>\n",
              "        <path d=\"M19 3H5c-1.1 0-2 .9-2 2v14c0 1.1.9 2 2 2h14c1.1 0 2-.9 2-2V5c0-1.1-.9-2-2-2zM9 17H7v-7h2v7zm4 0h-2V7h2v10zm4 0h-2v-4h2v4z\"/>\n",
              "    </g>\n",
              "</svg>\n",
              "  </button>\n",
              "\n",
              "<style>\n",
              "  .colab-df-quickchart {\n",
              "      --bg-color: #E8F0FE;\n",
              "      --fill-color: #1967D2;\n",
              "      --hover-bg-color: #E2EBFA;\n",
              "      --hover-fill-color: #174EA6;\n",
              "      --disabled-fill-color: #AAA;\n",
              "      --disabled-bg-color: #DDD;\n",
              "  }\n",
              "\n",
              "  [theme=dark] .colab-df-quickchart {\n",
              "      --bg-color: #3B4455;\n",
              "      --fill-color: #D2E3FC;\n",
              "      --hover-bg-color: #434B5C;\n",
              "      --hover-fill-color: #FFFFFF;\n",
              "      --disabled-bg-color: #3B4455;\n",
              "      --disabled-fill-color: #666;\n",
              "  }\n",
              "\n",
              "  .colab-df-quickchart {\n",
              "    background-color: var(--bg-color);\n",
              "    border: none;\n",
              "    border-radius: 50%;\n",
              "    cursor: pointer;\n",
              "    display: none;\n",
              "    fill: var(--fill-color);\n",
              "    height: 32px;\n",
              "    padding: 0;\n",
              "    width: 32px;\n",
              "  }\n",
              "\n",
              "  .colab-df-quickchart:hover {\n",
              "    background-color: var(--hover-bg-color);\n",
              "    box-shadow: 0 1px 2px rgba(60, 64, 67, 0.3), 0 1px 3px 1px rgba(60, 64, 67, 0.15);\n",
              "    fill: var(--button-hover-fill-color);\n",
              "  }\n",
              "\n",
              "  .colab-df-quickchart-complete:disabled,\n",
              "  .colab-df-quickchart-complete:disabled:hover {\n",
              "    background-color: var(--disabled-bg-color);\n",
              "    fill: var(--disabled-fill-color);\n",
              "    box-shadow: none;\n",
              "  }\n",
              "\n",
              "  .colab-df-spinner {\n",
              "    border: 2px solid var(--fill-color);\n",
              "    border-color: transparent;\n",
              "    border-bottom-color: var(--fill-color);\n",
              "    animation:\n",
              "      spin 1s steps(1) infinite;\n",
              "  }\n",
              "\n",
              "  @keyframes spin {\n",
              "    0% {\n",
              "      border-color: transparent;\n",
              "      border-bottom-color: var(--fill-color);\n",
              "      border-left-color: var(--fill-color);\n",
              "    }\n",
              "    20% {\n",
              "      border-color: transparent;\n",
              "      border-left-color: var(--fill-color);\n",
              "      border-top-color: var(--fill-color);\n",
              "    }\n",
              "    30% {\n",
              "      border-color: transparent;\n",
              "      border-left-color: var(--fill-color);\n",
              "      border-top-color: var(--fill-color);\n",
              "      border-right-color: var(--fill-color);\n",
              "    }\n",
              "    40% {\n",
              "      border-color: transparent;\n",
              "      border-right-color: var(--fill-color);\n",
              "      border-top-color: var(--fill-color);\n",
              "    }\n",
              "    60% {\n",
              "      border-color: transparent;\n",
              "      border-right-color: var(--fill-color);\n",
              "    }\n",
              "    80% {\n",
              "      border-color: transparent;\n",
              "      border-right-color: var(--fill-color);\n",
              "      border-bottom-color: var(--fill-color);\n",
              "    }\n",
              "    90% {\n",
              "      border-color: transparent;\n",
              "      border-bottom-color: var(--fill-color);\n",
              "    }\n",
              "  }\n",
              "</style>\n",
              "\n",
              "  <script>\n",
              "    async function quickchart(key) {\n",
              "      const quickchartButtonEl =\n",
              "        document.querySelector('#' + key + ' button');\n",
              "      quickchartButtonEl.disabled = true;  // To prevent multiple clicks.\n",
              "      quickchartButtonEl.classList.add('colab-df-spinner');\n",
              "      try {\n",
              "        const charts = await google.colab.kernel.invokeFunction(\n",
              "            'suggestCharts', [key], {});\n",
              "      } catch (error) {\n",
              "        console.error('Error during call to suggestCharts:', error);\n",
              "      }\n",
              "      quickchartButtonEl.classList.remove('colab-df-spinner');\n",
              "      quickchartButtonEl.classList.add('colab-df-quickchart-complete');\n",
              "    }\n",
              "    (() => {\n",
              "      let quickchartButtonEl =\n",
              "        document.querySelector('#df-659ec739-10a9-4e3d-9e30-f376270bf278 button');\n",
              "      quickchartButtonEl.style.display =\n",
              "        google.colab.kernel.accessAllowed ? 'block' : 'none';\n",
              "    })();\n",
              "  </script>\n",
              "</div>\n",
              "\n",
              "    </div>\n",
              "  </div>\n"
            ],
            "application/vnd.google.colaboratory.intrinsic+json": {
              "type": "dataframe"
            }
          },
          "metadata": {},
          "execution_count": 7
        }
      ]
    },
    {
      "cell_type": "code",
      "source": [
        "scaler_df = df.copy()\n",
        "\n",
        "for column in df.columns:\n",
        "  scaler_df[column] = (scaler_df[column] - scaler_df[column].min()) / (scaler_df[column].max() - scaler_df[column].min())\n",
        "\n",
        "scaler_df.describe()"
      ],
      "metadata": {
        "id": "Ek9k8EVLEiSs",
        "colab": {
          "base_uri": "https://localhost:8080/",
          "height": 349
        },
        "outputId": "b6666b51-2d93-481f-8b78-c9640c1149fb"
      },
      "execution_count": 8,
      "outputs": [
        {
          "output_type": "execute_result",
          "data": {
            "text/plain": [
              "           car_ID   symboling     CarName    fueltype  aspiration  doornumber  \\\n",
              "count  205.000000  205.000000  205.000000  205.000000  205.000000  205.000000   \n",
              "mean     0.500000    0.566829    0.523622    0.097561    0.180488    0.560976   \n",
              "std      0.290797    0.249061    0.283194    0.297446    0.385535    0.497483   \n",
              "min      0.000000    0.000000    0.000000    0.000000    0.000000    0.000000   \n",
              "25%      0.250000    0.400000    0.294521    0.000000    0.000000    0.000000   \n",
              "50%      0.500000    0.600000    0.541096    0.000000    0.000000    1.000000   \n",
              "75%      0.750000    0.800000    0.773973    0.000000    0.000000    1.000000   \n",
              "max      1.000000    1.000000    1.000000    1.000000    1.000000    1.000000   \n",
              "\n",
              "          carbody  drivewheel  enginelocation   wheelbase  ...  enginesize  \\\n",
              "count  205.000000  205.000000      205.000000  205.000000  ...  205.000000   \n",
              "mean     0.450000    0.336585        0.014634    0.354419  ...    0.248707   \n",
              "std      0.209165    0.278085        0.120377    0.175562  ...    0.157142   \n",
              "min      0.000000    0.000000        0.000000    0.000000  ...    0.000000   \n",
              "25%      0.250000    0.000000        0.000000    0.230321  ...    0.135849   \n",
              "50%      0.500000    0.500000        0.000000    0.303207  ...    0.222642   \n",
              "75%      0.500000    0.500000        0.000000    0.460641  ...    0.301887   \n",
              "max      1.000000    1.000000        1.000000    1.000000  ...    1.000000   \n",
              "\n",
              "       fuelsystem   boreratio      stroke  compressionratio  horsepower  \\\n",
              "count  205.000000  205.000000  205.000000        205.000000  205.000000   \n",
              "mean     0.211150    0.564111    0.564483          0.196409    0.233821   \n",
              "std      0.312016    0.193460    0.149332          0.248253    0.164767   \n",
              "min      0.000000    0.000000    0.000000          0.000000    0.000000   \n",
              "25%      0.000000    0.435714    0.495238          0.100000    0.091667   \n",
              "50%      0.142857    0.550000    0.580952          0.125000    0.195833   \n",
              "75%      0.142857    0.742857    0.638095          0.150000    0.283333   \n",
              "max      1.000000    1.000000    1.000000          1.000000    1.000000   \n",
              "\n",
              "          peakrpm     citympg  highwaympg       price  \n",
              "count  205.000000  205.000000  205.000000  205.000000  \n",
              "mean     0.398009    0.339431    0.388190    0.202540  \n",
              "std      0.194688    0.181726    0.181222    0.198323  \n",
              "min      0.000000    0.000000    0.000000    0.000000  \n",
              "25%      0.265306    0.166667    0.236842    0.066283  \n",
              "50%      0.428571    0.305556    0.368421    0.128519  \n",
              "75%      0.551020    0.472222    0.473684    0.282632  \n",
              "max      1.000000    1.000000    1.000000    1.000000  \n",
              "\n",
              "[8 rows x 26 columns]"
            ],
            "text/html": [
              "\n",
              "  <div id=\"df-0888d7ba-39ab-4706-b21f-9d9f70bc0e4e\" class=\"colab-df-container\">\n",
              "    <div>\n",
              "<style scoped>\n",
              "    .dataframe tbody tr th:only-of-type {\n",
              "        vertical-align: middle;\n",
              "    }\n",
              "\n",
              "    .dataframe tbody tr th {\n",
              "        vertical-align: top;\n",
              "    }\n",
              "\n",
              "    .dataframe thead th {\n",
              "        text-align: right;\n",
              "    }\n",
              "</style>\n",
              "<table border=\"1\" class=\"dataframe\">\n",
              "  <thead>\n",
              "    <tr style=\"text-align: right;\">\n",
              "      <th></th>\n",
              "      <th>car_ID</th>\n",
              "      <th>symboling</th>\n",
              "      <th>CarName</th>\n",
              "      <th>fueltype</th>\n",
              "      <th>aspiration</th>\n",
              "      <th>doornumber</th>\n",
              "      <th>carbody</th>\n",
              "      <th>drivewheel</th>\n",
              "      <th>enginelocation</th>\n",
              "      <th>wheelbase</th>\n",
              "      <th>...</th>\n",
              "      <th>enginesize</th>\n",
              "      <th>fuelsystem</th>\n",
              "      <th>boreratio</th>\n",
              "      <th>stroke</th>\n",
              "      <th>compressionratio</th>\n",
              "      <th>horsepower</th>\n",
              "      <th>peakrpm</th>\n",
              "      <th>citympg</th>\n",
              "      <th>highwaympg</th>\n",
              "      <th>price</th>\n",
              "    </tr>\n",
              "  </thead>\n",
              "  <tbody>\n",
              "    <tr>\n",
              "      <th>count</th>\n",
              "      <td>205.000000</td>\n",
              "      <td>205.000000</td>\n",
              "      <td>205.000000</td>\n",
              "      <td>205.000000</td>\n",
              "      <td>205.000000</td>\n",
              "      <td>205.000000</td>\n",
              "      <td>205.000000</td>\n",
              "      <td>205.000000</td>\n",
              "      <td>205.000000</td>\n",
              "      <td>205.000000</td>\n",
              "      <td>...</td>\n",
              "      <td>205.000000</td>\n",
              "      <td>205.000000</td>\n",
              "      <td>205.000000</td>\n",
              "      <td>205.000000</td>\n",
              "      <td>205.000000</td>\n",
              "      <td>205.000000</td>\n",
              "      <td>205.000000</td>\n",
              "      <td>205.000000</td>\n",
              "      <td>205.000000</td>\n",
              "      <td>205.000000</td>\n",
              "    </tr>\n",
              "    <tr>\n",
              "      <th>mean</th>\n",
              "      <td>0.500000</td>\n",
              "      <td>0.566829</td>\n",
              "      <td>0.523622</td>\n",
              "      <td>0.097561</td>\n",
              "      <td>0.180488</td>\n",
              "      <td>0.560976</td>\n",
              "      <td>0.450000</td>\n",
              "      <td>0.336585</td>\n",
              "      <td>0.014634</td>\n",
              "      <td>0.354419</td>\n",
              "      <td>...</td>\n",
              "      <td>0.248707</td>\n",
              "      <td>0.211150</td>\n",
              "      <td>0.564111</td>\n",
              "      <td>0.564483</td>\n",
              "      <td>0.196409</td>\n",
              "      <td>0.233821</td>\n",
              "      <td>0.398009</td>\n",
              "      <td>0.339431</td>\n",
              "      <td>0.388190</td>\n",
              "      <td>0.202540</td>\n",
              "    </tr>\n",
              "    <tr>\n",
              "      <th>std</th>\n",
              "      <td>0.290797</td>\n",
              "      <td>0.249061</td>\n",
              "      <td>0.283194</td>\n",
              "      <td>0.297446</td>\n",
              "      <td>0.385535</td>\n",
              "      <td>0.497483</td>\n",
              "      <td>0.209165</td>\n",
              "      <td>0.278085</td>\n",
              "      <td>0.120377</td>\n",
              "      <td>0.175562</td>\n",
              "      <td>...</td>\n",
              "      <td>0.157142</td>\n",
              "      <td>0.312016</td>\n",
              "      <td>0.193460</td>\n",
              "      <td>0.149332</td>\n",
              "      <td>0.248253</td>\n",
              "      <td>0.164767</td>\n",
              "      <td>0.194688</td>\n",
              "      <td>0.181726</td>\n",
              "      <td>0.181222</td>\n",
              "      <td>0.198323</td>\n",
              "    </tr>\n",
              "    <tr>\n",
              "      <th>min</th>\n",
              "      <td>0.000000</td>\n",
              "      <td>0.000000</td>\n",
              "      <td>0.000000</td>\n",
              "      <td>0.000000</td>\n",
              "      <td>0.000000</td>\n",
              "      <td>0.000000</td>\n",
              "      <td>0.000000</td>\n",
              "      <td>0.000000</td>\n",
              "      <td>0.000000</td>\n",
              "      <td>0.000000</td>\n",
              "      <td>...</td>\n",
              "      <td>0.000000</td>\n",
              "      <td>0.000000</td>\n",
              "      <td>0.000000</td>\n",
              "      <td>0.000000</td>\n",
              "      <td>0.000000</td>\n",
              "      <td>0.000000</td>\n",
              "      <td>0.000000</td>\n",
              "      <td>0.000000</td>\n",
              "      <td>0.000000</td>\n",
              "      <td>0.000000</td>\n",
              "    </tr>\n",
              "    <tr>\n",
              "      <th>25%</th>\n",
              "      <td>0.250000</td>\n",
              "      <td>0.400000</td>\n",
              "      <td>0.294521</td>\n",
              "      <td>0.000000</td>\n",
              "      <td>0.000000</td>\n",
              "      <td>0.000000</td>\n",
              "      <td>0.250000</td>\n",
              "      <td>0.000000</td>\n",
              "      <td>0.000000</td>\n",
              "      <td>0.230321</td>\n",
              "      <td>...</td>\n",
              "      <td>0.135849</td>\n",
              "      <td>0.000000</td>\n",
              "      <td>0.435714</td>\n",
              "      <td>0.495238</td>\n",
              "      <td>0.100000</td>\n",
              "      <td>0.091667</td>\n",
              "      <td>0.265306</td>\n",
              "      <td>0.166667</td>\n",
              "      <td>0.236842</td>\n",
              "      <td>0.066283</td>\n",
              "    </tr>\n",
              "    <tr>\n",
              "      <th>50%</th>\n",
              "      <td>0.500000</td>\n",
              "      <td>0.600000</td>\n",
              "      <td>0.541096</td>\n",
              "      <td>0.000000</td>\n",
              "      <td>0.000000</td>\n",
              "      <td>1.000000</td>\n",
              "      <td>0.500000</td>\n",
              "      <td>0.500000</td>\n",
              "      <td>0.000000</td>\n",
              "      <td>0.303207</td>\n",
              "      <td>...</td>\n",
              "      <td>0.222642</td>\n",
              "      <td>0.142857</td>\n",
              "      <td>0.550000</td>\n",
              "      <td>0.580952</td>\n",
              "      <td>0.125000</td>\n",
              "      <td>0.195833</td>\n",
              "      <td>0.428571</td>\n",
              "      <td>0.305556</td>\n",
              "      <td>0.368421</td>\n",
              "      <td>0.128519</td>\n",
              "    </tr>\n",
              "    <tr>\n",
              "      <th>75%</th>\n",
              "      <td>0.750000</td>\n",
              "      <td>0.800000</td>\n",
              "      <td>0.773973</td>\n",
              "      <td>0.000000</td>\n",
              "      <td>0.000000</td>\n",
              "      <td>1.000000</td>\n",
              "      <td>0.500000</td>\n",
              "      <td>0.500000</td>\n",
              "      <td>0.000000</td>\n",
              "      <td>0.460641</td>\n",
              "      <td>...</td>\n",
              "      <td>0.301887</td>\n",
              "      <td>0.142857</td>\n",
              "      <td>0.742857</td>\n",
              "      <td>0.638095</td>\n",
              "      <td>0.150000</td>\n",
              "      <td>0.283333</td>\n",
              "      <td>0.551020</td>\n",
              "      <td>0.472222</td>\n",
              "      <td>0.473684</td>\n",
              "      <td>0.282632</td>\n",
              "    </tr>\n",
              "    <tr>\n",
              "      <th>max</th>\n",
              "      <td>1.000000</td>\n",
              "      <td>1.000000</td>\n",
              "      <td>1.000000</td>\n",
              "      <td>1.000000</td>\n",
              "      <td>1.000000</td>\n",
              "      <td>1.000000</td>\n",
              "      <td>1.000000</td>\n",
              "      <td>1.000000</td>\n",
              "      <td>1.000000</td>\n",
              "      <td>1.000000</td>\n",
              "      <td>...</td>\n",
              "      <td>1.000000</td>\n",
              "      <td>1.000000</td>\n",
              "      <td>1.000000</td>\n",
              "      <td>1.000000</td>\n",
              "      <td>1.000000</td>\n",
              "      <td>1.000000</td>\n",
              "      <td>1.000000</td>\n",
              "      <td>1.000000</td>\n",
              "      <td>1.000000</td>\n",
              "      <td>1.000000</td>\n",
              "    </tr>\n",
              "  </tbody>\n",
              "</table>\n",
              "<p>8 rows × 26 columns</p>\n",
              "</div>\n",
              "    <div class=\"colab-df-buttons\">\n",
              "\n",
              "  <div class=\"colab-df-container\">\n",
              "    <button class=\"colab-df-convert\" onclick=\"convertToInteractive('df-0888d7ba-39ab-4706-b21f-9d9f70bc0e4e')\"\n",
              "            title=\"Convert this dataframe to an interactive table.\"\n",
              "            style=\"display:none;\">\n",
              "\n",
              "  <svg xmlns=\"http://www.w3.org/2000/svg\" height=\"24px\" viewBox=\"0 -960 960 960\">\n",
              "    <path d=\"M120-120v-720h720v720H120Zm60-500h600v-160H180v160Zm220 220h160v-160H400v160Zm0 220h160v-160H400v160ZM180-400h160v-160H180v160Zm440 0h160v-160H620v160ZM180-180h160v-160H180v160Zm440 0h160v-160H620v160Z\"/>\n",
              "  </svg>\n",
              "    </button>\n",
              "\n",
              "  <style>\n",
              "    .colab-df-container {\n",
              "      display:flex;\n",
              "      gap: 12px;\n",
              "    }\n",
              "\n",
              "    .colab-df-convert {\n",
              "      background-color: #E8F0FE;\n",
              "      border: none;\n",
              "      border-radius: 50%;\n",
              "      cursor: pointer;\n",
              "      display: none;\n",
              "      fill: #1967D2;\n",
              "      height: 32px;\n",
              "      padding: 0 0 0 0;\n",
              "      width: 32px;\n",
              "    }\n",
              "\n",
              "    .colab-df-convert:hover {\n",
              "      background-color: #E2EBFA;\n",
              "      box-shadow: 0px 1px 2px rgba(60, 64, 67, 0.3), 0px 1px 3px 1px rgba(60, 64, 67, 0.15);\n",
              "      fill: #174EA6;\n",
              "    }\n",
              "\n",
              "    .colab-df-buttons div {\n",
              "      margin-bottom: 4px;\n",
              "    }\n",
              "\n",
              "    [theme=dark] .colab-df-convert {\n",
              "      background-color: #3B4455;\n",
              "      fill: #D2E3FC;\n",
              "    }\n",
              "\n",
              "    [theme=dark] .colab-df-convert:hover {\n",
              "      background-color: #434B5C;\n",
              "      box-shadow: 0px 1px 3px 1px rgba(0, 0, 0, 0.15);\n",
              "      filter: drop-shadow(0px 1px 2px rgba(0, 0, 0, 0.3));\n",
              "      fill: #FFFFFF;\n",
              "    }\n",
              "  </style>\n",
              "\n",
              "    <script>\n",
              "      const buttonEl =\n",
              "        document.querySelector('#df-0888d7ba-39ab-4706-b21f-9d9f70bc0e4e button.colab-df-convert');\n",
              "      buttonEl.style.display =\n",
              "        google.colab.kernel.accessAllowed ? 'block' : 'none';\n",
              "\n",
              "      async function convertToInteractive(key) {\n",
              "        const element = document.querySelector('#df-0888d7ba-39ab-4706-b21f-9d9f70bc0e4e');\n",
              "        const dataTable =\n",
              "          await google.colab.kernel.invokeFunction('convertToInteractive',\n",
              "                                                    [key], {});\n",
              "        if (!dataTable) return;\n",
              "\n",
              "        const docLinkHtml = 'Like what you see? Visit the ' +\n",
              "          '<a target=\"_blank\" href=https://colab.research.google.com/notebooks/data_table.ipynb>data table notebook</a>'\n",
              "          + ' to learn more about interactive tables.';\n",
              "        element.innerHTML = '';\n",
              "        dataTable['output_type'] = 'display_data';\n",
              "        await google.colab.output.renderOutput(dataTable, element);\n",
              "        const docLink = document.createElement('div');\n",
              "        docLink.innerHTML = docLinkHtml;\n",
              "        element.appendChild(docLink);\n",
              "      }\n",
              "    </script>\n",
              "  </div>\n",
              "\n",
              "\n",
              "<div id=\"df-d5e77fe3-0337-4685-9264-f4c909df40f9\">\n",
              "  <button class=\"colab-df-quickchart\" onclick=\"quickchart('df-d5e77fe3-0337-4685-9264-f4c909df40f9')\"\n",
              "            title=\"Suggest charts\"\n",
              "            style=\"display:none;\">\n",
              "\n",
              "<svg xmlns=\"http://www.w3.org/2000/svg\" height=\"24px\"viewBox=\"0 0 24 24\"\n",
              "     width=\"24px\">\n",
              "    <g>\n",
              "        <path d=\"M19 3H5c-1.1 0-2 .9-2 2v14c0 1.1.9 2 2 2h14c1.1 0 2-.9 2-2V5c0-1.1-.9-2-2-2zM9 17H7v-7h2v7zm4 0h-2V7h2v10zm4 0h-2v-4h2v4z\"/>\n",
              "    </g>\n",
              "</svg>\n",
              "  </button>\n",
              "\n",
              "<style>\n",
              "  .colab-df-quickchart {\n",
              "      --bg-color: #E8F0FE;\n",
              "      --fill-color: #1967D2;\n",
              "      --hover-bg-color: #E2EBFA;\n",
              "      --hover-fill-color: #174EA6;\n",
              "      --disabled-fill-color: #AAA;\n",
              "      --disabled-bg-color: #DDD;\n",
              "  }\n",
              "\n",
              "  [theme=dark] .colab-df-quickchart {\n",
              "      --bg-color: #3B4455;\n",
              "      --fill-color: #D2E3FC;\n",
              "      --hover-bg-color: #434B5C;\n",
              "      --hover-fill-color: #FFFFFF;\n",
              "      --disabled-bg-color: #3B4455;\n",
              "      --disabled-fill-color: #666;\n",
              "  }\n",
              "\n",
              "  .colab-df-quickchart {\n",
              "    background-color: var(--bg-color);\n",
              "    border: none;\n",
              "    border-radius: 50%;\n",
              "    cursor: pointer;\n",
              "    display: none;\n",
              "    fill: var(--fill-color);\n",
              "    height: 32px;\n",
              "    padding: 0;\n",
              "    width: 32px;\n",
              "  }\n",
              "\n",
              "  .colab-df-quickchart:hover {\n",
              "    background-color: var(--hover-bg-color);\n",
              "    box-shadow: 0 1px 2px rgba(60, 64, 67, 0.3), 0 1px 3px 1px rgba(60, 64, 67, 0.15);\n",
              "    fill: var(--button-hover-fill-color);\n",
              "  }\n",
              "\n",
              "  .colab-df-quickchart-complete:disabled,\n",
              "  .colab-df-quickchart-complete:disabled:hover {\n",
              "    background-color: var(--disabled-bg-color);\n",
              "    fill: var(--disabled-fill-color);\n",
              "    box-shadow: none;\n",
              "  }\n",
              "\n",
              "  .colab-df-spinner {\n",
              "    border: 2px solid var(--fill-color);\n",
              "    border-color: transparent;\n",
              "    border-bottom-color: var(--fill-color);\n",
              "    animation:\n",
              "      spin 1s steps(1) infinite;\n",
              "  }\n",
              "\n",
              "  @keyframes spin {\n",
              "    0% {\n",
              "      border-color: transparent;\n",
              "      border-bottom-color: var(--fill-color);\n",
              "      border-left-color: var(--fill-color);\n",
              "    }\n",
              "    20% {\n",
              "      border-color: transparent;\n",
              "      border-left-color: var(--fill-color);\n",
              "      border-top-color: var(--fill-color);\n",
              "    }\n",
              "    30% {\n",
              "      border-color: transparent;\n",
              "      border-left-color: var(--fill-color);\n",
              "      border-top-color: var(--fill-color);\n",
              "      border-right-color: var(--fill-color);\n",
              "    }\n",
              "    40% {\n",
              "      border-color: transparent;\n",
              "      border-right-color: var(--fill-color);\n",
              "      border-top-color: var(--fill-color);\n",
              "    }\n",
              "    60% {\n",
              "      border-color: transparent;\n",
              "      border-right-color: var(--fill-color);\n",
              "    }\n",
              "    80% {\n",
              "      border-color: transparent;\n",
              "      border-right-color: var(--fill-color);\n",
              "      border-bottom-color: var(--fill-color);\n",
              "    }\n",
              "    90% {\n",
              "      border-color: transparent;\n",
              "      border-bottom-color: var(--fill-color);\n",
              "    }\n",
              "  }\n",
              "</style>\n",
              "\n",
              "  <script>\n",
              "    async function quickchart(key) {\n",
              "      const quickchartButtonEl =\n",
              "        document.querySelector('#' + key + ' button');\n",
              "      quickchartButtonEl.disabled = true;  // To prevent multiple clicks.\n",
              "      quickchartButtonEl.classList.add('colab-df-spinner');\n",
              "      try {\n",
              "        const charts = await google.colab.kernel.invokeFunction(\n",
              "            'suggestCharts', [key], {});\n",
              "      } catch (error) {\n",
              "        console.error('Error during call to suggestCharts:', error);\n",
              "      }\n",
              "      quickchartButtonEl.classList.remove('colab-df-spinner');\n",
              "      quickchartButtonEl.classList.add('colab-df-quickchart-complete');\n",
              "    }\n",
              "    (() => {\n",
              "      let quickchartButtonEl =\n",
              "        document.querySelector('#df-d5e77fe3-0337-4685-9264-f4c909df40f9 button');\n",
              "      quickchartButtonEl.style.display =\n",
              "        google.colab.kernel.accessAllowed ? 'block' : 'none';\n",
              "    })();\n",
              "  </script>\n",
              "</div>\n",
              "\n",
              "    </div>\n",
              "  </div>\n"
            ],
            "application/vnd.google.colaboratory.intrinsic+json": {
              "type": "dataframe"
            }
          },
          "metadata": {},
          "execution_count": 8
        }
      ]
    },
    {
      "cell_type": "markdown",
      "source": [
        "## Модели регрессии"
      ],
      "metadata": {
        "id": "CynGh3FkTDKo"
      }
    },
    {
      "cell_type": "code",
      "source": [
        "X = scaler_df.drop(['price'], axis=1)\n",
        "y = scaler_df['price']\n",
        "\n",
        "X_train, X_test, y_train, y_test = train_test_split(X, y, test_size=0.30, random_state=15)"
      ],
      "metadata": {
        "id": "Ruo_3TVj33Qz"
      },
      "execution_count": 15,
      "outputs": []
    },
    {
      "cell_type": "markdown",
      "source": [
        "### Линейная регрессия"
      ],
      "metadata": {
        "id": "zCPeUIr2TUDX"
      }
    },
    {
      "cell_type": "code",
      "source": [
        "from sklearn.linear_model import LinearRegression\n",
        "\n",
        "# Create a linear regression model\n",
        "modelLR = LinearRegression()\n",
        "\n",
        "# Fit the model to the data\n",
        "modelLR.fit(X_train, y_train)\n",
        "\n",
        "# Predict the response for a new data point\n",
        "y_pr_LR = modelLR.predict(X_test)\n",
        "\n",
        "_ = Reg_Models_Evaluation_Metrics(modelLR, X_train, y_train, X_test, y_test, y_pr_LR)"
      ],
      "metadata": {
        "colab": {
          "base_uri": "https://localhost:8080/"
        },
        "id": "NycfBiFr5ufj",
        "outputId": "9a8481db-f3bf-431b-a240-1bc5fe36bcba"
      },
      "execution_count": 16,
      "outputs": [
        {
          "output_type": "stream",
          "name": "stdout",
          "text": [
            "RMSE:  0.0641\n",
            "  R2: 0.9018\n",
            " Adjusted R2: 0.8335\n",
            " Cross Validated R2: 0.7997\n"
          ]
        }
      ]
    },
    {
      "cell_type": "code",
      "source": [
        "plt.scatter(X_train[\"horsepower\"], y_train, color='g', label='data')\n",
        "plt.scatter(X_train[\"horsepower\"], modelLR.predict(X_train), color='cornflowerblue', label='prediction')\n",
        "plt.ylabel('price', size=12)\n",
        "plt.xlabel('horsepower', size=12)\n",
        "plt.legend()\n",
        "plt.show()"
      ],
      "metadata": {
        "colab": {
          "base_uri": "https://localhost:8080/",
          "height": 453
        },
        "id": "LQo98usm6Jr6",
        "outputId": "1909530d-85c9-4ba7-9069-98a66559f2c4"
      },
      "execution_count": 17,
      "outputs": [
        {
          "output_type": "display_data",
          "data": {
            "text/plain": [
              "<Figure size 640x480 with 1 Axes>"
            ],
            "image/png": "[encoded data removed]"
          },
          "metadata": {}
        }
      ]
    },
    {
      "cell_type": "markdown",
      "source": [
        "### Полиномиальная регрессия"
      ],
      "metadata": {
        "id": "XJ8Q2fzPTYx2"
      }
    },
    {
      "cell_type": "code",
      "source": [
        "from sklearn.preprocessing import PolynomialFeatures\n",
        "\n",
        "poly = PolynomialFeatures(degree=5)\n",
        "\n",
        "poly_features = poly.fit_transform(X)\n",
        "X_p_train, X_p_test, y_p_train, y_p_test = train_test_split(poly_features, y, test_size=0.3, random_state=15)\n",
        "\n",
        "# Create a linear regression model\n",
        "modelPR = LinearRegression()\n",
        "\n",
        "# Fit the model to the data\n",
        "modelPR.fit(X_p_train, y_p_train)\n",
        "\n",
        "# Predict the response for a new data point\n",
        "y_pr_PR = modelPR.predict(X_p_test)\n",
        "\n",
        "_ = Reg_Models_Evaluation_Metrics(modelPR, X_p_train, y_p_train, X_p_test, y_p_test, y_pr_PR)"
      ],
      "metadata": {
        "colab": {
          "base_uri": "https://localhost:8080/"
        },
        "id": "fuoR1_wG68UL",
        "outputId": "a870205e-3a8e-48c7-db02-32f95c900cb2"
      },
      "execution_count": 23,
      "outputs": [
        {
          "output_type": "stream",
          "name": "stdout",
          "text": [
            "RMSE:  0.5294\n",
            "  R2: -5.6947\n",
            " Adjusted R2: 1.0029\n",
            " Cross Validated R2: -16.7436\n"
          ]
        }
      ]
    },
    {
      "cell_type": "markdown",
      "source": [
        "Метрики плохии, модель не подходит для прогнозирования"
      ],
      "metadata": {
        "id": "-nId8v_dTeN0"
      }
    },
    {
      "cell_type": "markdown",
      "source": [
        "### Регрессия дерева принятия решений"
      ],
      "metadata": {
        "id": "WvHDxDcpTdV8"
      }
    },
    {
      "cell_type": "code",
      "source": [
        "from sklearn.tree import DecisionTreeRegressor\n",
        "\n",
        "# Create a stepwise regression model\n",
        "modelDT = DecisionTreeRegressor()\n",
        "\n",
        "# Fit the model to the data\n",
        "modelDT.fit(X_train, y_train)\n",
        "\n",
        "# Predict the response for a new data point\n",
        "y_dt_pred = modelDT.predict(X_test)\n",
        "\n",
        "_ = Reg_Models_Evaluation_Metrics(modelDT, X_train, y_train, X_test, y_test, y_dt_pred)"
      ],
      "metadata": {
        "colab": {
          "base_uri": "https://localhost:8080/"
        },
        "id": "Nhrm7VYi-2Yo",
        "outputId": "d177160f-0bdc-40b9-aa17-559625b4c1a7"
      },
      "execution_count": 24,
      "outputs": [
        {
          "output_type": "stream",
          "name": "stdout",
          "text": [
            "RMSE:  0.0632\n",
            "  R2: 0.9047\n",
            " Adjusted R2: 0.8385\n",
            " Cross Validated R2: 0.7981\n"
          ]
        }
      ]
    },
    {
      "cell_type": "code",
      "source": [
        "plt.scatter(X_train[\"horsepower\"], y_train, color='g', label='data')\n",
        "plt.scatter(X_train[\"horsepower\"], modelDT.predict(X_train), color='cornflowerblue', label='prediction')\n",
        "plt.ylabel('price', size=12)\n",
        "plt.xlabel('horsepower', size=12)\n",
        "plt.legend()\n",
        "plt.show()"
      ],
      "metadata": {
        "colab": {
          "base_uri": "https://localhost:8080/",
          "height": 453
        },
        "id": "PygXELFWAIOS",
        "outputId": "bf3da572-0b55-4df3-dd0c-1c93053e5d52"
      },
      "execution_count": 25,
      "outputs": [
        {
          "output_type": "display_data",
          "data": {
            "text/plain": [
              "<Figure size 640x480 with 1 Axes>"
            ],
            "image/png": "[encoded data removed]"
          },
          "metadata": {}
        }
      ]
    },
    {
      "cell_type": "markdown",
      "source": [
        "### Регрессия случайного леса"
      ],
      "metadata": {
        "id": "SAgsfToYTvXW"
      }
    },
    {
      "cell_type": "code",
      "source": [
        "from sklearn.ensemble import RandomForestRegressor\n",
        "\n",
        "# Create a stepwise regression model\n",
        "modelRF = RandomForestRegressor(n_estimators=100)\n",
        "\n",
        "# Fit the model to the data\n",
        "modelRF.fit(X_train, y_train)\n",
        "\n",
        "# Predict the response for a new data point\n",
        "y_rf_pred = modelRF.predict(X_test)\n",
        "\n",
        "\n",
        "_ = Reg_Models_Evaluation_Metrics(modelRF, X_train, y_train, X_test, y_test, y_rf_pred)"
      ],
      "metadata": {
        "colab": {
          "base_uri": "https://localhost:8080/"
        },
        "id": "VQ7SMsN--9zT",
        "outputId": "c10062da-22c7-4127-9784-3ef566478206"
      },
      "execution_count": 26,
      "outputs": [
        {
          "output_type": "stream",
          "name": "stdout",
          "text": [
            "RMSE:  0.0475\n",
            "  R2: 0.9462\n",
            " Adjusted R2: 0.9088\n",
            " Cross Validated R2: 0.8829\n"
          ]
        }
      ]
    },
    {
      "cell_type": "code",
      "source": [
        "plt.scatter(X_train[\"horsepower\"], y_train, color='g', label='data')\n",
        "plt.scatter(X_train[\"horsepower\"], modelRF.predict(X_train), color='cornflowerblue', label='prediction')\n",
        "plt.ylabel('price', size=12)\n",
        "plt.xlabel('horsepower', size=12)\n",
        "plt.legend()\n",
        "plt.show()"
      ],
      "metadata": {
        "colab": {
          "base_uri": "https://localhost:8080/",
          "height": 453
        },
        "id": "-8JIyRSyAai3",
        "outputId": "5b724aec-44d6-43c3-c8f8-cef9a65ff3ce"
      },
      "execution_count": 27,
      "outputs": [
        {
          "output_type": "display_data",
          "data": {
            "text/plain": [
              "<Figure size 640x480 with 1 Axes>"
            ],
            "image/png": "[encoded data removed]"
          },
          "metadata": {}
        }
      ]
    },
    {
      "cell_type": "markdown",
      "source": [
        "### Регрессия опорных векторов (SVR)"
      ],
      "metadata": {
        "id": "w1QYhX5TTzoi"
      }
    },
    {
      "cell_type": "code",
      "source": [
        "from sklearn.svm import SVR"
      ],
      "metadata": {
        "id": "bkYvZc35UMdL"
      },
      "execution_count": 29,
      "outputs": []
    },
    {
      "cell_type": "markdown",
      "source": [
        "#### Линейное ядро"
      ],
      "metadata": {
        "id": "Oz-KI7eRUPP1"
      }
    },
    {
      "cell_type": "code",
      "source": [
        "# Create a support vector regression model\n",
        "modelSVR_L = SVR(kernel='linear')\n",
        "\n",
        "modelSVR_L.fit(X_train, y_train)\n",
        "\n",
        "# Predict the response for a new data point\n",
        "y_rf_pred = modelSVR_L.predict(X_test)\n",
        "\n",
        "\n",
        "_ = Reg_Models_Evaluation_Metrics(modelSVR_L, X_train, y_train, X_test, y_test, y_rf_pred)"
      ],
      "metadata": {
        "colab": {
          "base_uri": "https://localhost:8080/"
        },
        "id": "aXcc0lJR6_ri",
        "outputId": "d22f4f9d-49a8-4762-ffdb-231cbf65c0bd"
      },
      "execution_count": 28,
      "outputs": [
        {
          "output_type": "stream",
          "name": "stdout",
          "text": [
            "RMSE:  0.0687\n",
            "  R2: 0.8873\n",
            " Adjusted R2: 0.809\n",
            " Cross Validated R2: 0.7445\n"
          ]
        }
      ]
    },
    {
      "cell_type": "code",
      "source": [
        "plt.scatter(X_train[\"horsepower\"], y_train, color='g', label='data')\n",
        "plt.scatter(X_train[\"horsepower\"], modelSVR_L.predict(X_train), color='cornflowerblue', label='prediction')\n",
        "plt.ylabel('price', size=12)\n",
        "plt.xlabel('horsepower', size=12)\n",
        "plt.legend()\n",
        "plt.show()"
      ],
      "metadata": {
        "colab": {
          "base_uri": "https://localhost:8080/",
          "height": 453
        },
        "id": "aTcMF1hl7D9U",
        "outputId": "f8b8145a-43ae-4d3b-8c69-052a76586000"
      },
      "execution_count": null,
      "outputs": [
        {
          "output_type": "display_data",
          "data": {
            "text/plain": [
              "<Figure size 640x480 with 1 Axes>"
            ],
            "image/png": "[encoded data removed]"
          },
          "metadata": {}
        }
      ]
    },
    {
      "cell_type": "markdown",
      "source": [
        "#### Полиномиальное ядро"
      ],
      "metadata": {
        "id": "9uQ3KWoJUfWD"
      }
    },
    {
      "cell_type": "code",
      "source": [
        "modelSVR_P = SVR(kernel='poly')\n",
        "\n",
        "modelSVR_P.fit(X_train, y_train)\n",
        "\n",
        "# Predict the response for a new data point\n",
        "y_rf_pred = modelSVR_P.predict(X_test)\n",
        "\n",
        "\n",
        "_ = Reg_Models_Evaluation_Metrics(modelSVR_P, X_train, y_train, X_test, y_test, y_rf_pred)"
      ],
      "metadata": {
        "colab": {
          "base_uri": "https://localhost:8080/"
        },
        "id": "Y3C5qavv7MhT",
        "outputId": "1c4d0bbf-a58f-45d6-87a9-5ea475498cb0"
      },
      "execution_count": 30,
      "outputs": [
        {
          "output_type": "stream",
          "name": "stdout",
          "text": [
            "RMSE:  0.0728\n",
            "  R2: 0.8733\n",
            " Adjusted R2: 0.7853\n",
            " Cross Validated R2: 0.722\n"
          ]
        }
      ]
    },
    {
      "cell_type": "code",
      "source": [
        "plt.scatter(X_train[\"horsepower\"], y_train, color='darkorange',\n",
        "            label='data')\n",
        "plt.scatter(X_train[\"horsepower\"], modelSVR_P.predict(X_train), color='cornflowerblue',\n",
        "         label='prediction')\n",
        "plt.ylabel('price', size=12)\n",
        "plt.xlabel('horsepower', size=12)\n",
        "plt.legend()\n",
        "plt.show()"
      ],
      "metadata": {
        "colab": {
          "base_uri": "https://localhost:8080/",
          "height": 453
        },
        "id": "qeEdy7uIALlR",
        "outputId": "34706fdb-36e3-4d66-85f7-556653462c00"
      },
      "execution_count": 31,
      "outputs": [
        {
          "output_type": "display_data",
          "data": {
            "text/plain": [
              "<Figure size 640x480 with 1 Axes>"
            ],
            "image/png": "[encoded data removed]"
          },
          "metadata": {}
        }
      ]
    },
    {
      "cell_type": "markdown",
      "source": [
        "#### Ядро радиальной базисной функции"
      ],
      "metadata": {
        "id": "ddLxVv14Un7A"
      }
    },
    {
      "cell_type": "code",
      "source": [
        "modelSVR_R = SVR(kernel='rbf')\n",
        "\n",
        "modelSVR_R.fit(X_train, y_train)\n",
        "\n",
        "# Predict the response for a new data point\n",
        "y_rf_pred = modelSVR_R.predict(X_test)\n",
        "\n",
        "\n",
        "_ = Reg_Models_Evaluation_Metrics(modelSVR_R, X_train, y_train, X_test, y_test, y_rf_pred)"
      ],
      "metadata": {
        "colab": {
          "base_uri": "https://localhost:8080/"
        },
        "id": "Z7vQhq1V_v_f",
        "outputId": "6d0c7705-c4a0-49a8-b915-4f3028103f98"
      },
      "execution_count": null,
      "outputs": [
        {
          "output_type": "stream",
          "name": "stdout",
          "text": [
            "RMSE:  0.0715\n",
            "  R2: 0.8811\n",
            " Adjusted R2: 0.6829\n",
            " Cross Validated R2: 0.7849\n"
          ]
        }
      ]
    },
    {
      "cell_type": "code",
      "source": [
        "plt.scatter(X_train[\"horsepower\"], y_train, color='darkorange',\n",
        "            label='data')\n",
        "plt.scatter(X_train[\"horsepower\"], modelSVR_R.predict(X_train), color='cornflowerblue',\n",
        "         label='prediction')\n",
        "plt.ylabel('price', size=12)\n",
        "plt.xlabel('horsepower', size=12)\n",
        "plt.legend()\n",
        "plt.show()"
      ],
      "metadata": {
        "colab": {
          "base_uri": "https://localhost:8080/",
          "height": 453
        },
        "id": "CCTlGz8FADuf",
        "outputId": "6ae6fd2c-b932-4058-eb80-ffc8ad86d202"
      },
      "execution_count": null,
      "outputs": [
        {
          "output_type": "display_data",
          "data": {
            "text/plain": [
              "<Figure size 640x480 with 1 Axes>"
            ],
            "image/png": "[encoded data removed]"
          },
          "metadata": {}
        }
      ]
    },
    {
      "cell_type": "markdown",
      "source": [
        "### Регрессия ElasticNet"
      ],
      "metadata": {
        "id": "0Xvko7TMU_13"
      }
    },
    {
      "cell_type": "code",
      "source": [
        "from sklearn.linear_model import ElasticNet"
      ],
      "metadata": {
        "id": "FU5Uick4VF5n"
      },
      "execution_count": 33,
      "outputs": []
    },
    {
      "cell_type": "markdown",
      "source": [
        "#### Частный случай. Регрессия Риджа\n",
        "\n"
      ],
      "metadata": {
        "id": "xtkDtMKAVhBU"
      }
    },
    {
      "cell_type": "code",
      "source": [
        "# Create an elastic net regression model\n",
        "modelEN = ElasticNet(alpha=0.0, l1_ratio=0.0)\n",
        "\n",
        "# Fit the model to the data\n",
        "modelEN.fit(X_train, y_train)\n",
        "\n",
        "# Predict the response for a new data point\n",
        "y_en_pred = modelEN.predict(X_test)\n",
        "\n",
        "_ = Reg_Models_Evaluation_Metrics(modelEN, X_train, y_train, X_test, y_test, y_en_pred)"
      ],
      "metadata": {
        "colab": {
          "base_uri": "https://localhost:8080/"
        },
        "id": "wW_Bpj5g_vIT",
        "outputId": "cc589a21-8a10-47c1-a0b7-5b64a21c7edb"
      },
      "execution_count": 73,
      "outputs": [
        {
          "output_type": "stream",
          "name": "stdout",
          "text": [
            "RMSE:  0.0641\n",
            "  R2: 0.902\n",
            " Adjusted R2: 0.8339\n",
            " Cross Validated R2: 0.7999\n"
          ]
        }
      ]
    },
    {
      "cell_type": "code",
      "source": [
        "plt.scatter(X_train[\"horsepower\"], y_train, color='darkorange',\n",
        "            label='data')\n",
        "plt.scatter(X_train[\"horsepower\"], modelEN.predict(X_train), color='cornflowerblue',\n",
        "         label='prediction')\n",
        "plt.ylabel('price', size=12)\n",
        "plt.xlabel('horsepower', size=12)\n",
        "plt.legend()\n",
        "plt.show()"
      ],
      "metadata": {
        "colab": {
          "base_uri": "https://localhost:8080/",
          "height": 453
        },
        "id": "7NwRq2J1_xf8",
        "outputId": "800c6592-9990-4233-8e2f-9943f193319f"
      },
      "execution_count": 74,
      "outputs": [
        {
          "output_type": "display_data",
          "data": {
            "text/plain": [
              "<Figure size 640x480 with 1 Axes>"
            ],
            "image/png": "[encoded data removed]"
          },
          "metadata": {}
        }
      ]
    },
    {
      "cell_type": "markdown",
      "source": [
        "#### Частный случай. Регрессия Лассо"
      ],
      "metadata": {
        "id": "bYFFqxLVVtLq"
      }
    },
    {
      "cell_type": "code",
      "source": [
        "# Create an elastic net regression model\n",
        "modelEN = ElasticNet(alpha=0.01, l1_ratio=1.0)\n",
        "\n",
        "# Fit the model to the data\n",
        "modelEN.fit(X_train, y_train)\n",
        "\n",
        "# Predict the response for a new data point\n",
        "y_en_pred = modelEN.predict(X_test)\n",
        "\n",
        "_ = Reg_Models_Evaluation_Metrics(modelEN, X_train, y_train, X_test, y_test, y_en_pred)"
      ],
      "metadata": {
        "id": "Az2AoXHi_3wM",
        "colab": {
          "base_uri": "https://localhost:8080/"
        },
        "outputId": "d2806408-5d52-4d0c-d4a2-e7c434acb8e7"
      },
      "execution_count": 54,
      "outputs": [
        {
          "output_type": "stream",
          "name": "stdout",
          "text": [
            "RMSE:  0.1093\n",
            "  R2: 0.7149\n",
            " Adjusted R2: 0.5169\n",
            " Cross Validated R2: 0.5975\n"
          ]
        }
      ]
    },
    {
      "cell_type": "code",
      "source": [
        "plt.scatter(X_train[\"horsepower\"], y_train, color='darkorange',\n",
        "            label='data')\n",
        "plt.scatter(X_train[\"horsepower\"], modelEN.predict(X_train), color='cornflowerblue',\n",
        "         label='prediction')\n",
        "plt.ylabel('price', size=12)\n",
        "plt.xlabel('horsepower', size=12)\n",
        "plt.legend()\n",
        "plt.show()"
      ],
      "metadata": {
        "colab": {
          "base_uri": "https://localhost:8080/",
          "height": 453
        },
        "id": "6L41zfGrV495",
        "outputId": "ca636d2e-24ce-44fc-8ccf-4116bf5672cf"
      },
      "execution_count": 55,
      "outputs": [
        {
          "output_type": "display_data",
          "data": {
            "text/plain": [
              "<Figure size 640x480 with 1 Axes>"
            ],
            "image/png": "[encoded data removed]"
          },
          "metadata": {}
        }
      ]
    },
    {
      "cell_type": "markdown",
      "source": [
        "#### Общий случай"
      ],
      "metadata": {
        "id": "LXkTP22HWZOF"
      }
    },
    {
      "cell_type": "code",
      "source": [
        "# Create an elastic net regression model\n",
        "modelEN = ElasticNet(alpha=0.01, l1_ratio=0.5)\n",
        "\n",
        "# Fit the model to the data\n",
        "modelEN.fit(X_train, y_train)\n",
        "\n",
        "# Predict the response for a new data point\n",
        "y_en_pred = modelEN.predict(X_test)\n",
        "\n",
        "_ = Reg_Models_Evaluation_Metrics(modelEN, X_train, y_train, X_test, y_test, y_en_pred)"
      ],
      "metadata": {
        "colab": {
          "base_uri": "https://localhost:8080/"
        },
        "id": "GDb3_63HWSFS",
        "outputId": "acb44f2c-03c2-4272-9da9-a641fc6cca6b"
      },
      "execution_count": 71,
      "outputs": [
        {
          "output_type": "stream",
          "name": "stdout",
          "text": [
            "RMSE:  0.0759\n",
            "  R2: 0.8622\n",
            " Adjusted R2: 0.7666\n",
            " Cross Validated R2: 0.691\n"
          ]
        }
      ]
    },
    {
      "cell_type": "code",
      "source": [
        "plt.scatter(X_train[\"horsepower\"], y_train, color='darkorange',\n",
        "            label='data')\n",
        "plt.scatter(X_train[\"horsepower\"], modelEN.predict(X_train), color='cornflowerblue',\n",
        "         label='prediction')\n",
        "plt.ylabel('price', size=12)\n",
        "plt.xlabel('horsepower', size=12)\n",
        "plt.legend()\n",
        "plt.show()"
      ],
      "metadata": {
        "colab": {
          "base_uri": "https://localhost:8080/",
          "height": 453
        },
        "id": "9hlgI16_Wlm2",
        "outputId": "401bc98f-11ef-4aef-81f4-e56aefc460ec"
      },
      "execution_count": 72,
      "outputs": [
        {
          "output_type": "display_data",
          "data": {
            "text/plain": [
              "<Figure size 640x480 with 1 Axes>"
            ],
            "image/png": "[encoded data removed]"
          },
          "metadata": {}
        }
      ]
    },
    {
      "cell_type": "code",
      "source": [],
      "metadata": {
        "id": "P7ZkyWjAWpea"
      },
      "execution_count": null,
      "outputs": []
    }
  ]
}